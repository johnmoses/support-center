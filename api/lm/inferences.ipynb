{
 "cells": [
  {
   "cell_type": "markdown",
   "metadata": {},
   "source": [
    "# Language Model Inferences"
   ]
  },
  {
   "cell_type": "markdown",
   "metadata": {},
   "source": [
    "Libraries"
   ]
  },
  {
   "cell_type": "code",
   "execution_count": 1,
   "metadata": {},
   "outputs": [
    {
     "name": "stderr",
     "output_type": "stream",
     "text": [
      "2024-10-22 09:00:55.501328: I tensorflow/core/platform/cpu_feature_guard.cc:182] This TensorFlow binary is optimized to use available CPU instructions in performance-critical operations.\n",
      "To enable the following instructions: SSE4.1 SSE4.2, in other operations, rebuild TensorFlow with the appropriate compiler flags.\n"
     ]
    }
   ],
   "source": [
    "import os\n",
    "import json\n",
    "import random\n",
    "from transformers import AutoModelForSeq2SeqLM, AutoModel, AutoTokenizer, pipeline\n",
    "from transformers import BertTokenizerFast, BertForSequenceClassification"
   ]
  },
  {
   "cell_type": "code",
   "execution_count": 2,
   "metadata": {},
   "outputs": [],
   "source": [
    "base_model_path = os.path.join(\"../../ai/Banking/bert-model\")\n",
    "sql_model_path = os.path.join(\"../../ai/SQL/model-t5\")\n",
    "support_model_path = os.path.join(\"../../ai/Support/model-t5\")"
   ]
  },
  {
   "cell_type": "code",
   "execution_count": 3,
   "metadata": {},
   "outputs": [],
   "source": [
    "base_model = BertForSequenceClassification.from_pretrained(\n",
    "    base_model_path\n",
    ")"
   ]
  },
  {
   "cell_type": "code",
   "execution_count": 4,
   "metadata": {},
   "outputs": [],
   "source": [
    "base_tokenizer = BertTokenizerFast.from_pretrained(\n",
    "    base_model_path\n",
    ")"
   ]
  },
  {
   "cell_type": "code",
   "execution_count": 5,
   "metadata": {},
   "outputs": [],
   "source": [
    "base_pipe = pipeline(\n",
    "    task='sentiment-analysis',\n",
    "    model=base_model, \n",
    "    tokenizer=base_tokenizer, \n",
    "    device='mps'\n",
    ")"
   ]
  },
  {
   "cell_type": "code",
   "execution_count": 6,
   "metadata": {},
   "outputs": [
    {
     "data": {
      "text/plain": [
       "[{'label': 'greeting', 'score': 0.9989669322967529}]"
      ]
     },
     "execution_count": 6,
     "metadata": {},
     "output_type": "execute_result"
    }
   ],
   "source": [
    "base_pipe(\"Hello\")"
   ]
  },
  {
   "cell_type": "code",
   "execution_count": 7,
   "metadata": {},
   "outputs": [],
   "source": [
    "def predict(text):\n",
    "    inputs = base_tokenizer(text, padding=True, truncation=True, max_length=512, return_tensors=\"pt\").to(\"mps\")\n",
    "    outputs = base_model(**inputs)\n",
    "    probs = outputs[0].softmax(1)\n",
    "    pred_label_idx = probs.argmax()\n",
    "    pred_label = base_model.config.id2label[pred_label_idx.item()]\n",
    "\n",
    "    return probs, pred_label_idx, pred_label\n"
   ]
  },
  {
   "cell_type": "code",
   "execution_count": 8,
   "metadata": {},
   "outputs": [
    {
     "data": {
      "text/plain": [
       "(tensor([[9.9897e-01, 4.0382e-05, 5.0594e-05, 2.0533e-05, 4.7807e-05, 1.3049e-05,\n",
       "          1.7133e-05, 2.4188e-05, 1.1959e-05, 2.3613e-05, 3.7294e-05, 3.9787e-05,\n",
       "          4.8652e-05, 4.1899e-05, 1.0683e-05, 3.7709e-05, 1.7957e-05, 2.8868e-05,\n",
       "          3.0518e-05, 2.7206e-05, 1.1888e-05, 3.5707e-05, 2.1373e-05, 1.7299e-05,\n",
       "          1.1532e-05, 1.4921e-05, 1.5354e-05, 5.2564e-05, 9.3531e-06, 1.2270e-05,\n",
       "          2.2896e-05, 4.4233e-05, 4.9501e-05, 2.9215e-05, 4.3846e-05, 3.2940e-05,\n",
       "          2.5992e-05, 1.2399e-05]], device='mps:0', grad_fn=<SoftmaxBackward0>),\n",
       " tensor(0, device='mps:0'),\n",
       " 'greeting')"
      ]
     },
     "execution_count": 8,
     "metadata": {},
     "output_type": "execute_result"
    }
   ],
   "source": [
    "text = \"Hello\"\n",
    "predict(text)"
   ]
  },
  {
   "cell_type": "markdown",
   "metadata": {},
   "source": [
    "Prepare data for more inference"
   ]
  },
  {
   "cell_type": "code",
   "execution_count": 9,
   "metadata": {},
   "outputs": [],
   "source": [
    "def load_json_file(filename):\n",
    "    with open(filename) as f:\n",
    "        file=json.load(f)\n",
    "    return file   "
   ]
  },
  {
   "cell_type": "code",
   "execution_count": 10,
   "metadata": {},
   "outputs": [
    {
     "name": "stdout",
     "output_type": "stream",
     "text": [
      "{'intents': [{'tag': 'greeting', 'patterns': ['Hi', 'Is anyone there?', 'Hello', 'Good day', \"What's up\", 'whatsup', 'Hi there, can you help me with something?', 'Hello! I have a question. Can you assist me?', 'Hey, I need your help with something.', 'Good morning/afternoon/evening! Can you answer a question for me?', 'Greetings! I need your assistance with something.', 'Hi,can you provide me with some information?', 'Hello, can you help me with a task?', \"Hey,I'm looking for some guidance. Can you help?\", 'Good day! Can you assist me with a query?', 'Hi,I would like to ask you a question.', 'Hello', 'Greetings', 'Good morning', 'Good afternoon', 'Good evening', 'Salutations', 'Pleasure to chat with you', \"It's great to talk with you\", 'Hi chatbot', 'Hello chatbot', 'Hey chatbot', \"What's new\", \"How's it going\", \"What's happening\", 'What can you do for me', 'Can you help me', 'I need your help', 'I have a question', \"I'm here to chat\", \"Let's talk\"], 'responses': ['Hello!', 'Hi there, how can I help?', 'Greetings, how may i help you?', 'Good day, what brings you here?', 'Yo, what can I do for you?', 'Hey there, how may I assist you?', 'Welcome, what can I help you with?', 'Nice to meet you, how may I be of assistance?', 'Pleasure to chat with you, what can I do for you?', \"I'm a chatbot, how can I help you today?\", 'My name is [bot name], what can I do for you?', \"I'm here to help, what can I assist you with?\", \"What's up, how may I assist you today?\", 'Hi, how can I be of service?', 'Good to see you, what can I help you with?', 'Hi there, what brings you to me?', \"I'm here to answer your questions, what would you like to know?\", 'How may I be of assistance to you today?', 'Hi, what can I do for you today?', 'What can I help you with today?', \"I'm here to chat with you, what would you like to talk about?\", 'How may I assist you in solving your problem?', \"I'm here to assist you, what can I do for you today?\", 'Hi, how can I make your day better?', 'What can I do to assist you today?', \"I'm here to listen to you, what can I help you with?\", 'Hi there, how may I assist you with your inquiry?', \"I'm here to answer your questions, what would you like to know\", 'What can I help you with today?', \"I'm here to make your life easier, how can I assist you?\", 'How can I help you today?', \"I'm here to make things easier for you, what can I do for you?\", 'Hi, how can I assist you today?', \"What's on your mind, how may I assist you today?\", 'How may I assist you in resolving your issue?', \"I'm here to assist you, what can I do for you today?\", 'Hi there, what can I help you with?', 'How may I be of service to you today?', \"I'm here to assist you with your needs, what can I do for you?\", 'How can I make your day better today?', \"I'm here to make things easier for you, what can I help you with?\", 'Hi there, how may I assist you in solving your problem?', 'What can I help you with today', \"I'm here to help you out, what can I do for you?\", 'How may I be of assistance today?', \"I'm here to provide answers to your questions, what would you like to know?\", 'Hi, how can I help you today?', 'How may I assist you in achieving your goals?']}, {'tag': 'thanks', 'patterns': ['Thanks', 'Thank you', \"That's helpful\", \"Thank's a lot!\", 'Okay'], 'responses': ['Happy to help!', 'Any time!', 'My pleasure']}, {'tag': 'goodbye', 'patterns': ['Bye', 'See you later', 'Goodbye'], 'responses': ['See you later, thanks for visiting', 'Have a nice day', 'Bye! Come back again soon.']}, {'tag': 'can_do', 'patterns': ['What can i get here?', 'What more can i do?', 'What else can i do?'], 'responses': ['Count attendance reports at locationid ', 'List attendance reports at location this month', 'Show attendance report']}, {'tag': 'attendance_count', 'patterns': ['Count attendance reports at locationid '], 'responses': ['Report:']}, {'tag': 'attendance_list', 'patterns': ['List attendance reports at locationid '], 'responses': ['Report:']}, {'tag': 'finance_count', 'patterns': ['Count financial reports at locationid '], 'responses': ['Report:']}, {'tag': 'finance_list', 'patterns': ['List financial reports at locationid '], 'responses': ['Report:']}, {'tag': 'testimony_count', 'patterns': ['Count testimony reports at locationid'], 'responses': ['Report:']}, {'tag': 'testimony_list', 'patterns': ['List testimony reports at locationid'], 'responses': ['Report:']}, {'tag': 'report_submission', 'patterns': ['report: locationid is, meetingid is, meetingdate is '], 'responses': ['God bless you for submitting your report', 'Good work! Thanks.', 'Thanks for submitting your report']}, {'tag': 'report_sample', 'patterns': ['Show me a report format', 'Is there an example of a report?', 'What is the pattern for reporting', 'Sample report', 'sample report'], 'responses': ['Report: locationid is 485, meetingid is 1, meetingdate is 2024/06/16, men are 2,  women are 3, youthboys are 4, youthgirls are 5, childrenboys are 6, childrengirls are 7, newcomers are 1, newconverts are 1.', 'Report: locationid is 485, meetingid is 1, meetingdate is 2024/06/16, slipnumber is 122, naira is 100, dollar is 10.', 'Report: locationid is 485, meetingid is 1, meetingdate is 2024/06/16, My testimony is how God saved me, I was a terrible sinner.', 'Report: locationid is 485, meetingid is 1, meetingdate is 2024/06/16, men are 2,  women are 3, youthboys are 4, youthgirls are 5, childrenboys are 6, childrengirls are 7, newcomers are 1,  newconverts are 1, slipnumber is 122, naira is 100, dollar is 10.', 'Report: locationid is 485, meetingid is 1, meetingdate is 2024/06/16, men are 2,  women are 3, youthboys are 4, youthgirls are 5, childrenboys are 6, childrengirls are 7, newcomers are 1,  newconverts are 1, slipnumber is 122, naira is 100. My testimony is this healing and deliverance.']}, {'tag': 'countrystate_list', 'patterns': ['List my Country/States', 'List my Country/States', 'List my country/states', 'List my Country States', 'List my country states', 'List my country/states', 'List my country-states'], 'responses': ['My Country/States:']}, {'tag': 'region_list', 'patterns': ['List my Regions', 'list my regions'], 'responses': ['My Regions:']}, {'tag': 'group_list', 'patterns': ['List my Groups', 'list my groups'], 'responses': ['My Groups:']}, {'tag': 'location_list', 'patterns': ['List my locations', 'list my locations'], 'responses': ['Locations:']}, {'tag': 'countrystate_show', 'patterns': ['show country/state with countrystateid ', 'show country-state with countrystateid'], 'responses': ['Country/state:']}, {'tag': 'region_show', 'patterns': ['Show region with regionid', 'show region regionid'], 'responses': ['Region:']}, {'tag': 'group_show', 'patterns': ['Show group with groupid', 'show group with groupid'], 'responses': ['Group:']}, {'tag': 'location_show', 'patterns': ['Show location with locationid', 'show location with locationid'], 'responses': ['Location:']}, {'tag': 'countrystate_admin_list', 'patterns': ['list country/state admins at countrystateid '], 'responses': ['Country/States admins:']}, {'tag': 'region_admin_list', 'patterns': ['list region admins at regionid'], 'responses': ['Region admins:']}, {'tag': 'group_admin_list', 'patterns': ['list group admins at groupid'], 'responses': ['Group admins:']}, {'tag': 'location_admin_list', 'patterns': ['list location admins at locationid'], 'responses': ['Location admins:']}, {'tag': 'countrystate_admin_add', 'patterns': ['add to country/state with countrystateid admin with userid'], 'responses': ['Adding Country/States admins...']}, {'tag': 'region_admin_add', 'patterns': ['add to region with regionid admin with userid '], 'responses': ['Adding Region admins...:']}, {'tag': 'group_admin_add', 'patterns': ['add to group with groupid admin with userid'], 'responses': ['Adding Group admins...']}, {'tag': 'location_admin_add', 'patterns': ['add to location with locationid admin with userid '], 'responses': ['Adding Location admins...']}, {'tag': 'countrystate_admin_remove', 'patterns': ['remove from country/state with countrystateid admin with userid'], 'responses': ['Removing Country/States admin...']}, {'tag': 'region_admin_remove', 'patterns': ['remove from region with regionid admin with userid'], 'responses': ['Removing Region admins...:']}, {'tag': 'group_admin_remove', 'patterns': ['remove from group with groupid admin with userid'], 'responses': ['Removing Group admin...']}, {'tag': 'location_admin_remove', 'patterns': ['remove from location with locationid admin with userid'], 'responses': ['Removing Location admin...']}, {'tag': 'meeting_list', 'patterns': ['list our meetings', 'what about meetings', 'list meeting and codes'], 'responses': ['Meetings:']}, {'tag': 'user_show', 'patterns': ['show my user information', 'show my user info'], 'responses': ['Your user info:']}, {'tag': 'user_signup', 'patterns': ['Sign me up:', 'I want to sign up', 'Can i signup', 'Register a new account', 'I want to create an account'], 'responses': [\"Let's start creating your new account!\"]}, {'tag': 'password_reset', 'patterns': ['I forgot my password:', 'reset or change my password?'], 'responses': [\"Let's recover it together!\"]}, {'tag': 'helpdesk', 'patterns': ['hlp:', 'Help desk', 'help info', 'help'], 'responses': ['Results:']}, {'tag': 'unrecognized_input', 'patterns': ['.*'], 'responses': ['Sorry, I cannot understand that, but I will take this query to improve my dataset.']}]}\n"
     ]
    }
   ],
   "source": [
    "filename=\"intents.json\"\n",
    "intents=load_json_file(filename)\n",
    "print(intents)"
   ]
  },
  {
   "cell_type": "code",
   "execution_count": 27,
   "metadata": {},
   "outputs": [],
   "source": [
    "def base_response(text):\n",
    "    response = ''\n",
    "    score = base_pipe(text)[0]['score']\n",
    "    tag = base_pipe(text)[0]['label']\n",
    "    if score < 0.8:\n",
    "        response += 'Dont know'\n",
    "    else:\n",
    "        label = base_model.config.label2id[base_pipe(text)[0]['label']]\n",
    "        response = random.choice(intents['intents'][label]['responses'])\n",
    "    return response, tag"
   ]
  },
  {
   "cell_type": "code",
   "execution_count": 28,
   "metadata": {},
   "outputs": [
    {
     "data": {
      "text/plain": [
       "(\"I'm here to make your life easier, how can I assist you?\", 'greeting')"
      ]
     },
     "execution_count": 28,
     "metadata": {},
     "output_type": "execute_result"
    }
   ],
   "source": [
    "base_response('Hi')"
   ]
  },
  {
   "cell_type": "code",
   "execution_count": 11,
   "metadata": {},
   "outputs": [],
   "source": [
    "def chat(pipe):\n",
    "    \n",
    "    print(\"CHATBOT: Hi! I am your virtual assistance,Feel free to ask, and I'll do my best to provide you with answers and assistance..\")\n",
    "    print(\"Type 'quit' to exit the chat\\n\\n\")\n",
    "    \n",
    "    text = input(\"User: \").strip().lower()\n",
    "    \n",
    "    while(text != 'quit'):\n",
    "\n",
    "        score = pipe(text)[0]['score']\n",
    "        \n",
    "        if score < 0.8:\n",
    "            print(\"Chatbot: Sorry I can't answer that\\n\\n\")\n",
    "            text = input(\"User: \").strip().lower()\n",
    "            continue\n",
    "        \n",
    "        label = collator_model.config.label2id[pipe(text)[0]['label']]\n",
    "        response = random.choice(intents['intents'][label]['responses'])\n",
    "        \n",
    "        print(f\"CHATBOT: {response}\\n\\n\")\n",
    "            \n",
    "        text = input(\"YOU: \").strip().lower()\n"
   ]
  },
  {
   "cell_type": "code",
   "execution_count": 12,
   "metadata": {},
   "outputs": [
    {
     "name": "stdout",
     "output_type": "stream",
     "text": [
      "CHATBOT: Hi! I am your virtual assistance,Feel free to ask, and I'll do my best to provide you with answers and assistance..\n",
      "Type 'quit' to exit the chat\n",
      "\n",
      "\n",
      "CHATBOT: How may I be of assistance today?\n",
      "\n",
      "\n",
      "CHATBOT: List attendance reports at location this month\n",
      "\n",
      "\n",
      "CHATBOT: My pleasure\n",
      "\n",
      "\n"
     ]
    }
   ],
   "source": [
    "chat(base_pipe)"
   ]
  },
  {
   "cell_type": "code",
   "execution_count": 28,
   "metadata": {},
   "outputs": [],
   "source": [
    "sql_model = AutoModelForSeq2SeqLM.from_pretrained(\n",
    "    sql_model_path\n",
    ")"
   ]
  },
  {
   "cell_type": "code",
   "execution_count": 29,
   "metadata": {},
   "outputs": [],
   "source": [
    "sql_tokenizer = AutoTokenizer.from_pretrained(\n",
    "    sql_model_path\n",
    ")"
   ]
  },
  {
   "cell_type": "code",
   "execution_count": 40,
   "metadata": {},
   "outputs": [],
   "source": [
    "def sql_response(query):\n",
    "    prompt = \"translate English to SQL: %s \" % query\n",
    "    features = sql_tokenizer([prompt], return_tensors='pt')\n",
    "    output = sql_model.generate(\n",
    "        input_ids=features['input_ids'],\n",
    "        max_new_tokens=200\n",
    "        )\n",
    "    return sql_tokenizer.decode(output[0], skip_special_tokens=True)"
   ]
  },
  {
   "cell_type": "code",
   "execution_count": 41,
   "metadata": {},
   "outputs": [
    {
     "data": {
      "text/plain": [
       "'SELECT count(id) FROM meetings'"
      ]
     },
     "execution_count": 41,
     "metadata": {},
     "output_type": "execute_result"
    }
   ],
   "source": [
    "query = \"How many meetings do we have?\"\n",
    "sql_response(query)"
   ]
  },
  {
   "cell_type": "code",
   "execution_count": 37,
   "metadata": {},
   "outputs": [],
   "source": [
    "support_model = AutoModelForSeq2SeqLM.from_pretrained(support_model_path)"
   ]
  },
  {
   "cell_type": "code",
   "execution_count": 38,
   "metadata": {},
   "outputs": [],
   "source": [
    "support_tokenizer = AutoTokenizer.from_pretrained(\n",
    "    support_model_path,\n",
    ")"
   ]
  },
  {
   "cell_type": "code",
   "execution_count": 34,
   "metadata": {},
   "outputs": [
    {
     "name": "stderr",
     "output_type": "stream",
     "text": [
      "The model 'T5ForConditionalGeneration' is not supported for text-generation. Supported models are ['BartForCausalLM', 'BertLMHeadModel', 'BertGenerationDecoder', 'BigBirdForCausalLM', 'BigBirdPegasusForCausalLM', 'BioGptForCausalLM', 'BlenderbotForCausalLM', 'BlenderbotSmallForCausalLM', 'BloomForCausalLM', 'CamembertForCausalLM', 'LlamaForCausalLM', 'CodeGenForCausalLM', 'CohereForCausalLM', 'CpmAntForCausalLM', 'CTRLLMHeadModel', 'Data2VecTextForCausalLM', 'DbrxForCausalLM', 'ElectraForCausalLM', 'ErnieForCausalLM', 'FalconForCausalLM', 'FuyuForCausalLM', 'GemmaForCausalLM', 'Gemma2ForCausalLM', 'GitForCausalLM', 'GPT2LMHeadModel', 'GPT2LMHeadModel', 'GPTBigCodeForCausalLM', 'GPTNeoForCausalLM', 'GPTNeoXForCausalLM', 'GPTNeoXJapaneseForCausalLM', 'GPTJForCausalLM', 'JambaForCausalLM', 'JetMoeForCausalLM', 'LlamaForCausalLM', 'MambaForCausalLM', 'Mamba2ForCausalLM', 'MarianForCausalLM', 'MBartForCausalLM', 'MegaForCausalLM', 'MegatronBertForCausalLM', 'MistralForCausalLM', 'MixtralForCausalLM', 'MptForCausalLM', 'MusicgenForCausalLM', 'MusicgenMelodyForCausalLM', 'MvpForCausalLM', 'NemotronForCausalLM', 'OlmoForCausalLM', 'OpenLlamaForCausalLM', 'OpenAIGPTLMHeadModel', 'OPTForCausalLM', 'PegasusForCausalLM', 'PersimmonForCausalLM', 'PhiForCausalLM', 'Phi3ForCausalLM', 'PLBartForCausalLM', 'ProphetNetForCausalLM', 'QDQBertLMHeadModel', 'Qwen2ForCausalLM', 'Qwen2MoeForCausalLM', 'RecurrentGemmaForCausalLM', 'ReformerModelWithLMHead', 'RemBertForCausalLM', 'RobertaForCausalLM', 'RobertaPreLayerNormForCausalLM', 'RoCBertForCausalLM', 'RoFormerForCausalLM', 'RwkvForCausalLM', 'Speech2Text2ForCausalLM', 'StableLmForCausalLM', 'Starcoder2ForCausalLM', 'TransfoXLLMHeadModel', 'TrOCRForCausalLM', 'WhisperForCausalLM', 'XGLMForCausalLM', 'XLMWithLMHeadModel', 'XLMProphetNetForCausalLM', 'XLMRobertaForCausalLM', 'XLMRobertaXLForCausalLM', 'XLNetLMHeadModel', 'XmodForCausalLM'].\n"
     ]
    }
   ],
   "source": [
    "support_pipe = pipeline(\n",
    "    task='text-generation',\n",
    "    model=support_model, \n",
    "    tokenizer=support_tokenizer, \n",
    "    device='mps'\n",
    ")"
   ]
  },
  {
   "cell_type": "code",
   "execution_count": 42,
   "metadata": {},
   "outputs": [],
   "source": [
    "def support_response(question):\n",
    "    prompt = \"You are a support chatbot who helps with user queries chatbot who always responds in the style of a professional. %s \" % question\n",
    "    features = support_tokenizer([prompt], return_tensors='pt')\n",
    "    output = support_model.generate(\n",
    "        input_ids=features['input_ids'],\n",
    "        max_new_tokens=200\n",
    "        )\n",
    "    return support_tokenizer.decode(output[0], skip_special_tokens=True)"
   ]
  },
  {
   "cell_type": "code",
   "execution_count": 43,
   "metadata": {},
   "outputs": [
    {
     "data": {
      "text/plain": [
       "\"I've realized you have a question regarding canceling order Order Number. I apologize for any inconvenience this may have caused you. I'm here to assist you with this. Please Complaint Support, and I'll provide you with a direct link. You can contact our customer support team at Customer Support Phone Number or through the Live Chat on our website at Website URL. We are committed to resolving this issue and ensuring your satisfaction. Thank you for bringing this to our attention, and I apologize for any inconvenience caused. Thank you for bringing this to our attention, and I'm unable to assist you with the cancellation process. Thank you for bringing this to our attention, and I apologize for any inconvenience caused. Thank you for bringing this to our attention, and I'm here to assist you. Thank you for bringing this matter to our attention,\""
      ]
     },
     "execution_count": 43,
     "metadata": {},
     "output_type": "execute_result"
    }
   ],
   "source": [
    "question = \"i have a question about cancelling order {{Order Number}}\"\n",
    "support_response(question)"
   ]
  }
 ],
 "metadata": {
  "kernelspec": {
   "display_name": "mconda38",
   "language": "python",
   "name": "python3"
  },
  "language_info": {
   "codemirror_mode": {
    "name": "ipython",
    "version": 3
   },
   "file_extension": ".py",
   "mimetype": "text/x-python",
   "name": "python",
   "nbconvert_exporter": "python",
   "pygments_lexer": "ipython3",
   "version": "3.8.19"
  }
 },
 "nbformat": 4,
 "nbformat_minor": 2
}
