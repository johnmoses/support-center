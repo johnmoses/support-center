{
 "cells": [
  {
   "cell_type": "markdown",
   "metadata": {},
   "source": [
    "# Base model with Bidirectional Encoder Representations from Transformers (BERT)"
   ]
  },
  {
   "cell_type": "code",
   "execution_count": 1,
   "metadata": {},
   "outputs": [
    {
     "name": "stderr",
     "output_type": "stream",
     "text": [
      "2024-10-23 18:59:01.345295: I tensorflow/core/platform/cpu_feature_guard.cc:182] This TensorFlow binary is optimized to use available CPU instructions in performance-critical operations.\n",
      "To enable the following instructions: SSE4.1 SSE4.2, in other operations, rebuild TensorFlow with the appropriate compiler flags.\n"
     ]
    }
   ],
   "source": [
    "import json\n",
    "import numpy as np\n",
    "import pandas as pd\n",
    "import matplotlib.pyplot as plt\n",
    "import random\n",
    "import seaborn as sns\n",
    "from wordcloud import WordCloud,STOPWORDS\n",
    "import missingno as msno\n",
    "from sklearn.feature_extraction.text import CountVectorizer\n",
    "from sklearn.model_selection import train_test_split\n",
    "from sklearn.metrics import accuracy_score, precision_recall_fscore_support\n",
    "from keras.preprocessing import text\n",
    "import keras\n",
    "from keras.models import Sequential\n",
    "from keras.layers import Dense,Embedding,LSTM,Dropout\n",
    "from keras.callbacks import ReduceLROnPlateau\n",
    "from tensorflow.keras.preprocessing.sequence import pad_sequences\n",
    "import nltk\n",
    "from nltk import word_tokenize\n",
    "from nltk.stem import PorterStemmer\n",
    "import torch\n",
    "from torch.utils.data import Dataset\n",
    "from transformers import BertTokenizer,BertTokenizerFast, BertForSequenceClassification\n",
    "from transformers import TrainingArguments, Trainer, pipeline\n"
   ]
  },
  {
   "cell_type": "markdown",
   "metadata": {},
   "source": [
    "## Prepare Dataset"
   ]
  },
  {
   "cell_type": "markdown",
   "metadata": {},
   "source": [
    "Load JSON file"
   ]
  },
  {
   "cell_type": "code",
   "execution_count": 11,
   "metadata": {},
   "outputs": [
    {
     "name": "stdout",
     "output_type": "stream",
     "text": [
      "{'intents': [{'tag': 'greeting', 'patterns': ['Hi', 'Hello', 'Hey', 'How are you', \"What's up\"], 'responses': ['Hi there', 'Hello', 'Hey', \"I'm fine, thank you\", 'Nothing much']}, {'tag': 'goodbye', 'patterns': ['Bye', 'See you later', 'Goodbye', 'Take care'], 'responses': ['Goodbye', 'See you later', 'Take care']}, {'tag': 'thanks', 'patterns': ['Thank you', 'Thanks', 'Thanks a lot', 'I appreciate it'], 'responses': [\"You're welcome\", 'No problem', 'Glad I could help']}, {'tag': 'about', 'patterns': ['What can you do', 'Who are you', 'What are you', 'What is your purpose'], 'responses': ['I am a chatbot', 'My purpose is to assist you', 'I can answer questions and provide assistance']}, {'tag': 'help', 'patterns': ['Help', 'I need help', 'Can you help me', 'What should I do'], 'responses': ['Sure, what do you need help with?', \"I'm here to help. What's the problem?\", 'How can I assist you?']}, {'tag': 'age', 'patterns': ['How old are you', \"What's your age\"], 'responses': [\"I don't have an age. I'm a chatbot.\", 'I was just born in the digital world.', 'Age is just a number for me.']}, {'tag': 'weather', 'patterns': [\"What's the weather like\", \"How's the weather today\"], 'responses': [\"I'm sorry, I cannot provide real-time weather information.\", 'You can check the weather on a weather app or website.']}, {'tag': 'budget', 'patterns': ['How can I make a budget', \"What's a good budgeting strategy\", 'How do I create a budget'], 'responses': ['To make a budget, start by tracking your income and expenses. Then, allocate your income towards essential expenses like rent, food, and bills. Next, allocate some of your income towards savings and debt repayment. Finally, allocate the remainder of your income towards discretionary expenses like entertainment and hobbies.', 'A good budgeting strategy is to use the 50/30/20 rule. This means allocating 50% of your income towards essential expenses, 30% towards discretionary expenses, and 20% towards savings and debt repayment.', 'To create a budget, start by setting financial goals for yourself. Then, track your income and expenses for a few months to get a sense of where your money is going. Next, create a budget by allocating your income towards essential expenses, savings and debt repayment, and discretionary expenses.']}, {'tag': 'credit_score', 'patterns': ['What is a credit score', 'How do I check my credit score', 'How can I improve my credit score'], 'responses': ['A credit score is a number that represents your creditworthiness. It is based on your credit history and is used by lenders to determine whether or not to lend you money. The higher your credit score, the more likely you are to be approved for credit.', 'You can check your credit score for free on several websites such as Credit Karma and Credit Sesame.']}, {'tag': 'name', 'patterns': [\"What's your name\", 'Do you have a name', 'What should I call you'], 'responses': ['You can call me Chatbot.', 'My name is Chatbot.']}, {'tag': 'favorite_color', 'patterns': [\"What's your favorite color\", 'Do you like any color'], 'responses': [\"I'm a chatbot, so I don't have a favorite color.\", \"As an AI, I don't have preferences like humans do.\"]}, {'tag': 'hobby', 'patterns': ['What do you do for fun', 'Do you have any hobbies'], 'responses': [\"I don't have hobbies as I'm here to assist you.\", \"I'm always ready to chat with you, so that's my favorite thing to do!\"]}, {'tag': 'time', 'patterns': [\"What's the time\", 'Can you tell me the time'], 'responses': [\"I'm sorry, but I don't have access to real-time information like the current time.\", 'You can check the time on your device or use a clock.']}, {'tag': 'joke', 'patterns': ['Tell me a joke', 'Do you know any jokes', 'Make me laugh'], 'responses': ['Why don’t scientists trust atoms? Because they make up everything!', \"Why don't skeletons fight each other? They don't have the guts!\", 'Did you hear about the mathematician who’s afraid of negative numbers? He’ll stop at nothing to avoid them!']}, {'tag': 'food', 'patterns': [\"What's your favorite food\", 'Do you like to eat', 'Tell me about food'], 'responses': [\"As a chatbot, I don't eat, but I'm here to help with any questions you have about food!\", 'I may not have taste buds, but I can assist you in finding recipes or restaurants!']}, {'tag': 'movies', 'patterns': [\"What's your favorite movie\", 'Recommend me a movie', 'Tell me about movies'], 'responses': [\"As an AI, I don't watch movies, but I can suggest some popular ones like The Shawshank Redemption, Inception, or The Godfather.\", 'I may not have personal preferences, but I can help you find movies based on your taste!']}, {'tag': 'technology', 'patterns': [\"What's the latest tech news\", 'Tell me about technology', \"What's new in tech\"], 'responses': [\"As an AI language model, I don't have real-time data, but you can check technology news websites for the latest updates.\", 'Technology is constantly evolving. Stay updated with tech blogs and news sites to know about the latest advancements!']}, {'tag': 'compliment', 'patterns': [\"You're awesome\", \"You're great\", 'I like you'], 'responses': [\"Thank you! I'm just a program, but I'm here to assist and make your experience better.\", \"I'm glad you think so! My purpose is to help and provide useful information.\"]}, {'tag': 'meaning_of_life', 'patterns': ['What is the meaning of life', 'Why are we here', \"What's the purpose of life\"], 'responses': ['The meaning of life is a philosophical question. Different people and cultures have different beliefs about it.', 'The purpose of life is subjective and can vary from person to person. Some find purpose in relationships, careers, or helping others.']}, {'tag': 'sports', 'patterns': ['Tell me about sports', \"What's your favorite sport\", 'Any sports news'], 'responses': [\"While I don't have personal preferences, sports can be exciting! Keep an eye on sports news websites for the latest updates and scores.\", \"Sports are a great way to stay active and entertained. There's a wide range of sports to explore and enjoy!\"]}, {'tag': 'pets', 'patterns': ['Do you have any pets', 'Tell me about pets', 'Do you like animals'], 'responses': [\"As an AI, I don't have pets, but I'm interested in animals and can answer your questions about them.\", 'Pets can bring joy and companionship into our lives. Many people love keeping dogs, cats, birds, and more as their pets.']}, {'tag': 'travel', 'patterns': ['Where is a good place to travel', 'Recommend me a travel destination', 'Tell me about your favorite travel spot'], 'responses': [\"I'm just a chatbot, so I don't travel, but there are many beautiful destinations around the world to explore. It depends on your preferences, such as beaches, mountains, historical sites, or bustling cities.\", 'Traveling allows you to experience different cultures, try new cuisines, and create lasting memories.']}, {'tag': 'books', 'patterns': [\"What's your favorite book\", 'Recommend me a book to read', 'Tell me about books'], 'responses': [\"As an AI, I don't have personal preferences, but there are countless amazing books in various genres. Some popular ones include Harry Potter, To Kill a Mockingbird, and 1984.\", 'Reading books can broaden your knowledge, enhance creativity, and provide a great way to relax.']}, {'tag': 'education', 'patterns': ['Tell me about education', \"What's the importance of education\", 'How to study effectively'], 'responses': ['Education is the process of acquiring knowledge, skills, values, and attitudes. It plays a crucial role in personal and societal development.', 'Studying effectively involves setting clear goals, creating a conducive study environment, staying organized, taking regular breaks, and seeking help when needed.']}, {'tag': 'health', 'patterns': ['How to stay healthy', 'Tell me about health tips', \"What's the importance of fitness\"], 'responses': ['To stay healthy, maintain a balanced diet, engage in regular physical activity, get enough sleep, manage stress, and avoid harmful habits.', 'Fitness is essential for overall well-being and can improve your mood, energy levels, and longevity.']}, {'tag': 'coding', 'patterns': ['Tell me about coding', 'How to start coding', \"What's the best programming language\"], 'responses': ['Coding is the process of writing instructions for computers to execute tasks. It powers software, websites, and apps.', 'If you want to start coding, choose a programming language like Python, Java, or JavaScript, and explore online tutorials and courses.']}, {'tag': 'art', 'patterns': ['Tell me about art', \"What's your favorite artwork\", 'How to appreciate art'], 'responses': [\"Art comes in various forms, such as paintings, sculptures, music, literature, and more. It's a way to express emotions and ideas.\", 'Appreciating art involves being open-minded, observing details, understanding the context, and exploring different art movements.']}, {'tag': 'career', 'patterns': ['How to find a job', 'Tell me about career development', \"What's the best career advice\"], 'responses': ['To find a job, identify your skills and interests, create a compelling resume, network, and apply to suitable positions.', 'Career development involves setting goals, continuous learning, seeking mentorship, and adapting to the evolving job market.']}, {'tag': 'technology_help', 'patterns': ['How can you assist with technology', 'Tell me about tech support', 'Can you help with computer issues'], 'responses': ['As an AI chatbot, I can provide information and basic troubleshooting for common technology problems.', \"For complex technical issues, it's best to consult a qualified IT professional.\"]}, {'tag': 'history', 'patterns': ['Tell me about history', \"What's your favorite historical period\", 'How can I learn about historical events'], 'responses': ['History is the study of past events, societies, and civilizations. It provides insights into our roots and informs our future.', 'Learning about history can involve reading books, visiting museums, watching documentaries, and attending history lectures.']}, {'tag': 'music', 'patterns': [\"What's your favorite music\", 'Recommend me a song', 'Tell me about music genres'], 'responses': [\"As an AI, I don't have personal preferences, but there are various music genres like pop, rock, classical, hip-hop, and more.\", 'Music can evoke emotions, improve mood, and be a source of inspiration.']}, {'tag': 'exercise', 'patterns': ['How to stay fit', 'Tell me about exercise', \"What's the importance of physical activity\"], 'responses': ['Staying fit involves a mix of cardiovascular exercises, strength training, flexibility exercises, and a balanced diet.', 'Regular exercise can enhance physical health, mental well-being, and boost energy levels.']}, {'tag': 'mindfulness', 'patterns': ['What is mindfulness', 'Tell me about mindfulness techniques', 'How to practice mindfulness'], 'responses': ['Mindfulness is the practice of being fully present in the moment, observing thoughts and feelings without judgment.', 'Mindfulness techniques include meditation, deep breathing, body scanning, and mindful eating.']}, {'tag': 'science', 'patterns': ['Tell me about science', \"What's your favorite branch of science\", 'How does science impact our lives'], 'responses': ['Science is the systematic study of the natural world, aiming to understand phenomena and make discoveries.', 'Science has led to advancements in medicine, technology, agriculture, and our understanding of the universe.']}, {'tag': 'gaming', 'patterns': ['Do you play games', 'Tell me about gaming', \"What's your favorite video game\"], 'responses': [\"As an AI, I don't play games, but I can help you with information about various video games and gaming platforms.\", 'Gaming is a popular form of entertainment enjoyed by people of all ages.']}, {'tag': 'positivity', 'patterns': ['Spread some positivity', 'Tell me a positive quote', 'How to stay positive'], 'responses': ['Every day is a new opportunity to make a positive impact. You are capable of great things!', 'Remember, you are strong, resilient, and capable of overcoming challenges.']}, {'tag': 'cooking', 'patterns': ['Tell me about cooking', \"What's your favorite dish\", 'Cooking tips for beginners'], 'responses': ['Cooking is the art of preparing food, and it allows you to experiment with flavors and create delicious meals.', \"For beginners, start with simple recipes, use fresh ingredients, and don't be afraid to try new techniques.\"]}, {'tag': 'relationship', 'patterns': ['How to maintain a healthy relationship', 'Tell me about love', 'Relationship advice'], 'responses': ['Communication, trust, and mutual respect are essential for a healthy and fulfilling relationship.', 'Love is a complex and beautiful emotion that connects people on a deep level.']}, {'tag': 'nature', 'patterns': ['Tell me about nature', \"What's your favorite natural wonder\", 'How to protect the environment'], 'responses': ['Nature encompasses the beauty and diversity of the world, including landscapes, wildlife, and ecosystems.', 'Protecting the environment involves reducing waste, conserving resources, and supporting sustainable practices.']}, {'tag': 'productivity', 'patterns': ['How to be more productive', 'Tell me about time management', 'Productivity tips'], 'responses': ['To be more productive, prioritize tasks, set goals, eliminate distractions, and take regular breaks.', 'Effective time management can lead to increased efficiency and reduced stress.']}, {'tag': 'travel_tips', 'patterns': ['Tell me about travel tips', 'How to pack for a trip', 'What to consider while traveling'], 'responses': ['Travel tips include packing light, carrying essential documents, researching your destination, and respecting local customs.', 'While traveling, be open to new experiences, try local cuisines, and be mindful of your surroundings.']}, {'tag': 'languages', 'patterns': ['Tell me about languages', 'How to learn a new language', \"What's the importance of multilingualism\"], 'responses': ['Languages are a crucial aspect of human communication and culture, with thousands of languages spoken worldwide.', 'Learning a new language can expand your horizons, enhance cognitive abilities, and facilitate cross-cultural interactions.']}, {'tag': 'inspiration', 'patterns': ['I need some inspiration', 'Tell me an inspiring story', 'How to stay motivated'], 'responses': ['You are capable of achieving remarkable things. Believe in yourself and never give up!', \"The journey to success may have challenges, but it's the persistence and determination that lead to extraordinary accomplishments.\"]}, {'tag': 'finance_tips', 'patterns': ['Tell me about finance tips', 'How to save money', 'Investment advice'], 'responses': ['Finance tips include budgeting, saving a portion of your income, avoiding unnecessary expenses, and investing wisely for the future.', 'Investing in stocks, mutual funds, or real estate can help grow your wealth over time.']}, {'tag': 'artificial_intelligence', 'patterns': ['Tell me about artificial intelligence', 'How does AI work', 'AI applications'], 'responses': ['Artificial intelligence is the simulation of human intelligence in machines, enabling them to learn and perform tasks.', 'AI has diverse applications, including voice assistants, self-driving cars, recommendation systems, and medical diagnostics.']}, {'tag': 'motivation', 'patterns': ['I need some motivation', 'Tell me an encouraging quote', 'How to overcome obstacles'], 'responses': ['Believe in yourself. You have the strength to overcome any obstacle and achieve your dreams!', 'Obstacles are stepping stones to success. Embrace challenges as opportunities for growth and learning.']}, {'tag': 'future', 'patterns': ['Tell me about the future', 'What will the future look like', 'Future technology'], 'responses': ['The future is uncertain, but advancements in technology, medicine, and space exploration hold great potential.', 'The future of technology may include AI advancements, renewable energy solutions, and even the possibility of space colonization.']}, {'tag': 'movies_series', 'patterns': ['Tell me about movies or series', 'Recommend me a TV show', 'Movie genres'], 'responses': ['Movies and TV series offer a wide range of genres, including drama, comedy, sci-fi, fantasy, thriller, and more.', 'Binge-watching your favorite series can be a great way to relax and unwind.']}, {'tag': 'self_improvement', 'patterns': ['How to improve myself', 'Tell me about personal growth', 'Tips for self-development'], 'responses': ['Self-improvement involves setting goals, embracing continuous learning, staying positive, and practicing self-care.', 'Embrace challenges as opportunities for growth, and focus on becoming the best version of yourself.']}, {'tag': 'robotics', 'patterns': ['Tell me about robotics', 'How do robots work', 'Future of robotics'], 'responses': ['Robotics is the study and development of robots, which are machines capable of performing tasks autonomously or semi-autonomously.', 'The future of robotics may include advancements in AI, human-robot collaboration, and robotics in industries like healthcare and manufacturing.']}, {'tag': 'philosophy', 'patterns': ['Tell me about philosophy', \"What's the purpose of life\", 'Philosophical questions'], 'responses': ['Philosophy is the study of fundamental questions about existence, knowledge, values, reason, mind, and language.', 'Philosophical questions explore the nature of reality, ethics, free will, consciousness, and the meaning of life.']}, {'tag': 'coding_languages', 'patterns': ['Tell me about coding languages', 'Which programming language to learn', 'Popular coding languages'], 'responses': ['Coding languages include Python, Java, JavaScript, C++, and more. The choice depends on your interests and the application you want to develop.', 'Python is often recommended for beginners due to its readability and versatility.']}, {'tag': 'virtual_reality', 'patterns': ['Tell me about virtual reality', 'How does VR work', 'Applications of virtual reality'], 'responses': ['Virtual reality is a computer-generated simulation that allows users to interact with a 3D environment.', 'VR has applications in gaming, training, education, architecture, and therapeutic interventions.']}, {'tag': 'space_exploration', 'patterns': ['Tell me about space exploration', \"What's happening in space\", 'Mars colonization'], 'responses': ['Space exploration involves sending robotic missions and astronauts to study celestial bodies and understand the universe.', 'Mars colonization is a long-term goal, and scientists are conducting research and planning potential missions.']}, {'tag': 'emotional_intelligence', 'patterns': ['Tell me about emotional intelligence', 'Why is EQ important', 'How to develop emotional intelligence'], 'responses': ['Emotional intelligence (EQ) is the ability to understand and manage emotions, both in oneself and others.', 'Developing emotional intelligence involves self-awareness, empathy, effective communication, and emotional regulation.']}, {'tag': 'cybersecurity', 'patterns': ['Tell me about cybersecurity', 'How to protect against cyber threats', 'Cybersecurity best practices'], 'responses': ['Cybersecurity involves protecting computers, networks, and data from unauthorized access, attacks, and damage.', 'Best practices include using strong passwords, keeping software updated, avoiding suspicious links, and using antivirus software.']}, {'tag': 'creativity', 'patterns': ['Tell me about creativity', 'How to boost creativity', 'Importance of creativity'], 'responses': ['Creativity is the ability to think outside the box, generate new ideas, and solve problems innovatively.', 'To boost creativity, engage in activities like writing, drawing, brainstorming, or trying new experiences.']}, {'tag': 'futuristic_technology', 'patterns': ['Tell me about futuristic technology', 'What will technology be like in 50 years', 'Next-gen innovations'], 'responses': ['Futuristic technology may include advancements in AI, nanotechnology, biotechnology, quantum computing, and space exploration.', 'Predicting the exact state of technology in the future is challenging, but progress is expected to be exponential.']}, {'tag': 'entrepreneurship', 'patterns': ['Tell me about entrepreneurship', 'How to start a business', 'Keys to entrepreneurial success'], 'responses': ['Entrepreneurship involves identifying opportunities, taking risks, and creating new ventures.', 'Success in entrepreneurship requires determination, adaptability, effective leadership, and a problem-solving mindset.']}, {'tag': 'internet_of_things', 'patterns': ['Tell me about the Internet of Things (IoT)', 'How does IoT work', 'Applications of IoT'], 'responses': ['The Internet of Things refers to the network of physical objects embedded with sensors, software, and connectivity.', 'IoT has applications in smart homes, healthcare, agriculture, transportation, and industrial automation.']}, {'tag': 'universe', 'patterns': ['Tell me about the universe', 'How big is the universe', 'Astrology vs. astronomy'], 'responses': ['The universe is vast, containing billions of galaxies, each with billions of stars.', \"Astrology is the study of celestial bodies' influence on human affairs, while astronomy is the scientific study of celestial objects and phenomena.\"]}, {'tag': 'social_media', 'patterns': ['Tell me about social media', 'Pros and cons of social networking', 'How to use social media responsibly'], 'responses': ['Social media platforms allow people to connect, share content, and stay updated on news and events.', 'Using social media responsibly involves protecting privacy, avoiding misinformation, and fostering positive interactions.']}, {'tag': 'cuisine', 'patterns': ['Tell me about different cuisines', \"What's your favorite dish\", 'Traditional foods from different cultures'], 'responses': ['Cuisine varies across regions and cultures, offering a diverse range of flavors and ingredients.', 'Trying foods from different cultures can be a delightful culinary adventure.']}, {'tag': 'happiness', 'patterns': ['Tell me about happiness', 'How to find happiness', 'Keys to a happy life'], 'responses': ['Happiness is a subjective and individual experience, and it can be found in meaningful relationships, personal achievements, and gratitude.', 'Focusing on positive aspects, practicing mindfulness, and helping others contribute to a happier life.']}, {'tag': 'self_care', 'patterns': ['Tell me about self-care', 'How to practice self-care', 'Importance of self-love'], 'responses': [\"Self-care involves taking care of one's physical, emotional, and mental well-being.\", 'Prioritizing self-care can lead to improved overall health and a more balanced lifestyle.']}, {'tag': 'augmented_reality', 'patterns': ['Tell me about augmented reality', 'How does AR work', 'AR applications'], 'responses': [\"Augmented reality overlays digital content onto the real world, enhancing the user's experience.\", 'AR has applications in gaming, education, retail, and industrial training.']}, {'tag': 'global_warming', 'patterns': ['Tell me about global warming', 'Climate change facts', 'How to reduce carbon footprint'], 'responses': [\"Global warming refers to the long-term increase in Earth's average temperature due to human activities, primarily the burning of fossil fuels.\", 'Reducing carbon footprint involves energy conservation, using renewable energy sources, and supporting eco-friendly practices.']}, {'tag': 'data_privacy', 'patterns': ['Tell me about data privacy', 'Why is data security important', 'Protecting personal information online'], 'responses': ['Data privacy refers to safeguarding personal and sensitive information from unauthorized access and misuse.', 'Protecting personal information online involves using strong passwords, enabling two-factor authentication, and being cautious about sharing sensitive data.']}, {'tag': 'positivity_quotes', 'patterns': ['Tell me a positive quote', 'Inspirational quotes', 'Motivational sayings'], 'responses': ['The future belongs to those who believe in the beauty of their dreams. - Eleanor Roosevelt', 'In the middle of every difficulty lies opportunity. - Albert Einstein', \"Your time is limited, don't waste it living someone else's life. - Steve Jobs\"]}, {'tag': 'virtual_assistant', 'patterns': ['Tell me about virtual assistants', 'How does a virtual assistant work', 'Popular virtual assistant applications'], 'responses': ['Virtual assistants are AI-powered programs that perform tasks and provide information through natural language interaction.', 'Popular virtual assistants include Siri, Alexa, Google Assistant, and Cortana.']}, {'tag': 'emerging_technologies', 'patterns': ['Tell me about emerging technologies', \"What's the latest in tech\", 'Next big tech innovations'], 'responses': ['Emerging technologies include 5G, blockchain, quantum computing, biotechnology, and renewable energy solutions.', 'Stay updated with tech news to learn about the latest breakthroughs and innovations.']}, {'tag': 'philanthropy', 'patterns': ['Tell me about philanthropy', 'Importance of giving back', 'How to make a positive impact'], 'responses': ['Philanthropy involves charitable acts and contributions to promote the welfare of others and support important causes.', \"Giving back to the community can create a positive ripple effect and make a meaningful difference in people's lives.\"]}, {'tag': 'sustainability', 'patterns': ['Tell me about sustainability', 'Why is sustainable living important', 'How to be more eco-friendly'], 'responses': ['Sustainability aims to meet current needs without compromising the ability of future generations to meet their needs.', 'Adopting eco-friendly practices, reducing waste, and supporting sustainable products contribute to a greener planet.']}, {'tag': 'gene_editing', 'patterns': ['Tell me about gene editing', 'How does gene editing work', 'Ethical considerations of genetic engineering'], 'responses': ['Gene editing allows scientists to modify DNA, potentially treating genetic diseases and enhancing desirable traits.', 'Gene editing raises ethical questions about responsible use, unintended consequences, and potential misuse.']}, {'tag': 'machine_learning', 'patterns': ['Tell me about machine learning', 'How does ML work', 'Applications of machine learning'], 'responses': ['Machine learning is a subset of AI that enables systems to learn from data and improve performance over time.', 'ML has applications in image recognition, natural language processing, recommendation systems, and predictive analytics.']}, {'tag': 'gamification', 'patterns': ['Tell me about gamification', 'How does gamification work', 'Benefits of gamified learning'], 'responses': ['Gamification involves applying game elements, such as points and rewards, to non-game contexts to engage and motivate users.', 'Gamified learning can enhance engagement, foster competition, and make learning more enjoyable.']}, {'tag': 'brain_computer_interface', 'patterns': ['Tell me about brain-computer interfaces', 'How does BCI work', 'BCI applications'], 'responses': ['Brain-computer interfaces establish direct communication between the brain and external devices, enabling control and data exchange.', 'BCIs have applications in healthcare, assistive technology, and potential future applications in communication and entertainment.']}, {'tag': 'depression', 'patterns': ['Tell me about depression', 'Signs of depression', 'How to support someone with depression'], 'responses': ['Depression is a mental health disorder characterized by persistent sadness, loss of interest, and changes in behavior and mood.', 'Supporting someone with depression involves offering empathy, listening without judgment, and encouraging professional help.']}, {'tag': 'nanotechnology', 'patterns': ['Tell me about nanotechnology', 'How does nanotech work', 'Nanotech applications'], 'responses': ['Nanotechnology involves manipulating materials and structures at the nanoscale, often on the atomic or molecular level.', 'Nanotechnology has applications in medicine, electronics, energy, and environmental remediation.']}, {'tag': 'artificial_superintelligence', 'patterns': ['Tell me about artificial superintelligence', 'What is ASI', 'Potential impacts of superintelligent AI'], 'responses': ['Artificial Superintelligence (ASI) refers to highly autonomous AI systems that surpass human intelligence in all aspects.', 'The potential impacts of ASI are a topic of debate, involving considerations of safety, ethics, and control.']}, {'tag': 'virtual_currency', 'patterns': ['Tell me about virtual currencies', 'What is cryptocurrency', 'Advantages of blockchain technology'], 'responses': ['Virtual currencies like Bitcoin are decentralized digital assets that operate on blockchain technology.', 'Blockchain offers benefits such as transparency, security, reduced intermediaries, and potential applications beyond finance.']}, {'tag': 'biomedical_engineering', 'patterns': ['Tell me about biomedical engineering', 'How does biomedical engineering work', 'Medical innovations'], 'responses': ['Biomedical engineering applies principles of engineering and technology to solve medical and healthcare challenges.', 'Medical innovations in biomedical engineering include prosthetics, medical imaging, regenerative medicine, and medical devices.']}, {'tag': 'quantum_entanglement', 'patterns': ['Tell me about quantum entanglement', 'How does entanglement work', 'Applications of quantum entanglement'], 'responses': ['Quantum entanglement is a quantum phenomenon where two or more particles become connected and behave as one, even when separated by great distances.', 'Applications of quantum entanglement include quantum computing, quantum teleportation, and quantum communication.']}, {'tag': 'books', 'patterns': ['Recommend me a book', 'Tell me about your favorite book', 'Book genres'], 'responses': ['Reading is a great way to expand your knowledge and imagination. Some popular genres include fiction, non-fiction, mystery, fantasy, and romance.', 'Books can transport you to different worlds, teach valuable lessons, and inspire personal growth.']}, {'tag': 'movies', 'patterns': ['Recommend me a movie', 'Tell me about your favorite movie', 'Movie genres'], 'responses': ['Movies offer a wide variety of genres, such as action, comedy, drama, thriller, sci-fi, and horror.', 'Watching movies can be a fun and entertaining way to relax and unwind.']}, {'tag': 'workout', 'patterns': ['Tell me about different workout routines', 'How to stay motivated for workouts', 'Benefits of regular exercise'], 'responses': ['Workout routines can include cardio, strength training, yoga, and HIIT workouts. Find one that suits your fitness goals and preferences.', 'Staying motivated for workouts can be easier when you set achievable goals, track progress, and find a workout buddy for accountability.']}, {'tag': 'dancing', 'patterns': ['Tell me about different dance styles', 'How to start learning dancing', 'Benefits of dancing'], 'responses': ['Dance styles vary from hip-hop, ballet, salsa, to contemporary and more. Choose a style that resonates with your interests.', 'Dancing is not only a great form of exercise but also improves coordination, boosts mood, and promotes self-expression.']}, {'tag': 'cooking_tips', 'patterns': ['Tell me about kitchen hacks', 'How to make cooking easier', 'Quick and easy recipes'], 'responses': ['Kitchen hacks can save time and effort, like using lemon to prevent browning of fruits or using an ice cream scoop for cookie dough.', 'For easy recipes, try one-pan meals, salads, or stir-fries that require minimal preparation and cooking time.']}, {'tag': 'travel_destinations', 'patterns': ['Tell me about popular travel destinations', 'Where to travel next', 'Unexplored travel spots'], 'responses': ['Popular travel destinations include Paris, Tokyo, New York, and Bali. Unexplored spots can be found in offbeat regions and lesser-known towns.', 'Traveling allows you to experience new cultures, cuisines, and create lasting memories.']}, {'tag': 'meditation', 'patterns': ['Tell me about different meditation techniques', 'How to meditate effectively', 'Benefits of meditation'], 'responses': ['Meditation techniques include mindfulness, breathing exercises, loving-kindness meditation, and guided meditation.', 'Meditation can reduce stress, improve focus, and promote emotional well-being.']}, {'tag': 'home_decor', 'patterns': ['Tell me about home decor ideas', 'How to decorate a small space', 'DIY home projects'], 'responses': ['Home decor ideas can involve adding plants, changing wall colors, and incorporating cozy textiles for a welcoming space.', 'For small spaces, use multipurpose furniture, mirrors to create an illusion of space, and keep clutter to a minimum.']}, {'tag': 'pet_care', 'patterns': ['Tell me about pet care', 'How to train a puppy', 'Best pet-friendly activities'], 'responses': [\"Pet care involves regular feeding, exercise, grooming, and regular vet check-ups to ensure your pet's well-being.\", 'To train a puppy, use positive reinforcement, consistency, and patience to establish good behaviors.']}, {'tag': 'gardening', 'patterns': ['Tell me about gardening tips', 'How to start a vegetable garden', 'Benefits of indoor plants'], 'responses': ['Gardening tips include choosing the right plants for your climate, watering properly, and using organic fertilizers.', 'Growing a vegetable garden allows you to enjoy fresh produce and connect with nature.']}, {'tag': 'parenting', 'patterns': ['Tell me about parenting tips', 'How to manage work-life balance as a parent', 'Building a strong bond with children'], 'responses': ['Parenting tips involve active listening, setting boundaries, and fostering open communication with your children.', 'Balancing work and family life can be achieved by prioritizing tasks, setting realistic expectations, and seeking support when needed.']}, {'tag': 'time_management', 'patterns': ['Tell me about time management techniques', 'How to stay productive', 'Avoiding procrastination'], 'responses': ['Time management techniques include creating to-do lists, using time blocks, and setting specific goals.', 'To stay productive, identify your most productive hours, eliminate distractions, and take regular breaks.']}, {'tag': 'online_learning', 'patterns': ['Tell me about online learning platforms', 'How to stay motivated while learning online', 'Advantages of e-learning'], 'responses': ['Online learning platforms like Coursera, Udemy, and edX offer a wide range of courses on various subjects.', 'Staying motivated while learning online can be achieved by setting clear learning goals, tracking progress, and participating in online communities.']}, {'tag': 'art_and_crafts', 'patterns': ['Tell me about art and craft ideas', 'How to start a DIY project', 'Benefits of creativity'], 'responses': ['Art and craft ideas can include painting, drawing, knitting, or making handmade cards.', 'Creativity enhances problem-solving skills, reduces stress, and boosts self-esteem.']}, {'tag': 'fashion_trends', 'patterns': ['Tell me about fashion trends', 'How to build a versatile wardrobe', 'Sustainable fashion'], 'responses': ['Fashion trends change over time, but having classic pieces like a white shirt and black pants can create a versatile wardrobe.', 'Sustainable fashion involves choosing eco-friendly materials, supporting ethical brands, and recycling clothing.']}, {'tag': 'budgeting_tips', 'patterns': ['Tell me about frugal living', 'How to save money on groceries', 'Managing finances as a student'], 'responses': ['Frugal living involves being mindful of expenses, budgeting, and finding ways to save money without compromising on needs.', 'To save money on groceries, make a shopping list, compare prices, and look for discounts or coupons.']}, {'tag': 'personal_finances', 'patterns': ['Tell me about financial planning', 'How to start investing', 'Retirement planning tips'], 'responses': ['Financial planning involves setting financial goals, creating a budget, and building an emergency fund.', 'Before investing, research different investment options, consider risk tolerance, and diversify your portfolio.']}, {'tag': 'hobbies', 'patterns': ['Tell me about interesting hobbies', 'How to find a new hobby', 'Benefits of pursuing hobbies'], 'responses': ['Interesting hobbies can include photography, gardening, playing a musical instrument, or learning a new language.', 'Hobbies provide a creative outlet, reduce stress, and contribute to personal growth.']}, {'tag': 'online_security', 'patterns': ['Tell me about online security tips', 'How to create strong passwords', 'Protecting children online'], 'responses': ['Online security tips include using strong passwords, enabling two-factor authentication, and avoiding public Wi-Fi for sensitive transactions.', 'To protect children online, use parental control software, educate them about online safety, and monitor their online activities.']}, {'tag': 'home_repair', 'patterns': ['Tell me about common home repairs', 'How to fix a leaky faucet', 'Hiring professionals for home improvement'], 'responses': ['Common home repairs include fixing a leaky faucet, unclogging drains, and patching small holes in walls.', 'For complex home improvements, hiring a professional can ensure the work is done safely and effectively.']}, {'tag': 'time_for_yourself', 'patterns': ['How to make time for yourself', 'Importance of self-care', 'Relaxation techniques'], 'responses': ['Making time for yourself is essential for mental well-being. Set aside moments for relaxation, hobbies, or simply doing nothing.', 'Self-care involves nurturing your physical, emotional, and mental health to maintain balance and prevent burnout.']}, {'tag': 'volunteering', 'patterns': ['Tell me about volunteering opportunities', 'How to get involved in community service', 'Benefits of volunteering'], 'responses': ['Volunteering opportunities can be found in local organizations, shelters, and community events.', 'Volunteering not only helps others but also gives you a sense of purpose and fulfillment.']}, {'tag': 'creative_writing', 'patterns': ['Tell me about creative writing', \"How to overcome writer's block\", 'Starting a blog'], 'responses': [\"Creative writing includes storytelling, poetry, and fictional works. To overcome writer's block, take breaks, write regularly, and seek inspiration from other authors.\", 'Starting a blog allows you to share your thoughts, knowledge, and passions with a wider audience.']}, {'tag': 'relationship_advice', 'patterns': ['Tell me about relationship advice', 'How to communicate effectively in a relationship', 'Building trust'], 'responses': ['Relationship advice involves open communication, active listening, and expressing feelings and needs.', 'Building trust in a relationship requires honesty, reliability, and being there for each other.']}, {'tag': 'home_organization', 'patterns': ['Tell me about home organization tips', 'How to declutter your space', 'Organizing small living spaces'], 'responses': ['Home organization tips include decluttering regularly, using storage solutions, and assigning specific places for items.', 'For small living spaces, use multi-functional furniture and maximize vertical storage.']}, {'tag': 'study_tips', 'patterns': ['Tell me about effective study techniques', 'How to stay focused while studying', 'Preparing for exams'], 'responses': ['Effective study techniques include active learning, creating study schedules, and taking breaks to avoid burnout.', 'To stay focused while studying, find a quiet and comfortable environment, avoid distractions, and set realistic goals.']}, {'tag': 'positive_affirmations', 'patterns': ['Tell me about positive affirmations', 'How to practice self-affirmation', 'Affirmations for confidence'], 'responses': ['Positive affirmations are powerful statements that promote self-belief and self-empowerment.', 'Practicing self-affirmation involves repeating positive statements daily to reinforce a positive self-image.']}, {'tag': 'mindfulness', 'patterns': ['Tell me about mindfulness', 'How to practice mindfulness meditation', 'Benefits of mindfulness'], 'responses': ['Mindfulness is the practice of being present and fully engaged in the present moment without judgment.', 'Mindfulness meditation can reduce stress, improve focus, and enhance emotional well-being.']}, {'tag': 'car_maintenance', 'patterns': ['Tell me about car maintenance tips', 'How to change a flat tire', 'Regular car inspections'], 'responses': ['Car maintenance tips include regular oil changes, checking tire pressure, and keeping fluids topped up.', 'Knowing how to change a flat tire is a valuable skill that can come in handy during emergencies.']}, {'tag': 'positivity_in_life', 'patterns': ['How to cultivate positivity in life', 'Embracing a positive mindset', 'Seeing challenges as opportunities'], 'responses': ['Cultivating positivity involves focusing on gratitude, surrounding yourself with positive influences, and reframing negative thoughts.', 'A positive mindset can improve resilience and help you approach challenges with optimism.']}, {'tag': 'public_speaking', 'patterns': ['Tell me about public speaking tips', 'How to overcome stage fright', 'Improving presentation skills'], 'responses': ['Public speaking tips include practicing, knowing your audience, and using visual aids to enhance your presentation.', 'To overcome stage fright, visualize success, practice deep breathing, and start with smaller speaking engagements.']}, {'tag': 'healthy_sleep', 'patterns': ['Tell me about healthy sleep habits', 'How to improve sleep quality', 'Importance of a bedtime routine'], 'responses': ['Healthy sleep habits include having a consistent sleep schedule, creating a relaxing bedtime routine, and ensuring a comfortable sleep environment.', 'Improving sleep quality can enhance mood, memory, and overall well-being.']}, {'tag': 'photography', 'patterns': ['Tell me about photography tips', 'How to take better photos', 'Different types of photography'], 'responses': ['Photography tips include understanding composition, lighting, and using manual settings on your camera.', 'Different types of photography include portrait, landscape, wildlife, and street photography.']}, {'tag': 'self_defense', 'patterns': ['Tell me about self-defense techniques', 'How to stay safe in public places', 'Building self-confidence'], 'responses': ['Self-defense techniques involve learning basic strikes, blocks, and using your voice to create distance from potential threats.', 'Staying safe in public places can involve being aware of your surroundings, avoiding isolated areas, and trusting your instincts.']}, {'tag': 'hiking', 'patterns': ['Tell me about hiking trails', 'How to prepare for a hiking trip', 'Benefits of hiking'], 'responses': ['Hiking trails vary in difficulty and can lead to beautiful landscapes, waterfalls, or scenic viewpoints.', 'Before a hiking trip, research the trail, pack essential items like water, snacks, and a first aid kit, and let someone know your hiking plans.']}, {'tag': 'nutrition_tips', 'patterns': ['Tell me about healthy eating habits', 'How to plan balanced meals', 'Benefits of eating fruits and vegetables'], 'responses': ['Healthy eating habits involve incorporating a variety of fruits, vegetables, whole grains, and lean proteins in your diet.', 'Balanced meals provide essential nutrients, energy, and support overall well-being.']}, {'tag': 'positive_relationships', 'patterns': ['How to build positive relationships', 'Importance of empathy and compassion', 'Resolving conflicts'], 'responses': ['Building positive relationships involves being supportive, showing empathy, and communicating openly and honestly.', \"Empathy and compassion are essential for understanding others' perspectives and fostering strong connections.\"]}, {'tag': 'home_fitness', 'patterns': ['Tell me about home workout equipment', 'Creating a home gym', 'Staying fit at home'], 'responses': ['Home workout equipment can include resistance bands, dumbbells, yoga mats, or a stationary bike.', 'Creating a home gym allows you to exercise conveniently and consistently without leaving your house.']}, {'tag': 'job_interview_tips', 'patterns': ['Tell me about job interview preparation', 'How to answer common interview questions', 'Dressing for job interviews'], 'responses': ['Job interview preparation involves researching the company, practicing answers to common questions, and preparing questions to ask the interviewer.', 'Dressing professionally for job interviews shows respect and helps create a positive first impression.']}, {'tag': 'baking', 'patterns': ['Tell me about baking tips', 'How to make homemade bread', 'Delicious cake recipes'], 'responses': ['Baking tips include measuring ingredients accurately, following recipes, and understanding baking terms like creaming and folding.', 'Homemade bread can be made with simple ingredients, time, and patience. For cakes, try classic flavors like chocolate or vanilla, or experiment with fruity combinations.']}, {'tag': 'leadership_skills', 'patterns': ['Tell me about developing leadership skills', 'How to lead a team effectively', 'Leadership qualities'], 'responses': ['Developing leadership skills involves continuous learning, setting a positive example, and empowering others.', 'To lead a team effectively, communicate clearly, delegate tasks, and foster a collaborative and inclusive environment.']}, {'tag': 'job_search', 'patterns': ['Tell me about job search strategies', 'How to write a compelling resume', 'Using LinkedIn for job hunting'], 'responses': ['Job search strategies include networking, attending job fairs, and using online job boards.', 'A compelling resume highlights relevant skills, experiences, and achievements. LinkedIn can be a valuable tool for connecting with potential employers.']}, {'tag': 'goal_setting', 'patterns': ['Tell me about setting and achieving goals', 'How to break down big goals into smaller tasks', 'Staying motivated during goal pursuit'], 'responses': ['Setting specific, measurable, achievable, relevant, and time-bound (SMART) goals increases the likelihood of success.', 'Breaking down big goals into smaller tasks makes them more manageable and provides a sense of progress.']}, {'tag': 'food_dietary_restrictions', 'patterns': ['Tell me about dietary restrictions', 'How to accommodate food allergies at gatherings', 'Vegan and vegetarian options'], 'responses': ['Dietary restrictions can be due to allergies, intolerances, religious beliefs, or ethical choices.', 'Accommodating food allergies at gatherings involves clear communication, label reading, and preparing separate dishes for allergic individuals.']}, {'tag': 'technology_addiction', 'patterns': ['Tell me about managing technology addiction', 'Setting boundaries with digital devices', 'Digital detox tips'], 'responses': ['Managing technology addiction involves setting designated tech-free times, using screen time trackers, and finding alternative activities.', 'Setting boundaries with digital devices can improve sleep, productivity, and overall well-being.']}, {'tag': 'pet_training', 'patterns': ['Tell me about pet training tips', 'How to teach basic commands to dogs', 'Crate training for puppies'], 'responses': ['Pet training tips include using positive reinforcement, consistency, and patience to teach new behaviors.', 'Crate training for puppies helps with house training, provides a safe space, and prevents destructive behavior.']}, {'tag': 'singing', 'patterns': ['Tell me about singing techniques', 'How to warm up before singing', 'Joining a singing group'], 'responses': ['Singing techniques involve proper breathing, vocal exercises, and improving pitch and tone.', 'Warming up before singing helps prevent strain and prepares your voice for optimal performance.']}, {'tag': 'plastic_waste_reduction', 'patterns': ['Tell me about reducing plastic waste', 'Using reusable alternatives', 'Benefits of recycling'], 'responses': ['Reducing plastic waste can be achieved by using reusable water bottles, shopping bags, and containers.', 'Recycling plastic reduces the amount of plastic pollution and conserves natural resources.']}, {'tag': 'online_business', 'patterns': ['Tell me about starting an online business', 'How to build an e-commerce website', 'Social media marketing'], 'responses': ['Starting an online business involves identifying a niche, creating a business plan, and choosing an e-commerce platform.', 'Building an e-commerce website requires user-friendly design, secure payment options, and product descriptions.']}, {'tag': 'yoga', 'patterns': ['Tell me about different yoga styles', 'How to start practicing yoga', 'Benefits of yoga for mental health'], 'responses': ['Yoga styles range from Hatha, Vinyasa, to Ashtanga and offer various levels of intensity and focus.', 'Starting yoga involves finding a suitable class or online tutorials and listening to your body during practice.']}, {'tag': 'staying_connected', 'patterns': ['Tell me about staying connected with loved ones', 'Importance of maintaining relationships', 'Long-distance friendships'], 'responses': ['Staying connected with loved ones involves regular calls, video chats, and planning visits when possible.', 'Maintaining relationships fosters emotional support, happiness, and a sense of belonging.']}, {'tag': 'eco-friendly_transportation', 'patterns': ['Tell me about eco-friendly transportation options', 'Advantages of cycling or walking', 'Using public transportation'], 'responses': ['Eco-friendly transportation options include cycling, walking, using public transportation, or carpooling.', 'Cycling or walking benefits the environment and promotes physical activity.']}, {'tag': 'positive_self-talk', 'patterns': ['Tell me about positive self-talk', 'How to practice self-compassion', 'Building self-confidence'], 'responses': ['Positive self-talk involves replacing negative thoughts with supportive and affirming ones.', 'Practicing self-compassion involves treating yourself with kindness and understanding during challenging times.']}, {'tag': 'composting', 'patterns': ['Tell me about composting', 'How to start a compost pile', 'Benefits of composting'], 'responses': ['Composting is the process of recycling organic waste into nutrient-rich soil conditioner.', 'Composting reduces food waste, enriches soil, and supports sustainable gardening.']}, {'tag': 'digital_organization', 'patterns': ['Tell me about organizing digital files', 'Creating folders and file naming conventions', 'Backup and data protection'], 'responses': ['Organizing digital files involves creating folders, using descriptive file names, and decluttering regularly.', 'Backing up data is crucial to prevent data loss in case of hardware failure or accidents.']}, {'tag': 'mindful_eating', 'patterns': ['Tell me about mindful eating', 'How to eat mindfully', 'Benefits of mindful eating'], 'responses': ['Mindful eating involves savoring each bite, eating slowly, and paying attention to hunger and fullness cues.', 'Practicing mindful eating can help improve digestion, prevent overeating, and enhance enjoyment of meals.']}, {'tag': 'emotional_intelligence', 'patterns': ['Tell me about emotional intelligence', 'How to develop emotional intelligence', 'Benefits of emotional intelligence in relationships'], 'responses': ['Emotional intelligence involves understanding and managing emotions in oneself and others.', 'Developing emotional intelligence can lead to better communication, empathy, and healthier relationships.']}, {'tag': 'home_security', 'patterns': ['Tell me about home security measures', 'Installing a security system', 'Creating a safe home environment'], 'responses': ['Home security measures include installing locks, security cameras, and motion sensor lights.', 'A security system can provide peace of mind and deter potential intruders.']}, {'tag': 'memory_improvement', 'patterns': ['Tell me about memory improvement techniques', 'How to enhance memory retention', 'Brain exercises'], 'responses': ['Memory improvement techniques include visualization, association, and regular mental exercises.', 'Practicing brain exercises, like puzzles or memory games, can sharpen cognitive abilities.']}, {'tag': 'social_media_detox', 'patterns': ['Tell me about social media detox', 'How to reduce social media usage', 'Benefits of unplugging from social media'], 'responses': ['A social media detox involves taking a break from social media platforms for mental and emotional well-being.', 'Reducing social media usage can improve focus, productivity, and sleep.']}, {'tag': 'pet_adoption', 'patterns': ['Tell me about pet adoption', 'How to choose the right pet', 'Responsibilities of pet ownership'], 'responses': ['Pet adoption provides a loving home to animals in need and brings joy and companionship to families.', 'Choosing the right pet involves considering lifestyle, space, and the time you can dedicate to care.']}, {'tag': 'interpersonal_skills', 'patterns': ['Tell me about interpersonal skills', 'How to improve communication skills', 'Respecting diverse perspectives'], 'responses': ['Interpersonal skills involve active listening, empathy, and adaptability in social interactions.', 'Improving communication skills can enhance relationships and minimize misunderstandings.']}, {'tag': 'reducing_energy_consumption', 'patterns': ['Tell me about reducing energy consumption', 'Energy-saving tips at home', 'Benefits of energy conservation'], 'responses': ['Reducing energy consumption involves using energy-efficient appliances, turning off lights when not in use, and properly insulating your home.', 'Energy conservation helps lower utility bills and reduces the environmental impact.']}, {'tag': 'language_learning', 'patterns': ['Tell me about language learning tips', 'How to practice a new language daily', 'Benefits of being multilingual'], 'responses': ['Language learning tips include immersing yourself in the language, practicing regularly, and using language-learning apps or resources.', 'Being multilingual can expand career opportunities, improve cognitive function, and enhance cultural understanding.']}, {'tag': 'self_defense_for_women', 'patterns': ['Tell me about self-defense for women', 'Empowering women with self-defense skills', 'Safety tips for women'], 'responses': ['Self-defense for women involves learning techniques to protect oneself and create a sense of empowerment.', 'Safety tips for women include being aware of surroundings, trusting instincts, and avoiding risky situations.']}, {'tag': 'healthy_relationship_with_food', 'patterns': ['Tell me about having a healthy relationship with food', 'Overcoming disordered eating patterns', 'Balanced approach to nutrition'], 'responses': ['Having a healthy relationship with food involves listening to hunger and fullness cues, practicing intuitive eating, and avoiding restrictive diets.', 'Overcoming disordered eating patterns may require professional support and a compassionate approach towards oneself.']}, {'tag': 'procrastination', 'patterns': ['Tell me about overcoming procrastination', 'Tips to stay focused and productive', 'Breaking the cycle of procrastination'], 'responses': ['Overcoming procrastination involves breaking tasks into smaller steps, setting deadlines, and using time management techniques.', 'To stay focused and productive, create a conducive work environment, eliminate distractions, and reward yourself for completing tasks.']}, {'tag': 'daily_meditation', 'patterns': ['Tell me about daily meditation practice', 'Creating a meditation routine', 'Benefits of regular meditation'], 'responses': ['Daily meditation practice involves setting aside time each day for quiet reflection, mindfulness, or deep breathing exercises.', 'Regular meditation can reduce stress, improve mental clarity, and enhance overall well-being.']}, {'tag': 'charity_donations', 'patterns': ['Tell me about charity donations', 'Choosing a reputable charity organization', 'Ways to support charitable causes'], 'responses': ['Charity donations support various causes, such as education, health, environmental conservation, and humanitarian aid.', 'Before donating, research and verify the legitimacy and impact of the charity organization.']}, {'tag': 'resilience', 'patterns': ['Tell me about building resilience', 'Coping with setbacks and challenges', 'Developing emotional strength'], 'responses': ['Building resilience involves accepting change, developing problem-solving skills, and seeking support from others.', 'Coping with setbacks requires self-compassion and a focus on learning and growth.']}, {'tag': 'meal_preparation', 'patterns': ['Tell me about meal preparation tips', 'How to plan and prep meals in advance', 'Benefits of meal prepping'], 'responses': ['Meal preparation tips include planning meals, batch cooking, and using reusable meal containers.', 'Meal prepping saves time, reduces food waste, and promotes healthier eating habits.']}, {'tag': 'work_life_balance', 'patterns': ['Tell me about achieving work-life balance', 'Setting boundaries between work and personal life', 'The importance of self-care in maintaining balance'], 'responses': ['Achieving work-life balance involves prioritizing personal time, setting boundaries, and knowing when to take breaks.', 'Self-care is essential for maintaining balance and preventing burnout.']}, {'tag': 'mindfulness_in_nature', 'patterns': ['Tell me about mindfulness in nature', 'Practicing nature meditation', 'Connecting with the natural world'], 'responses': ['Mindfulness in nature involves being present and fully experiencing the sights, sounds, and sensations of the natural environment.', 'Nature meditation can reduce stress and foster a deeper connection with the outdoors.']}, {'tag': 'journaling', 'patterns': ['Tell me about journaling benefits', 'How to start a journaling practice', 'Different journaling styles'], 'responses': ['Journaling benefits include stress relief, self-reflection, and gaining insights into thoughts and emotions.', 'Starting a journaling practice can involve writing freely, using prompts, or maintaining a gratitude journal.']}, {'tag': 'reducing_single_use_plastics', 'patterns': ['Tell me about reducing single-use plastics', 'Using eco-friendly alternatives', 'Supporting plastic-free initiatives'], 'responses': ['Reducing single-use plastics involves using reusable water bottles, coffee cups, and shopping bags.', 'Supporting plastic-free initiatives and advocating for sustainable practices can drive positive change.']}, {'tag': 'team_building', 'patterns': ['Tell me about team-building activities', 'How to foster a positive team dynamic', 'Improving communication within teams'], 'responses': ['Team-building activities can include team retreats, problem-solving exercises, and icebreaker games.', 'Fostering a positive team dynamic requires open communication, trust, and recognizing individual strengths.']}, {'tag': 'financial_investing', 'patterns': ['Tell me about financial investing', 'Understanding stocks, bonds, and mutual funds', 'Creating a diversified investment portfolio'], 'responses': ['Financial investing involves putting money into assets like stocks, bonds, and mutual funds with the expectation of generating returns over time.', 'Diversifying your investment portfolio can help manage risk and optimize returns.']}, {'tag': 'reusable_transportation', 'patterns': ['Tell me about using reusable transportation', 'Benefits of cycling or walking for commuting', 'Car-sharing and ride-sharing services'], 'responses': ['Using reusable transportation, like cycling or walking, reduces carbon emissions and promotes physical fitness.', 'Car-sharing and ride-sharing services provide convenient alternatives to private car ownership.']}, {'tag': 'generosity_and_giving', 'patterns': ['Tell me about the importance of generosity and giving', 'Ways to give back to the community', 'Volunteer opportunities'], 'responses': ['Generosity and giving can create a positive impact on individuals and communities in need.', 'Ways to give back include volunteering time, donating to charities, and supporting local causes.']}, {'tag': 'energy_boosting_foods', 'patterns': ['Tell me about energy-boosting foods', 'Nutritious snacks for an energy pick-me-up', 'Importance of staying hydrated'], 'responses': ['Energy-boosting foods include fruits, nuts, whole grains, and foods rich in protein and antioxidants.', 'Snacks like trail mix, yogurt, or smoothies can provide a quick energy pick-me-up during busy days.']}, {'tag': 'exploring_culture_and_traditions', 'patterns': ['Tell me about exploring different cultures and traditions', 'How to embrace diversity', 'Benefits of cultural exchange'], 'responses': ['Exploring different cultures and traditions can broaden perspectives, foster empathy, and promote tolerance and understanding.', 'Embracing diversity enriches communities and allows for a greater appreciation of the world.']}, {'tag': 'effective_communication_in_relationships', 'patterns': ['Tell me about effective communication in relationships', 'Active listening and empathy', 'Resolving conflicts peacefully'], 'responses': [\"Effective communication in relationships involves active listening, expressing emotions constructively, and validating each other's feelings.\", 'Practicing empathy and resolving conflicts peacefully strengthen emotional bonds.']}, {'tag': 'cooking_for_special_occasions', 'patterns': ['Tell me about cooking for special occasions', 'Creating a memorable dinner party menu', 'Dessert recipes for celebrations'], 'responses': ['Cooking for special occasions allows you to showcase your culinary skills and create unforgettable dining experiences.', \"When planning a dinner party menu, consider your guests' preferences and dietary restrictions.\"]}, {'tag': 'developing_creativity_in_children', 'patterns': ['Tell me about developing creativity in children', 'Art and craft activities for kids', 'The importance of unstructured play'], 'responses': ['Developing creativity in children involves encouraging imaginative play, providing art supplies, and fostering curiosity and exploration.', 'Art and craft activities can enhance fine motor skills, self-expression, and cognitive development.']}, {'tag': 'emotional_resilience_in_children', 'patterns': ['Tell me about fostering emotional resilience in children', 'Teaching coping skills for challenges', 'Building a supportive and nurturing environment'], 'responses': ['Fostering emotional resilience in children involves validating their feelings, teaching problem-solving, and helping them develop a growth mindset.', 'A supportive and nurturing environment at home and school contributes to emotional well-being.']}, {'tag': 'self_reflection', 'patterns': ['Tell me about the importance of self-reflection', 'Journaling for self-discovery', 'Embracing personal growth'], 'responses': ['Self-reflection is essential for gaining self-awareness, identifying strengths and areas for growth, and making positive changes in life.', 'Journaling can be a powerful tool for self-discovery, emotional processing, and goal-setting.']}, {'tag': 'mindful_technology_usage', 'patterns': ['Tell me about mindful technology usage', 'Setting digital boundaries for a healthy lifestyle', 'Balancing screen time with real-world experiences'], 'responses': ['Mindful technology usage involves being intentional with screen time, setting boundaries, and using technology in ways that support well-being.', 'Balancing screen time with real-world experiences fosters social connections and reduces digital overwhelm.']}, {'tag': 'youth_mental_health', 'patterns': ['Tell me about youth mental health', \"Supporting teenagers' emotional well-being\", 'Recognizing signs of distress in young people'], 'responses': ['Youth mental health is crucial for overall well-being and requires understanding, support, and open communication.', \"Supporting teenagers' emotional well-being involves being approachable, validating their feelings, and encouraging help-seeking behavior when needed.\"]}, {'tag': 'mindful_consumption', 'patterns': ['Tell me about mindful consumption', 'Practicing sustainable shopping habits', 'Responsible use of resources'], 'responses': ['Mindful consumption involves being conscious of your purchasing choices, buying only what you need, and considering the environmental impact of products.', 'Practicing sustainable shopping habits, like buying second-hand items and supporting eco-friendly brands, can contribute to reducing waste and promoting ethical production.']}, {'tag': 'effective_study_groups', 'patterns': ['Tell me about effective study groups', 'Benefits of group studying', 'Setting study goals as a team'], 'responses': ['Effective study groups can enhance learning through peer discussions, explaining concepts to others, and sharing study resources.', 'Setting study goals as a team and holding each other accountable can lead to improved academic performance.']}, {'tag': 'social_anxiety', 'patterns': ['Tell me about coping with social anxiety', 'Practicing relaxation techniques for social situations', 'Seeking professional support for anxiety disorders'], 'responses': ['Coping with social anxiety involves challenging negative thoughts, gradual exposure to social situations, and learning relaxation techniques to manage anxiety symptoms.', 'For severe social anxiety or anxiety disorders, seeking professional support, such as therapy or counseling, can be beneficial.']}, {'tag': 'responsible_pet_ownership', 'patterns': ['Tell me about responsible pet ownership', 'Importance of regular vet check-ups', 'Creating a safe and enriching environment for pets'], 'responses': ['Responsible pet ownership involves providing proper nutrition, regular exercise, and veterinary care for pets.', \"Regular vet check-ups help monitor a pet's health, detect potential issues early, and ensure they are up-to-date on vaccinations.\"]}, {'tag': 'gardening', 'patterns': ['Tell me about gardening as a hobby', 'Growing herbs and vegetables at home', 'The therapeutic benefits of gardening'], 'responses': ['Gardening can be a fulfilling hobby that allows you to connect with nature, grow your own food, and create beautiful landscapes.', 'Growing herbs and vegetables at home provides fresh and nutritious produce for your meals.']}, {'tag': 'waste_reduction_at_work', 'patterns': ['Tell me about waste reduction at work', 'Encouraging recycling and proper waste disposal in the workplace', 'Implementing sustainable practices in office settings'], 'responses': ['Waste reduction at work involves promoting recycling, minimizing paper usage, and encouraging employees to adopt sustainable practices.', 'Implementing sustainable practices, like energy-efficient lighting and reducing single-use plastics, can contribute to a greener workplace.']}, {'tag': 'effective_decision_making', 'patterns': ['Tell me about effective decision-making', 'Using pros and cons analysis for choices', 'Trusting intuition in decision-making'], 'responses': ['Effective decision-making involves gathering information, weighing pros and cons, and considering the potential outcomes.', 'Trusting intuition in decision-making can be valuable, especially when facing complex choices.']}, {'tag': 'alien_invasion', 'patterns': ['What would you do during an alien invasion?', 'How to prepare for an alien attack?', 'Best escape plan during an alien invasion'], 'responses': [\"In case of an alien invasion, it's best to find a safe shelter and avoid attracting attention.\", 'Preparing for an alien attack may involve stocking up on supplies and creating a communication plan with loved ones.']}, {'tag': 'space_travel', 'patterns': ['Tell me about traveling to space', 'How to become an astronaut', 'Best space destinations for tourists'], 'responses': ['Space travel is a fascinating experience but requires rigorous training and physical fitness to become an astronaut.', 'Space tourism is an emerging industry, and some private companies offer opportunities for civilians to experience space travel.']}, {'tag': 'ninja_skills', 'patterns': ['How to learn ninja skills', 'Ninja training techniques', 'Secrets of stealth and invisibility'], 'responses': ['Ninja skills are steeped in secrecy and traditionally passed down through generations.', 'Learning ninja skills involves mastering martial arts, stealth, and discipline.']}, {'tag': 'time_travel', 'patterns': ['Tell me about time travel theories', 'How to build a time machine', 'Visiting historical events through time travel'], 'responses': ['Time travel remains a theoretical concept, and various scientific theories explore its possibilities.', \"Building a time machine is currently beyond our technological capabilities, but it's a fascinating idea.\"]}, {'tag': 'unicorn_taming', 'patterns': ['How to tame a unicorn', 'Best treats for unicorns', 'Where to find wild unicorns'], 'responses': ['Taming a unicorn is a mythical endeavor, as unicorns are legendary creatures.', 'Unicorns are said to be elusive, and their existence is a matter of folklore.']}, {'tag': 'wizard_training', 'patterns': ['How to become a wizard', 'Wizardry schools and academies', 'Essential spells for beginners'], 'responses': ['Becoming a wizard involves studying magical arts, honing spellcasting skills, and understanding the mystical world.', 'Wizardry schools, like Hogwarts in Harry Potter, are iconic in fiction but do not exist in the real world.']}, {'tag': 'chocolate_obsession', 'patterns': ['Tell me about a chocolate obsession', 'Indulging in chocolate guilt-free', 'Chocolate-themed parties and events'], 'responses': ['A chocolate obsession is common, given the deliciousness of this sweet treat!', 'Enjoying chocolate in moderation can be a delightful and guilt-free experience.']}, {'tag': 'telepathy_skills', 'patterns': ['How to develop telepathy skills', 'Communicating through telepathy', 'Experiencing mind-reading abilities'], 'responses': ['Telepathy is a paranormal phenomenon, and there is no scientific evidence to support its existence.', 'The concept of telepathy has captivated human imagination for centuries.']}, {'tag': 'butterfly_language', 'patterns': ['Understanding the language of butterflies', 'Talking to butterflies for relaxation', 'Interpreting butterfly movements'], 'responses': ['Butterflies do not have a formal language, but observing their behavior can be a peaceful and meditative experience.', \"Butterflies' vibrant colors and graceful flights are nature's marvels.\"]}, {'tag': 'astral_projection', 'patterns': ['Tell me about astral projection', 'How to have an out-of-body experience', 'Exploring the astral plane'], 'responses': [\"Astral projection is an esoteric concept where one's consciousness is believed to travel outside the physical body.\", 'Astral projection is a mystical idea explored in spiritual practices and metaphysical beliefs.']}, {'tag': 'dragon_riding', 'patterns': ['Tell me about riding a dragon', 'How to befriend a dragon', 'Visiting dragon sanctuaries'], 'responses': ['Riding a dragon is a magical notion found in mythology and fantasy tales.', 'Dragons are mythical creatures often depicted as powerful and awe-inspiring.']}, {'tag': 'cloud_castles', 'patterns': ['Building castles in the clouds', 'Cloud castle architecture', 'Living in cloud cities'], 'responses': ['Building castles in the clouds is an imaginative expression for daydreaming or envisioning the impossible.', 'Cloud cities and castles remain confined to dreams and fictional stories.']}, {'tag': 'plant_whispering', 'patterns': ['How to communicate with plants', \"Listening to plants' whispers\", 'Plant emotions and feelings'], 'responses': ['Plant whispering is a metaphorical concept that emphasizes the importance of caring for and understanding plants.', 'Plants respond positively to proper care and nurturing, although they do not communicate through language.']}, {'tag': 'pirate_treasures', 'patterns': ['Tell me about hidden pirate treasures', 'Where to find buried pirate loot', 'Pirate maps and clues'], 'responses': [\"Hidden pirate treasures are legendary tales that have captivated people's imaginations for centuries.\", 'Pirate folklore often includes stories of buried treasure chests and treasure maps.']}, {'tag': 'underwater_exploration', 'patterns': ['Tell me about exploring the depths of the ocean', 'Discovering underwater civilizations', 'Encounters with mythical sea creatures'], 'responses': [\"Underwater exploration reveals the fascinating marine life and ecosystems that exist beneath the ocean's surface.\", 'Mythical sea creatures, like mermaids and sea monsters, are a part of folklore and legends.']}, {'tag': 'alien_languages', 'patterns': ['Learning alien languages', 'Translating extraterrestrial communications', 'Universal communication with aliens'], 'responses': ['Alien languages are a fictional construct used in science fiction stories and movies.', 'If aliens exist, communicating with them would be a complex and challenging task.']}, {'tag': 'enchanted_forests', 'patterns': ['Tell me about enchanted forests', 'Magical creatures in the woods', 'Seeking magical wisdom from forest spirits'], 'responses': ['Enchanted forests are often depicted as mysterious and magical places in folklore and fairy tales.', 'Folklore and mythology abound with stories of mystical creatures and spirits residing in forests.']}, {'tag': 'invisibility_cloak', 'patterns': ['How to make an invisibility cloak', 'Mastering the art of invisibility', 'Adventures with an invisible cloak'], 'responses': ['Invisibility cloaks are fantastical objects found in fantasy literature, not in the real world.', 'The idea of invisibility has intrigued humanity throughout history.']}, {'tag': 'talking_animals', 'patterns': ['Tell me about talking animals', 'Conversations with intelligent animals', 'The language of animals'], 'responses': [\"Talking animals are a common theme in children's stories and animated movies.\", 'In reality, animals communicate through body language, vocalizations, and other non-verbal cues.']}, {'tag': 'robot_companions', 'patterns': ['Having a robot companion', 'Choosing the perfect robot friend', 'Adventures with a robotic buddy'], 'responses': ['Robot companions are a concept explored in science fiction, where robots are designed to interact with humans as friends or helpers.', 'In the real world, robots are used for practical purposes like automation and assistance in industries.']}, {'tag': 'magic_school', 'patterns': ['Tell me about attending a magic school', 'Enrolling in a school of sorcery', 'Classes in magical arts'], 'responses': ['Magic schools, like the ones depicted in fantasy books and movies, are fictional settings for learning spells and wizardry.', 'In real life, education focuses on science, technology, arts, and other practical subjects.']}, {'tag': 'enchanted_potions', 'patterns': ['Brewing enchanted potions', 'Ingredients for magical elixirs', 'Potions for love and luck'], 'responses': ['Enchanted potions are a common element in magical tales, capable of granting wishes or causing transformations.', 'In reality, potions and elixirs are symbolic representations used in rituals and cultural practices.']}, {'tag': 'treasure_hunting', 'patterns': ['Tell me about treasure hunting', 'Following ancient maps to hidden riches', 'The excitement of discovering buried treasure'], 'responses': ['Treasure hunting is a thrilling pursuit depicted in adventure stories and historical tales.', 'Real-world treasure hunting involves searching for historical artifacts and archaeological discoveries.']}, {'tag': 'paranormal_investigation', 'patterns': ['How to investigate paranormal activity', 'Encounters with ghosts and spirits', 'Haunted locations to explore'], 'responses': ['Paranormal investigation involves exploring phenomena like ghosts, poltergeists, and supernatural events.', 'People who engage in paranormal investigation are often intrigued by the unknown and unexplained.']}, {'tag': 'superhero_training', 'patterns': ['Tell me about superhero training', 'Becoming a real-life superhero', 'Discovering hidden superpowers'], 'responses': [\"Superhero training is a popular theme in comic books and superhero movies, showcasing characters' journeys to become powerful defenders of justice.\", 'In reality, ordinary people can become heroes through acts of kindness, bravery, and compassion.']}, {'tag': 'time_bending', 'patterns': ['Tell me about bending time', 'Manipulating time for travel and exploration', 'The science behind time manipulation'], 'responses': ['Bending time is a concept often explored in science fiction and speculative fiction.', 'Time is a fundamental dimension in physics, and its manipulation remains theoretical.']}, {'tag': 'extraterrestrial_cuisine', 'patterns': ['Trying extraterrestrial cuisine', 'Unique flavors from outer space', 'Preparing alien-inspired dishes'], 'responses': ['Extraterrestrial cuisine is an imaginative concept that explores what food might be like on other planets.', 'While we have not encountered aliens, culinary creativity allows us to imagine otherworldly flavors.']}, {'tag': 'dream_world', 'patterns': ['Tell me about the dream world', 'Lucid dreaming and controlling dreams', 'Creating dreamscapes'], 'responses': ['The dream world is a realm of imagination and subconscious experiences that occur during sleep.', \"Lucid dreaming is a phenomenon where individuals are aware that they are dreaming and can sometimes influence the dream's content.\"]}, {'tag': 'book_of_spells', 'patterns': ['Possessing a book of magical spells', 'Unleashing the power of ancient incantations', 'Collecting rare and powerful spells'], 'responses': ['The idea of a book of spells is a popular trope in fantasy literature, where mystical tomes contain powerful incantations and enchantments.', 'In reality, books are valuable sources of knowledge and information.']}, {'tag': 'space_dance_party', 'patterns': ['Hosting a dance party in space', 'Zero-gravity dance moves', 'Inviting aliens to a cosmic disco'], 'responses': ['A space dance party is an imaginative idea where people groove to music amidst the stars.', 'While there are no dance parties in space, astronauts do exercises to stay fit in microgravity.']}, {'tag': 'rainbow_treasure', 'patterns': ['Hunting for the end of a rainbow', 'Discovering a pot of gold', 'The secrets of rainbow lore'], 'responses': [\"The end of a rainbow is an optical illusion, and it's impossible to physically reach it.\", 'Rainbows are natural phenomena caused by the refraction and dispersion of light.']}, {'tag': 'jedi_training', 'patterns': ['How to become a Jedi', 'Mastering lightsaber combat', 'Balancing the Force within'], 'responses': ['Jedi are iconic characters from the Star Wars universe, skilled in the ways of the Force and lightsaber combat.', 'In real life, individuals can practice martial arts and mindfulness to develop discipline and inner strength.']}, {'tag': 'timeless_treasures', 'patterns': ['Collecting timeless treasures', 'Exploring ancient artifacts', 'Preserving relics from the past'], 'responses': ['Timeless treasures are valuable artifacts and objects that hold historical, cultural, or sentimental significance.', 'Museums and historical sites preserve relics from the past for future generations.']}, {'tag': 'mermaid_encounters', 'patterns': ['Tell me about encountering mermaids', 'Swimming with merfolk in the ocean', 'Folktales of mermaid kingdoms'], 'responses': ['Mermaids are mythical aquatic creatures often depicted as part-human and part-fish.', 'Mermaid legends have been part of maritime folklore across various cultures.']}, {'tag': 'mind_reading_glasses', 'patterns': ['Wearing mind-reading glasses', 'Understanding thoughts through eyewear', 'The science of reading minds'], 'responses': [\"Mind-reading glasses are a fantastical idea, where glasses allow wearers to perceive others' thoughts.\", 'Mind-reading is not scientifically proven, and respecting privacy is essential in human interactions.']}, {'tag': 'time_warps', 'patterns': ['Tell me about time warps and wormholes', 'Time travel through cosmic anomalies', 'Navigating through time vortexes'], 'responses': ['Time warps and wormholes are theoretical concepts in physics, which suggest shortcuts in space-time.', 'The idea of time travel through wormholes has captured the imagination of scientists and science fiction enthusiasts.']}, {'tag': 'fortune_cookie_messages', 'patterns': ['Interpreting fortune cookie messages', 'Fortune cookie predictions coming true', 'Writing personalized fortune cookies'], 'responses': ['Fortune cookie messages are fun and often vague predictions or words of wisdom.', 'Fortune cookies are a popular tradition in Chinese restaurants and are enjoyed as a lighthearted treat.']}, {'tag': 'enchanted_music', 'patterns': ['Listening to enchanted music', 'Music that casts spells and charms', 'Magical melodies and songs'], 'responses': ['Enchanted music is an imaginative concept where melodies possess mystical qualities.', 'Music has the power to evoke emotions, memories, and a sense of wonder.']}, {'tag': 'comedy_tonic', 'patterns': ['Using comedy as a tonic for happiness', 'Laughter as a remedy for stress', 'Creating joy with humor'], 'responses': ['Comedy is a fantastic tonic for lifting spirits and promoting positivity.', 'Laughter is known to have therapeutic effects and is beneficial for mental well-being.']}, {'tag': 'fire-breathing_dragon', 'patterns': ['Tell me about a fire-breathing dragon', 'Dragon breath and its power', 'Challenges of taming a dragon'], 'responses': ['Fire-breathing dragons are legendary creatures in myths and folklore, known for their ability to exhale fire.', 'Taming a dragon is a perilous quest depicted in many heroic tales.']}, {'tag': 'mind_control', 'patterns': ['Exploring the concept of mind control', 'Mind control in science fiction', 'Psychic abilities and mental manipulation'], 'responses': [\"Mind control is a sci-fi trope where individuals possess the power to control others' thoughts and actions.\", 'In reality, mind control remains a subject of science fiction and not a real-world capability.']}, {'tag': 'flying_on_broomsticks', 'patterns': ['Tell me about flying on broomsticks', 'Mastering the art of broomstick riding', 'The thrill of broomstick races'], 'responses': ['Flying on broomsticks is a magical ability attributed to witches and wizards in folklore and fantasy literature.', 'Broomstick races and aerial sports are popular events in fictional wizarding worlds.']}, {'tag': 'enchanted_books', 'patterns': ['Discovering enchanted books', 'Books that come to life', 'Reading spells from magical tomes'], 'responses': ['Enchanted books are a common theme in fantasy, where books possess magical properties or contain hidden knowledge.', 'Books are wonderful sources of knowledge, allowing readers to explore new worlds and ideas.']}, {'tag': 'starship_adventures', 'patterns': ['Tell me about starship adventures', 'Captain of a starship crew', 'Exploring distant galaxies'], 'responses': ['Starship adventures are thrilling journeys through space, encountering alien civilizations and cosmic wonders.', 'While starships are common in science fiction, real-world space exploration involves robotic missions and astronaut expeditions.']}, {'tag': 'enchanted_garden', 'patterns': ['Visiting an enchanted garden', 'Magical flora and fauna', 'Speaking with enchanted plants'], 'responses': ['Enchanted gardens are mystical places filled with magical plants, flowers, and creatures.', 'Gardens in reality are beautiful sanctuaries where people can connect with nature.']}, {'tag': 'time_crystals', 'patterns': ['Tell me about time crystals', 'The mysteries of temporal crystals', 'Time manipulation with crystal energy'], 'responses': ['Time crystals are theoretical structures with repeating patterns that exist in time rather than space.', 'Time crystals are an exciting concept in quantum physics, but their practical applications are still theoretical.']}, {'tag': 'magic_mirrors', 'patterns': ['Using magic mirrors for communication', 'Portals to other dimensions', 'Mirror reflections revealing the truth'], 'responses': ['Magic mirrors are a common motif in folklore and fairy tales, serving as tools for communication and divination.', 'Mirrors have long been associated with symbolism and metaphors in various cultures.']}, {'tag': 'cloud_castle_ruler', 'patterns': ['Becoming the ruler of a cloud castle', 'Cloud castle governance and policies', 'Pros and cons of cloud kingdom leadership'], 'responses': ['Ruling a cloud castle is a whimsical notion, given that cloud castles exist only in the realms of fantasy.', 'Cloud castles are dreamlike representations of majestic palaces amidst the sky.']}, {'tag': 'shape-shifting_abilities', 'patterns': ['Tell me about shape-shifting abilities', 'The art of transforming into other beings', 'Limitations of shape-shifters'], 'responses': ['Shape-shifting is a supernatural ability often depicted in folklore, myths, and fairy tales.', 'In reality, shape-shifting is not scientifically possible, but it remains an intriguing concept.']}, {'tag': 'fantasy_adventures', 'patterns': ['Embarking on epic fantasy adventures', 'Quests for mythical artifacts and treasures', 'Slaying dragons and vanquishing dark lords'], 'responses': ['Fantasy adventures take characters on thrilling quests where they encounter magical creatures and confront forces of evil.', 'Reading fantasy books and playing role-playing games can transport individuals to imaginative worlds.']}, {'tag': 'enchanted_mazes', 'patterns': ['Navigating through enchanted mazes', 'Mysteries and surprises in magical labyrinths', 'Solving riddles in fantasy mazes'], 'responses': ['Enchanted mazes are intricate puzzles found in fairy tales and games, filled with hidden treasures and challenges.', 'Real-world mazes and labyrinths are recreational attractions that offer fun and enjoyment.']}, {'tag': 'mind_bending_riddles', 'patterns': ['Tell me about mind-bending riddles', 'Solving riddles to unlock secrets', 'Riddles from ancient civilizations'], 'responses': ['Mind-bending riddles are puzzling questions that require clever thinking and problem-solving skills.', 'Riddles have been used in folklore, literature, and cultural traditions to entertain and challenge minds.']}, {'tag': 'wizard_apprenticeship', 'patterns': [\"Becoming a wizard's apprentice\", 'Learning magic under a mentor', 'The journey to becoming a master wizard'], 'responses': ['Wizard apprenticeship is a classic theme in fantasy, where young characters train under experienced mentors to become skilled in magical arts.', 'In real life, mentorship and apprenticeships exist in various fields, allowing individuals to learn from seasoned professionals.']}, {'tag': 'fantasy_dreamscape', 'patterns': ['Tell me about the fantasy dreamscape', 'Exploring surreal dream worlds', 'Creatures and landscapes in dreamscapes'], 'responses': ['The fantasy dreamscape is a realm of dreams and imagination, where anything is possible and surreal scenes unfold.', 'Dreams are a mysterious aspect of human consciousness, often inspiring creativity and introspection.']}, {'tag': 'time_traveler_guest', 'patterns': ['Hosting a time traveler as a guest', \"Time travelers' stories of historical events\", 'Gifts for time-traveling visitors'], 'responses': ['Hosting a time traveler would be an extraordinary experience, allowing for insights into historical periods and distant futures.', 'Time travel is a popular theme in fiction, with time travelers encountering various historical figures and events.']}, {'tag': 'enchanted_forest_lake', 'patterns': ['Discovering an enchanted forest lake', 'The magic of reflective waters', 'Guardians of mystical lakes'], 'responses': ['Enchanted forest lakes are mythical places where the waters possess magical properties or conceal secrets.', 'Lakes in reality hold ecological significance and are vital for supporting ecosystems.']}, {'tag': 'mystical_creatures', 'patterns': ['Tell me about encountering mystical creatures', 'Interactions with mythical beings', 'Learning from creatures of wisdom'], 'responses': ['Mystical creatures are fantastical beings with supernatural abilities and wisdom, often serving as guides or guardians.', 'Throughout history, folklore and myths have featured a diverse array of mystical creatures.']}, {'tag': 'timeless_puzzles', 'patterns': ['Solving timeless puzzles', 'Unraveling ancient enigmas', 'The thrill of deciphering cryptic codes'], 'responses': [\"Timeless puzzles are enduring challenges that test one's intellect, logic, and ingenuity.\", 'Puzzles have been popular forms of entertainment and mental exercises for millennia.']}, {'tag': 'magic_cauldron', 'patterns': ['Unleashing magic from a cauldron', 'Potions and concoctions brewed in cauldrons', 'The power of a magical cooking pot'], 'responses': ['Magic cauldrons are iconic symbols of witchcraft and wizardry, used for brewing potions and spells.', 'In reality, cauldrons have historical significance and were used for cooking and various purposes in ancient times.']}, {'tag': 'wizardly_quizzes', 'patterns': ['Participating in wizardly quizzes', 'Challenges and tests of magical knowledge', 'Winning rewards from mystical quizzes'], 'responses': [\"Wizardly quizzes are contests that assess one's knowledge of magical lore, spells, and mythical creatures.\", 'Quizzes and trivia games are popular ways to engage in fun and interactive learning.']}, {'tag': 'enchanted_compass', 'patterns': ['Using an enchanted compass', 'Finding the way through magical lands', 'The compass that points to desires'], 'responses': ['An enchanted compass is a fantastical device that guides travelers through mystical realms and hidden destinations.', 'Real-world compasses have been crucial navigational tools for exploration and orientation.']}, {'tag': 'arcane_alchemy', 'patterns': ['Delving into the mysteries of arcane alchemy', 'Transmuting base metals into gold', \"The quest for the philosopher's stone\"], 'responses': ['Arcane alchemy is an ancient practice that aimed to transform substances and uncover the secrets of existence.', 'Alchemy was an early form of chemistry that laid the foundation for modern scientific discoveries.']}, {'tag': 'spellbinding_artifacts', 'patterns': ['Tell me about spellbinding artifacts', 'Objects with magical properties', 'Relics from legendary tales'], 'responses': ['Spellbinding artifacts are objects imbued with magical properties or associated with mythical legends.', 'Museums and cultural institutions house historical artifacts that tell stories of human civilization.']}, {'tag': 'enchanted_dance', 'patterns': ['Dancing in an enchanted ball', 'Enchanting melodies and dance moves', 'Dancing with mythical partners'], 'responses': ['An enchanted dance ball is a magical event where music, dance, and celebration intertwine.', 'Dance is an expressive art form that brings joy, emotional release, and cultural significance.']}, {'tag': 'flying_carpet_adventures', 'patterns': ['Tell me about flying carpet adventures', 'The thrill of carpet riding', 'Visiting far-off lands on a magic carpet'], 'responses': ['Flying carpet adventures are common in Arabian Nights tales and represent fantastical journeys through the sky.', 'Real-world transportation includes cars, planes, and other vehicles that allow people to travel vast distances.']}, {'tag': 'enchanted_music_box', 'patterns': ['Discovering an enchanted music box', 'Melodies that enchant the soul', 'Music that transcends time'], 'responses': ['An enchanted music box is a mystical container that plays magical melodies capable of captivating hearts.', 'Music boxes are charming keepsakes that have delighted people for centuries.']}, {'tag': 'fairy_rings', 'patterns': ['The mystery of fairy rings', 'Folklore and myths surrounding fairy circles', 'Encounters with fairies in enchanted circles'], 'responses': ['Fairy rings, also known as fairy circles, are naturally occurring circular patterns of mushrooms in the forest.', 'Fairy folklore is rich with stories of ethereal beings and their magical dwellings.']}, {'tag': 'enchanted_butterflies', 'patterns': ['Encounters with enchanted butterflies', 'The magic of butterfly wings', 'The symbolism of butterflies in dreams'], 'responses': ['Enchanted butterflies are mythical creatures with wings that possess magical qualities or grant wishes.', 'In reality, butterflies are delicate insects known for their beauty and symbolic significance.']}, {'tag': 'time_warp_dance', 'patterns': ['Dancing in a time warp', 'The fusion of dance and time travel', 'Time-traveling dance moves'], 'responses': ['Time warp dance is an imaginative concept where dance transcends time and allows people to experience different eras.', 'Dance has evolved and adapted across cultures and historical periods.']}, {'tag': 'fantasy_lands', 'patterns': ['Tell me about mystical fantasy lands', 'Exploring lands of wonder and enchantment', 'Traveling to parallel dimensions'], 'responses': ['Fantasy lands are captivating worlds filled with magic, mythical creatures, and breathtaking landscapes.', 'Books and movies have introduced audiences to imaginative realms beyond the boundaries of our reality.']}, {'tag': 'enchanted_paintings', 'patterns': ['Discovering enchanted paintings', 'Art that comes to life', 'Portals through magical artworks'], 'responses': ['Enchanted paintings are artistic wonders that blur the line between the painted and the real world.', 'Art has the power to evoke emotions, ignite imagination, and inspire creativity.']}, {'tag': 'spellbook_collection', 'patterns': ['Collecting spellbooks from distant lands', 'The allure of ancient tomes', 'Studying spells and incantations'], 'responses': ['Spellbook collections are treasured possessions that hold knowledge of magical arts and wisdom.', 'In reality, book collectors and enthusiasts value rare and ancient texts.']}, {'tag': 'enchanted_sculptures', 'patterns': ['Tell me about enchanted sculptures', 'Statues with mystical powers', 'Transformative art installations'], 'responses': ['Enchanted sculptures are artistic creations that possess magical properties or evoke a sense of wonder and awe.', 'Sculptures are expressive forms of art that can evoke emotions, tell stories, and reflect cultural ideas.']}, {'tag': 'wizarding_sports', 'patterns': ['Playing wizarding sports', 'Quidditch-like games in real life', 'Magical athletes and their feats'], 'responses': ['Wizarding sports, like Quidditch from Harry Potter, showcase magical athleticism and exciting competitions.', 'In the real world, sports and athletic competitions bring people together in a spirit of camaraderie and healthy competition.']}, {'tag': 'enchanted_gems', 'patterns': ['Unearthing enchanted gems', 'Gemstones with mystical properties', 'The power of gemstone magic'], 'responses': ['Enchanted gems are mythical gemstones that possess magical qualities, such as healing or granting wishes.', 'Gemstones have long been treasured for their beauty, rarity, and symbolism.']}, {'tag': 'timeless_wanderer', 'patterns': ['The adventures of a timeless wanderer', 'Roaming through eras and dimensions', 'The wisdom of an eternal traveler'], 'responses': ['A timeless wanderer is a mythical figure, often depicted as an immortal or time-traveling being who observes the ebb and flow of history.', 'Travelers in reality explore the world, experiencing diverse cultures and creating lasting memories.']}, {'tag': 'enchanted_mirror_maze', 'patterns': ['Getting lost in an enchanted mirror maze', 'Reflections and illusions in the maze', 'The challenge of finding the way out'], 'responses': ['An enchanted mirror maze is a bewitching labyrinth filled with reflections and optical illusions.', 'Real-world mirror mazes are popular attractions that offer fun and disorienting experiences.']}, {'tag': 'astral_artistry', 'patterns': ['Exploring astral artistry', 'Paintings that transcend dimensions', 'Art that captures cosmic beauty'], 'responses': ['Astral artistry is an imaginative concept where art reflects celestial wonders and the mysteries of the universe.', 'Artists use their creativity to portray their perceptions of the world and beyond.']}, {'tag': 'enchanted_teapot', 'patterns': ['Encountering an enchanted teapot', 'Tea ceremonies in magical realms', 'Teapot magic and rituals'], 'responses': ['An enchanted teapot is a fantastical vessel that brews magical tea with extraordinary properties.', 'Tea ceremonies have cultural significance in various traditions and symbolize hospitality and connection.']}, {'tag': 'timeless_ballroom', 'patterns': ['Dancing in a timeless ballroom', 'Elegant waltzes through the ages', 'Time-traveling masquerade balls'], 'responses': ['A timeless ballroom is a mythical setting where dance transcends time, and participants waltz through different historical eras.', 'Ballroom dancing is a graceful and expressive form of dance that has evolved over centuries.']}, {'tag': 'enchanted_fog', 'patterns': ['Encountering enchanted fog', 'The mysteries within mystical mists', 'Foggy journeys through magical lands'], 'responses': ['Enchanted fog is a magical phenomenon that cloaks landscapes in mystery and wonder.', 'Fog is a natural meteorological condition caused by the condensation of water vapor in the air.']}, {'tag': 'spellcasting_tournament', 'patterns': ['Competing in a spellcasting tournament', 'Magical duels and wizard battles', 'The quest for the title of the grand spellcaster'], 'responses': ['Spellcasting tournaments are thrilling events where magic-users showcase their skills and compete for recognition and honor.', 'Competitions and sports events celebrate talent, dedication, and teamwork.']}, {'tag': 'enchanted_stardust', 'patterns': ['Discovering enchanted stardust', 'Cosmic particles with magical properties', 'Wishes granted by stardust'], 'responses': ['Enchanted stardust is a mythical substance that is said to originate from the cosmos and hold magical properties.', 'Stardust is a poetic term that refers to cosmic particles that form stars and planets.']}, {'tag': 'fantastical_architecture', 'patterns': ['Marveling at fantastical architecture', 'Buildings that defy gravity and logic', 'Designing dreamlike structures'], 'responses': ['Fantastical architecture is an artistic expression that pushes the boundaries of imagination, creating whimsical and surreal buildings.', 'Architects and designers explore innovative ideas to shape the future of urban living.']}, {'tag': 'enchanted_breeze', 'patterns': ['Feeling the touch of an enchanted breeze', 'The magic of gentle winds', 'Whispers of mystical winds'], 'responses': ['An enchanted breeze is a mythical concept where gentle winds carry magic and blessings.', 'The wind is a natural atmospheric phenomenon that influences weather patterns and is essential for the environment.']}, {'tag': 'dragon_tamer', 'patterns': ['Becoming a dragon tamer', 'The art of befriending dragons', 'Forming bonds with mythical beasts'], 'responses': ['Dragon tamers are legendary figures who form unique connections with dragons and earn their trust.', 'Dragons symbolize power and wisdom in various cultures and mythologies.']}, {'tag': 'enchanted_fruits', 'patterns': ['Discovering enchanted fruits', 'Fruits with mystical flavors and effects', 'The magical properties of rare fruits'], 'responses': ['Enchanted fruits are mythical creations that possess extraordinary flavors or grant fantastical abilities.', 'In reality, fruits are nutritious and delicious natural foods that offer a wide range of health benefits.']}, {'tag': 'magical_mistakes', 'patterns': ['Learning from magical mistakes', 'Lessons in wizardry gone awry', 'The humor and consequences of misfiring spells'], 'responses': [\"Magical mistakes are comedic elements in fantasy stories where spells and enchantments don't go as planned.\", 'In real life, making mistakes is a part of learning and growing.']}, {'tag': 'enchanted_rain', 'patterns': ['Experiencing enchanted rain', 'Rainfall that brings good fortune', 'Dancing in the rain with magical properties'], 'responses': ['Enchanted rain is a fantastical concept where raindrops hold magical qualities, such as granting blessings or wishes.', 'Rain is a natural weather phenomenon and an essential part of the water cycle.']}, {'tag': 'timeless_tales', 'patterns': ['Sharing timeless tales', 'Storytelling that spans generations', 'The magic of passing down stories'], 'responses': ['Timeless tales are enduring narratives that transcend time and continue to captivate audiences across generations.', 'Storytelling is a powerful form of communication and cultural preservation.']}, {'tag': 'enchanted_well', 'patterns': ['Encountering an enchanted well', 'Wishes granted by magical waters', 'Seeking wisdom from the depths'], 'responses': ['An enchanted well is a mythical source of water that grants wishes or possesses healing properties.', 'Wells have historical significance as vital sources of water for communities.']}, {'tag': 'dimensional_doorway', 'patterns': ['Opening a dimensional doorway', 'Portals to parallel worlds', 'Exploring alternate realities'], 'responses': ['A dimensional doorway is an imaginative concept that allows passage between different dimensions and realities.', 'The idea of parallel universes and multiple dimensions is a popular theme in science fiction and theoretical physics.']}, {'tag': 'enchanted_snow', 'patterns': ['Witnessing enchanted snowfall', 'The magic of snow in mythical realms', 'The secrets of eternal snow'], 'responses': ['Enchanted snow is a mythical phenomenon where snowflakes possess magical properties or create enchanting winter landscapes.', 'Snow is a meteorological event where frozen water crystals fall from the sky in colder climates.']}, {'tag': 'spellbinding_cuisine', 'patterns': ['Savoring spellbinding cuisine', 'Food that delights the senses and soul', 'Recipes from ancient spellbooks'], 'responses': ['Spellbinding cuisine is an imaginative concept where food is prepared with magical ingredients and flavors.', 'Cooking and culinary arts offer diverse tastes and cultural experiences.']}, {'tag': 'enchanted_lullabies', 'patterns': ['Listening to enchanted lullabies', 'Songs that soothe and enchant', 'The magic of bedtime melodies'], 'responses': ['Enchanted lullabies are mythical songs that have a soothing and magical effect, lulling listeners into a peaceful slumber.', 'Lullabies are cherished melodies that parents sing to their children to comfort and calm them.']}, {'tag': 'time_travelers_journal', 'patterns': [\"Reading a time traveler's journal\", 'Chronicles of historical adventures', 'Insights into the past and future'], 'responses': [\"A time traveler's journal is a fictional account documenting journeys through different historical periods and possibly into the future.\", 'Historical records, memoirs, and diaries provide valuable insights into the past.']}, {'tag': 'enchanted_stables', 'patterns': ['Visiting enchanted stables', 'Magical creatures and their stables', 'Horses with mythical qualities'], 'responses': ['Enchanted stables are fantastical settings where mythical creatures, such as winged horses, are cared for and nurtured.', 'Stables in reality house domesticated animals, providing shelter and care for their well-being.']}, {'tag': 'wizarding_cuisine', 'patterns': ['Exploring wizarding cuisine', 'Magical ingredients and recipes', 'Feasting in the grand wizarding halls'], 'responses': ['Wizarding cuisine is a fictional culinary world where food is prepared with magical flair and sometimes holds mystical properties.', 'Culinary diversity and creativity are celebrated across different cultures.']}, {'tag': 'enchanted_riddles', 'patterns': ['Solving enchanted riddles', 'Riddles that guard hidden treasures', 'Wisdom and challenges in mythical riddles'], 'responses': ['Enchanted riddles are puzzles that challenge the mind and are often associated with quests and adventures in folklore and fantasy tales.', 'Riddles have been used for entertainment and intellectual stimulation throughout history.']}, {'tag': 'timeless_relics', 'patterns': ['Discovering timeless relics', 'Artifacts from lost civilizations', 'The allure of ancient mysteries'], 'responses': ['Timeless relics are ancient artifacts and objects that hold historical and cultural significance, preserving the stories of our ancestors.', 'Archaeologists and historians continue to unearth relics that shed light on human history and civilization.']}, {'tag': 'order_tracking', 'patterns': ['What is happening with order 55555?', 'What is the status for order 55555?', 'Track order 55555', 'Where is my order 55555?'], 'responses': ['Delayed', 'Dispatched', 'Cancelled', 'On the Way!']}, {'tag': 'order_components', 'patterns': ['order 55555 comprises of?', 'What is in order 55555?', 'List of components'], 'responses': ['The order comprises of a computer and a television', 'The order includes dog treats and a dog bed']}, {'tag': 'forgot_password', 'patterns': ['I forgot my login password', 'what to do when someone forgets their password?', 'I forgot my work password', 'Forgot the virtual machine password'], 'responses': ['Please enter your email id and we will send a link to your email shortly']}, {'tag': 'search_department', 'patterns': ['Please list the departments'], 'responses': ['The departments are: \\n-Engineering Research and Development, \\n-Manufacturing Systems Engineering, \\n-New Products Development, \\n-Manufacturing Department, \\n-Quality Department, \\n-Maintenance Department, \\n-Marketing Department, \\n-Human Resources Development, \\n-Personnel Department, \\n-Finance Department']}, {'tag': 'customer_satisfaction', 'patterns': ['how was the customer response', 'Is the customer happy?', 'what was the customer feedback?'], 'responses': ['Customer was happy and has given good rating']}]}\n"
     ]
    }
   ],
   "source": [
    "def load_json_file(filename):\n",
    "    with open(filename) as f:\n",
    "        file=json.load(f)\n",
    "    return file   \n",
    "    \n",
    "filename=\"intents.json\"\n",
    "intents=load_json_file(filename)\n",
    "print(intents)"
   ]
  },
  {
   "cell_type": "markdown",
   "metadata": {},
   "source": [
    "Create dataframe for patterns and tags"
   ]
  },
  {
   "cell_type": "code",
   "execution_count": 12,
   "metadata": {},
   "outputs": [
    {
     "data": {
      "text/html": [
       "<div>\n",
       "<style scoped>\n",
       "    .dataframe tbody tr th:only-of-type {\n",
       "        vertical-align: middle;\n",
       "    }\n",
       "\n",
       "    .dataframe tbody tr th {\n",
       "        vertical-align: top;\n",
       "    }\n",
       "\n",
       "    .dataframe thead th {\n",
       "        text-align: right;\n",
       "    }\n",
       "</style>\n",
       "<table border=\"1\" class=\"dataframe\">\n",
       "  <thead>\n",
       "    <tr style=\"text-align: right;\">\n",
       "      <th></th>\n",
       "      <th>Pattern</th>\n",
       "      <th>Tag</th>\n",
       "    </tr>\n",
       "  </thead>\n",
       "  <tbody>\n",
       "  </tbody>\n",
       "</table>\n",
       "</div>"
      ],
      "text/plain": [
       "Empty DataFrame\n",
       "Columns: [Pattern, Tag]\n",
       "Index: []"
      ]
     },
     "execution_count": 12,
     "metadata": {},
     "output_type": "execute_result"
    }
   ],
   "source": [
    "def create_df():\n",
    "    df=pd.DataFrame({'Pattern':[],'Tag':[]})\n",
    "    return df\n",
    "    \n",
    "df=create_df()\n",
    "df"
   ]
  },
  {
   "cell_type": "markdown",
   "metadata": {},
   "source": [
    "Extract data from file"
   ]
  },
  {
   "cell_type": "code",
   "execution_count": 13,
   "metadata": {},
   "outputs": [],
   "source": [
    "def extract_json_info(json_file,df):\n",
    "    for intent in json_file['intents']:\n",
    "        for pattern in intent['patterns']:\n",
    "            sentence_tag=[pattern,intent['tag']]\n",
    "            df.loc[len(df.index)] = sentence_tag\n",
    "    return df        \n",
    "df=extract_json_info(intents,df)"
   ]
  },
  {
   "cell_type": "markdown",
   "metadata": {},
   "source": [
    "## Explore data"
   ]
  },
  {
   "cell_type": "code",
   "execution_count": 14,
   "metadata": {},
   "outputs": [
    {
     "data": {
      "text/html": [
       "<div>\n",
       "<style scoped>\n",
       "    .dataframe tbody tr th:only-of-type {\n",
       "        vertical-align: middle;\n",
       "    }\n",
       "\n",
       "    .dataframe tbody tr th {\n",
       "        vertical-align: top;\n",
       "    }\n",
       "\n",
       "    .dataframe thead th {\n",
       "        text-align: right;\n",
       "    }\n",
       "</style>\n",
       "<table border=\"1\" class=\"dataframe\">\n",
       "  <thead>\n",
       "    <tr style=\"text-align: right;\">\n",
       "      <th></th>\n",
       "      <th>Pattern</th>\n",
       "      <th>Tag</th>\n",
       "    </tr>\n",
       "  </thead>\n",
       "  <tbody>\n",
       "    <tr>\n",
       "      <th>0</th>\n",
       "      <td>Hi</td>\n",
       "      <td>greeting</td>\n",
       "    </tr>\n",
       "    <tr>\n",
       "      <th>1</th>\n",
       "      <td>Hello</td>\n",
       "      <td>greeting</td>\n",
       "    </tr>\n",
       "    <tr>\n",
       "      <th>2</th>\n",
       "      <td>Hey</td>\n",
       "      <td>greeting</td>\n",
       "    </tr>\n",
       "    <tr>\n",
       "      <th>3</th>\n",
       "      <td>How are you</td>\n",
       "      <td>greeting</td>\n",
       "    </tr>\n",
       "    <tr>\n",
       "      <th>4</th>\n",
       "      <td>What's up</td>\n",
       "      <td>greeting</td>\n",
       "    </tr>\n",
       "  </tbody>\n",
       "</table>\n",
       "</div>"
      ],
      "text/plain": [
       "       Pattern       Tag\n",
       "0           Hi  greeting\n",
       "1        Hello  greeting\n",
       "2          Hey  greeting\n",
       "3  How are you  greeting\n",
       "4    What's up  greeting"
      ]
     },
     "execution_count": 14,
     "metadata": {},
     "output_type": "execute_result"
    }
   ],
   "source": [
    "df.head()"
   ]
  },
  {
   "cell_type": "code",
   "execution_count": 15,
   "metadata": {},
   "outputs": [
    {
     "data": {
      "text/plain": [
       "(850, 2)"
      ]
     },
     "execution_count": 15,
     "metadata": {},
     "output_type": "execute_result"
    }
   ],
   "source": [
    "df.shape"
   ]
  },
  {
   "cell_type": "code",
   "execution_count": 16,
   "metadata": {},
   "outputs": [
    {
     "name": "stdout",
     "output_type": "stream",
     "text": [
      "<class 'pandas.core.frame.DataFrame'>\n",
      "Index: 850 entries, 0 to 849\n",
      "Data columns (total 2 columns):\n",
      " #   Column   Non-Null Count  Dtype \n",
      "---  ------   --------------  ----- \n",
      " 0   Pattern  850 non-null    object\n",
      " 1   Tag      850 non-null    object\n",
      "dtypes: object(2)\n",
      "memory usage: 19.9+ KB\n"
     ]
    }
   ],
   "source": [
    "df.info()"
   ]
  },
  {
   "cell_type": "code",
   "execution_count": 17,
   "metadata": {},
   "outputs": [
    {
     "name": "stdout",
     "output_type": "stream",
     "text": [
      "278 classes in or tags\n",
      "['greeting' 'goodbye' 'thanks' 'about' 'help' 'age' 'weather' 'budget'\n",
      " 'credit_score' 'name' 'favorite_color' 'hobby' 'time' 'joke' 'food'\n",
      " 'movies' 'technology' 'compliment' 'meaning_of_life' 'sports' 'pets'\n",
      " 'travel' 'books' 'education' 'health' 'coding' 'art' 'career'\n",
      " 'technology_help' 'history' 'music' 'exercise' 'mindfulness' 'science'\n",
      " 'gaming' 'positivity' 'cooking' 'relationship' 'nature' 'productivity'\n",
      " 'travel_tips' 'languages' 'inspiration' 'finance_tips'\n",
      " 'artificial_intelligence' 'motivation' 'future' 'movies_series'\n",
      " 'self_improvement' 'robotics' 'philosophy' 'coding_languages'\n",
      " 'virtual_reality' 'space_exploration' 'emotional_intelligence'\n",
      " 'cybersecurity' 'creativity' 'futuristic_technology' 'entrepreneurship'\n",
      " 'internet_of_things' 'universe' 'social_media' 'cuisine' 'happiness'\n",
      " 'self_care' 'augmented_reality' 'global_warming' 'data_privacy'\n",
      " 'positivity_quotes' 'virtual_assistant' 'emerging_technologies'\n",
      " 'philanthropy' 'sustainability' 'gene_editing' 'machine_learning'\n",
      " 'gamification' 'brain_computer_interface' 'depression' 'nanotechnology'\n",
      " 'artificial_superintelligence' 'virtual_currency'\n",
      " 'biomedical_engineering' 'quantum_entanglement' 'workout' 'dancing'\n",
      " 'cooking_tips' 'travel_destinations' 'meditation' 'home_decor' 'pet_care'\n",
      " 'gardening' 'parenting' 'time_management' 'online_learning'\n",
      " 'art_and_crafts' 'fashion_trends' 'budgeting_tips' 'personal_finances'\n",
      " 'hobbies' 'online_security' 'home_repair' 'time_for_yourself'\n",
      " 'volunteering' 'creative_writing' 'relationship_advice'\n",
      " 'home_organization' 'study_tips' 'positive_affirmations'\n",
      " 'car_maintenance' 'positivity_in_life' 'public_speaking' 'healthy_sleep'\n",
      " 'photography' 'self_defense' 'hiking' 'nutrition_tips'\n",
      " 'positive_relationships' 'home_fitness' 'job_interview_tips' 'baking'\n",
      " 'leadership_skills' 'job_search' 'goal_setting'\n",
      " 'food_dietary_restrictions' 'technology_addiction' 'pet_training'\n",
      " 'singing' 'plastic_waste_reduction' 'online_business' 'yoga'\n",
      " 'staying_connected' 'eco-friendly_transportation' 'positive_self-talk'\n",
      " 'composting' 'digital_organization' 'mindful_eating' 'home_security'\n",
      " 'memory_improvement' 'social_media_detox' 'pet_adoption'\n",
      " 'interpersonal_skills' 'reducing_energy_consumption' 'language_learning'\n",
      " 'self_defense_for_women' 'healthy_relationship_with_food'\n",
      " 'procrastination' 'daily_meditation' 'charity_donations' 'resilience'\n",
      " 'meal_preparation' 'work_life_balance' 'mindfulness_in_nature'\n",
      " 'journaling' 'reducing_single_use_plastics' 'team_building'\n",
      " 'financial_investing' 'reusable_transportation' 'generosity_and_giving'\n",
      " 'energy_boosting_foods' 'exploring_culture_and_traditions'\n",
      " 'effective_communication_in_relationships'\n",
      " 'cooking_for_special_occasions' 'developing_creativity_in_children'\n",
      " 'emotional_resilience_in_children' 'self_reflection'\n",
      " 'mindful_technology_usage' 'youth_mental_health' 'mindful_consumption'\n",
      " 'effective_study_groups' 'social_anxiety' 'responsible_pet_ownership'\n",
      " 'waste_reduction_at_work' 'effective_decision_making' 'alien_invasion'\n",
      " 'space_travel' 'ninja_skills' 'time_travel' 'unicorn_taming'\n",
      " 'wizard_training' 'chocolate_obsession' 'telepathy_skills'\n",
      " 'butterfly_language' 'astral_projection' 'dragon_riding' 'cloud_castles'\n",
      " 'plant_whispering' 'pirate_treasures' 'underwater_exploration'\n",
      " 'alien_languages' 'enchanted_forests' 'invisibility_cloak'\n",
      " 'talking_animals' 'robot_companions' 'magic_school' 'enchanted_potions'\n",
      " 'treasure_hunting' 'paranormal_investigation' 'superhero_training'\n",
      " 'time_bending' 'extraterrestrial_cuisine' 'dream_world' 'book_of_spells'\n",
      " 'space_dance_party' 'rainbow_treasure' 'jedi_training'\n",
      " 'timeless_treasures' 'mermaid_encounters' 'mind_reading_glasses'\n",
      " 'time_warps' 'fortune_cookie_messages' 'enchanted_music' 'comedy_tonic'\n",
      " 'fire-breathing_dragon' 'mind_control' 'flying_on_broomsticks'\n",
      " 'enchanted_books' 'starship_adventures' 'enchanted_garden'\n",
      " 'time_crystals' 'magic_mirrors' 'cloud_castle_ruler'\n",
      " 'shape-shifting_abilities' 'fantasy_adventures' 'enchanted_mazes'\n",
      " 'mind_bending_riddles' 'wizard_apprenticeship' 'fantasy_dreamscape'\n",
      " 'time_traveler_guest' 'enchanted_forest_lake' 'mystical_creatures'\n",
      " 'timeless_puzzles' 'magic_cauldron' 'wizardly_quizzes'\n",
      " 'enchanted_compass' 'arcane_alchemy' 'spellbinding_artifacts'\n",
      " 'enchanted_dance' 'flying_carpet_adventures' 'enchanted_music_box'\n",
      " 'fairy_rings' 'enchanted_butterflies' 'time_warp_dance' 'fantasy_lands'\n",
      " 'enchanted_paintings' 'spellbook_collection' 'enchanted_sculptures'\n",
      " 'wizarding_sports' 'enchanted_gems' 'timeless_wanderer'\n",
      " 'enchanted_mirror_maze' 'astral_artistry' 'enchanted_teapot'\n",
      " 'timeless_ballroom' 'enchanted_fog' 'spellcasting_tournament'\n",
      " 'enchanted_stardust' 'fantastical_architecture' 'enchanted_breeze'\n",
      " 'dragon_tamer' 'enchanted_fruits' 'magical_mistakes' 'enchanted_rain'\n",
      " 'timeless_tales' 'enchanted_well' 'dimensional_doorway' 'enchanted_snow'\n",
      " 'spellbinding_cuisine' 'enchanted_lullabies' 'time_travelers_journal'\n",
      " 'enchanted_stables' 'wizarding_cuisine' 'enchanted_riddles'\n",
      " 'timeless_relics' 'order_tracking' 'order_components' 'forgot_password'\n",
      " 'search_department' 'customer_satisfaction']\n"
     ]
    }
   ],
   "source": [
    "x=len(df['Tag'].unique())\n",
    "print(f\"{x} classes in or tags\")\n",
    "\n",
    "print(df['Tag'].unique())"
   ]
  },
  {
   "cell_type": "code",
   "execution_count": 18,
   "metadata": {},
   "outputs": [
    {
     "data": {
      "text/plain": [
       "Pattern    0\n",
       "Tag        0\n",
       "dtype: int64"
      ]
     },
     "execution_count": 18,
     "metadata": {},
     "output_type": "execute_result"
    }
   ],
   "source": [
    "df.isna().sum()"
   ]
  },
  {
   "cell_type": "markdown",
   "metadata": {},
   "source": [
    "Understand the corpus"
   ]
  },
  {
   "cell_type": "code",
   "execution_count": 19,
   "metadata": {},
   "outputs": [
    {
     "data": {
      "text/plain": [
       "['Hi', 'Hello', 'Hey', 'How', 'are']"
      ]
     },
     "execution_count": 19,
     "metadata": {},
     "output_type": "execute_result"
    }
   ],
   "source": [
    "def get_corpus(series):\n",
    "    words = []\n",
    "    for text in series:\n",
    "        for word in text.split():\n",
    "            words.append(word.strip())\n",
    "    return words\n",
    "\n",
    "corpus = get_corpus(df.Pattern)\n",
    "corpus[:5]\n",
    "# print(corpus)"
   ]
  },
  {
   "cell_type": "code",
   "execution_count": 20,
   "metadata": {},
   "outputs": [
    {
     "name": "stdout",
     "output_type": "stream",
     "text": [
      "[('me', 198), ('Tell', 188), ('about', 184), ('to', 131), ('How', 121), ('of', 121), ('a', 99), ('the', 68), ('and', 67), ('in', 49)]\n"
     ]
    },
    {
     "data": {
      "text/plain": [
       "{'me': 198,\n",
       " 'Tell': 188,\n",
       " 'about': 184,\n",
       " 'to': 131,\n",
       " 'How': 121,\n",
       " 'of': 121,\n",
       " 'a': 99,\n",
       " 'the': 68,\n",
       " 'and': 67,\n",
       " 'in': 49}"
      ]
     },
     "execution_count": 20,
     "metadata": {},
     "output_type": "execute_result"
    }
   ],
   "source": [
    "from collections import Counter\n",
    "counter = Counter(corpus)\n",
    "most_common = counter.most_common(10)\n",
    "print(most_common)\n",
    "most_common = dict(most_common)\n",
    "most_common"
   ]
  },
  {
   "cell_type": "markdown",
   "metadata": {},
   "source": [
    "Create another dataframe for patterns, tags and labels"
   ]
  },
  {
   "cell_type": "code",
   "execution_count": 21,
   "metadata": {},
   "outputs": [
    {
     "data": {
      "text/html": [
       "<div>\n",
       "<style scoped>\n",
       "    .dataframe tbody tr th:only-of-type {\n",
       "        vertical-align: middle;\n",
       "    }\n",
       "\n",
       "    .dataframe tbody tr th {\n",
       "        vertical-align: top;\n",
       "    }\n",
       "\n",
       "    .dataframe thead th {\n",
       "        text-align: right;\n",
       "    }\n",
       "</style>\n",
       "<table border=\"1\" class=\"dataframe\">\n",
       "  <thead>\n",
       "    <tr style=\"text-align: right;\">\n",
       "      <th></th>\n",
       "      <th>Pattern</th>\n",
       "      <th>Tag</th>\n",
       "    </tr>\n",
       "  </thead>\n",
       "  <tbody>\n",
       "    <tr>\n",
       "      <th>0</th>\n",
       "      <td>Hi</td>\n",
       "      <td>greeting</td>\n",
       "    </tr>\n",
       "    <tr>\n",
       "      <th>1</th>\n",
       "      <td>Hello</td>\n",
       "      <td>greeting</td>\n",
       "    </tr>\n",
       "    <tr>\n",
       "      <th>2</th>\n",
       "      <td>Hey</td>\n",
       "      <td>greeting</td>\n",
       "    </tr>\n",
       "    <tr>\n",
       "      <th>3</th>\n",
       "      <td>How are you</td>\n",
       "      <td>greeting</td>\n",
       "    </tr>\n",
       "    <tr>\n",
       "      <th>4</th>\n",
       "      <td>What's up</td>\n",
       "      <td>greeting</td>\n",
       "    </tr>\n",
       "  </tbody>\n",
       "</table>\n",
       "</div>"
      ],
      "text/plain": [
       "       Pattern       Tag\n",
       "0           Hi  greeting\n",
       "1        Hello  greeting\n",
       "2          Hey  greeting\n",
       "3  How are you  greeting\n",
       "4    What's up  greeting"
      ]
     },
     "execution_count": 21,
     "metadata": {},
     "output_type": "execute_result"
    }
   ],
   "source": [
    "df2 = df.copy()\n",
    "df2.head()"
   ]
  },
  {
   "cell_type": "markdown",
   "metadata": {},
   "source": [
    "Create list of unique tags as labels"
   ]
  },
  {
   "cell_type": "code",
   "execution_count": 22,
   "metadata": {},
   "outputs": [
    {
     "data": {
      "text/plain": [
       "['greeting', 'goodbye', 'thanks', 'about', 'help']"
      ]
     },
     "execution_count": 22,
     "metadata": {},
     "output_type": "execute_result"
    }
   ],
   "source": [
    "labels=df2['Tag'].unique().tolist()\n",
    "labels=[s.strip() for s in labels]\n",
    "labels[:5]"
   ]
  },
  {
   "cell_type": "markdown",
   "metadata": {},
   "source": [
    "Create `id` to `label` and vise versa"
   ]
  },
  {
   "cell_type": "code",
   "execution_count": 23,
   "metadata": {},
   "outputs": [],
   "source": [
    "id2label={id:label for id,label in enumerate(labels)}\n",
    "label2id={label:id for id,label in enumerate(labels)}\n",
    "num_labels=len(labels)"
   ]
  },
  {
   "cell_type": "code",
   "execution_count": 24,
   "metadata": {},
   "outputs": [
    {
     "data": {
      "text/plain": [
       "{0: 'greeting',\n",
       " 1: 'goodbye',\n",
       " 2: 'thanks',\n",
       " 3: 'about',\n",
       " 4: 'help',\n",
       " 5: 'age',\n",
       " 6: 'weather',\n",
       " 7: 'budget',\n",
       " 8: 'credit_score',\n",
       " 9: 'name',\n",
       " 10: 'favorite_color',\n",
       " 11: 'hobby',\n",
       " 12: 'time',\n",
       " 13: 'joke',\n",
       " 14: 'food',\n",
       " 15: 'movies',\n",
       " 16: 'technology',\n",
       " 17: 'compliment',\n",
       " 18: 'meaning_of_life',\n",
       " 19: 'sports',\n",
       " 20: 'pets',\n",
       " 21: 'travel',\n",
       " 22: 'books',\n",
       " 23: 'education',\n",
       " 24: 'health',\n",
       " 25: 'coding',\n",
       " 26: 'art',\n",
       " 27: 'career',\n",
       " 28: 'technology_help',\n",
       " 29: 'history',\n",
       " 30: 'music',\n",
       " 31: 'exercise',\n",
       " 32: 'mindfulness',\n",
       " 33: 'science',\n",
       " 34: 'gaming',\n",
       " 35: 'positivity',\n",
       " 36: 'cooking',\n",
       " 37: 'relationship',\n",
       " 38: 'nature',\n",
       " 39: 'productivity',\n",
       " 40: 'travel_tips',\n",
       " 41: 'languages',\n",
       " 42: 'inspiration',\n",
       " 43: 'finance_tips',\n",
       " 44: 'artificial_intelligence',\n",
       " 45: 'motivation',\n",
       " 46: 'future',\n",
       " 47: 'movies_series',\n",
       " 48: 'self_improvement',\n",
       " 49: 'robotics',\n",
       " 50: 'philosophy',\n",
       " 51: 'coding_languages',\n",
       " 52: 'virtual_reality',\n",
       " 53: 'space_exploration',\n",
       " 54: 'emotional_intelligence',\n",
       " 55: 'cybersecurity',\n",
       " 56: 'creativity',\n",
       " 57: 'futuristic_technology',\n",
       " 58: 'entrepreneurship',\n",
       " 59: 'internet_of_things',\n",
       " 60: 'universe',\n",
       " 61: 'social_media',\n",
       " 62: 'cuisine',\n",
       " 63: 'happiness',\n",
       " 64: 'self_care',\n",
       " 65: 'augmented_reality',\n",
       " 66: 'global_warming',\n",
       " 67: 'data_privacy',\n",
       " 68: 'positivity_quotes',\n",
       " 69: 'virtual_assistant',\n",
       " 70: 'emerging_technologies',\n",
       " 71: 'philanthropy',\n",
       " 72: 'sustainability',\n",
       " 73: 'gene_editing',\n",
       " 74: 'machine_learning',\n",
       " 75: 'gamification',\n",
       " 76: 'brain_computer_interface',\n",
       " 77: 'depression',\n",
       " 78: 'nanotechnology',\n",
       " 79: 'artificial_superintelligence',\n",
       " 80: 'virtual_currency',\n",
       " 81: 'biomedical_engineering',\n",
       " 82: 'quantum_entanglement',\n",
       " 83: 'workout',\n",
       " 84: 'dancing',\n",
       " 85: 'cooking_tips',\n",
       " 86: 'travel_destinations',\n",
       " 87: 'meditation',\n",
       " 88: 'home_decor',\n",
       " 89: 'pet_care',\n",
       " 90: 'gardening',\n",
       " 91: 'parenting',\n",
       " 92: 'time_management',\n",
       " 93: 'online_learning',\n",
       " 94: 'art_and_crafts',\n",
       " 95: 'fashion_trends',\n",
       " 96: 'budgeting_tips',\n",
       " 97: 'personal_finances',\n",
       " 98: 'hobbies',\n",
       " 99: 'online_security',\n",
       " 100: 'home_repair',\n",
       " 101: 'time_for_yourself',\n",
       " 102: 'volunteering',\n",
       " 103: 'creative_writing',\n",
       " 104: 'relationship_advice',\n",
       " 105: 'home_organization',\n",
       " 106: 'study_tips',\n",
       " 107: 'positive_affirmations',\n",
       " 108: 'car_maintenance',\n",
       " 109: 'positivity_in_life',\n",
       " 110: 'public_speaking',\n",
       " 111: 'healthy_sleep',\n",
       " 112: 'photography',\n",
       " 113: 'self_defense',\n",
       " 114: 'hiking',\n",
       " 115: 'nutrition_tips',\n",
       " 116: 'positive_relationships',\n",
       " 117: 'home_fitness',\n",
       " 118: 'job_interview_tips',\n",
       " 119: 'baking',\n",
       " 120: 'leadership_skills',\n",
       " 121: 'job_search',\n",
       " 122: 'goal_setting',\n",
       " 123: 'food_dietary_restrictions',\n",
       " 124: 'technology_addiction',\n",
       " 125: 'pet_training',\n",
       " 126: 'singing',\n",
       " 127: 'plastic_waste_reduction',\n",
       " 128: 'online_business',\n",
       " 129: 'yoga',\n",
       " 130: 'staying_connected',\n",
       " 131: 'eco-friendly_transportation',\n",
       " 132: 'positive_self-talk',\n",
       " 133: 'composting',\n",
       " 134: 'digital_organization',\n",
       " 135: 'mindful_eating',\n",
       " 136: 'home_security',\n",
       " 137: 'memory_improvement',\n",
       " 138: 'social_media_detox',\n",
       " 139: 'pet_adoption',\n",
       " 140: 'interpersonal_skills',\n",
       " 141: 'reducing_energy_consumption',\n",
       " 142: 'language_learning',\n",
       " 143: 'self_defense_for_women',\n",
       " 144: 'healthy_relationship_with_food',\n",
       " 145: 'procrastination',\n",
       " 146: 'daily_meditation',\n",
       " 147: 'charity_donations',\n",
       " 148: 'resilience',\n",
       " 149: 'meal_preparation',\n",
       " 150: 'work_life_balance',\n",
       " 151: 'mindfulness_in_nature',\n",
       " 152: 'journaling',\n",
       " 153: 'reducing_single_use_plastics',\n",
       " 154: 'team_building',\n",
       " 155: 'financial_investing',\n",
       " 156: 'reusable_transportation',\n",
       " 157: 'generosity_and_giving',\n",
       " 158: 'energy_boosting_foods',\n",
       " 159: 'exploring_culture_and_traditions',\n",
       " 160: 'effective_communication_in_relationships',\n",
       " 161: 'cooking_for_special_occasions',\n",
       " 162: 'developing_creativity_in_children',\n",
       " 163: 'emotional_resilience_in_children',\n",
       " 164: 'self_reflection',\n",
       " 165: 'mindful_technology_usage',\n",
       " 166: 'youth_mental_health',\n",
       " 167: 'mindful_consumption',\n",
       " 168: 'effective_study_groups',\n",
       " 169: 'social_anxiety',\n",
       " 170: 'responsible_pet_ownership',\n",
       " 171: 'waste_reduction_at_work',\n",
       " 172: 'effective_decision_making',\n",
       " 173: 'alien_invasion',\n",
       " 174: 'space_travel',\n",
       " 175: 'ninja_skills',\n",
       " 176: 'time_travel',\n",
       " 177: 'unicorn_taming',\n",
       " 178: 'wizard_training',\n",
       " 179: 'chocolate_obsession',\n",
       " 180: 'telepathy_skills',\n",
       " 181: 'butterfly_language',\n",
       " 182: 'astral_projection',\n",
       " 183: 'dragon_riding',\n",
       " 184: 'cloud_castles',\n",
       " 185: 'plant_whispering',\n",
       " 186: 'pirate_treasures',\n",
       " 187: 'underwater_exploration',\n",
       " 188: 'alien_languages',\n",
       " 189: 'enchanted_forests',\n",
       " 190: 'invisibility_cloak',\n",
       " 191: 'talking_animals',\n",
       " 192: 'robot_companions',\n",
       " 193: 'magic_school',\n",
       " 194: 'enchanted_potions',\n",
       " 195: 'treasure_hunting',\n",
       " 196: 'paranormal_investigation',\n",
       " 197: 'superhero_training',\n",
       " 198: 'time_bending',\n",
       " 199: 'extraterrestrial_cuisine',\n",
       " 200: 'dream_world',\n",
       " 201: 'book_of_spells',\n",
       " 202: 'space_dance_party',\n",
       " 203: 'rainbow_treasure',\n",
       " 204: 'jedi_training',\n",
       " 205: 'timeless_treasures',\n",
       " 206: 'mermaid_encounters',\n",
       " 207: 'mind_reading_glasses',\n",
       " 208: 'time_warps',\n",
       " 209: 'fortune_cookie_messages',\n",
       " 210: 'enchanted_music',\n",
       " 211: 'comedy_tonic',\n",
       " 212: 'fire-breathing_dragon',\n",
       " 213: 'mind_control',\n",
       " 214: 'flying_on_broomsticks',\n",
       " 215: 'enchanted_books',\n",
       " 216: 'starship_adventures',\n",
       " 217: 'enchanted_garden',\n",
       " 218: 'time_crystals',\n",
       " 219: 'magic_mirrors',\n",
       " 220: 'cloud_castle_ruler',\n",
       " 221: 'shape-shifting_abilities',\n",
       " 222: 'fantasy_adventures',\n",
       " 223: 'enchanted_mazes',\n",
       " 224: 'mind_bending_riddles',\n",
       " 225: 'wizard_apprenticeship',\n",
       " 226: 'fantasy_dreamscape',\n",
       " 227: 'time_traveler_guest',\n",
       " 228: 'enchanted_forest_lake',\n",
       " 229: 'mystical_creatures',\n",
       " 230: 'timeless_puzzles',\n",
       " 231: 'magic_cauldron',\n",
       " 232: 'wizardly_quizzes',\n",
       " 233: 'enchanted_compass',\n",
       " 234: 'arcane_alchemy',\n",
       " 235: 'spellbinding_artifacts',\n",
       " 236: 'enchanted_dance',\n",
       " 237: 'flying_carpet_adventures',\n",
       " 238: 'enchanted_music_box',\n",
       " 239: 'fairy_rings',\n",
       " 240: 'enchanted_butterflies',\n",
       " 241: 'time_warp_dance',\n",
       " 242: 'fantasy_lands',\n",
       " 243: 'enchanted_paintings',\n",
       " 244: 'spellbook_collection',\n",
       " 245: 'enchanted_sculptures',\n",
       " 246: 'wizarding_sports',\n",
       " 247: 'enchanted_gems',\n",
       " 248: 'timeless_wanderer',\n",
       " 249: 'enchanted_mirror_maze',\n",
       " 250: 'astral_artistry',\n",
       " 251: 'enchanted_teapot',\n",
       " 252: 'timeless_ballroom',\n",
       " 253: 'enchanted_fog',\n",
       " 254: 'spellcasting_tournament',\n",
       " 255: 'enchanted_stardust',\n",
       " 256: 'fantastical_architecture',\n",
       " 257: 'enchanted_breeze',\n",
       " 258: 'dragon_tamer',\n",
       " 259: 'enchanted_fruits',\n",
       " 260: 'magical_mistakes',\n",
       " 261: 'enchanted_rain',\n",
       " 262: 'timeless_tales',\n",
       " 263: 'enchanted_well',\n",
       " 264: 'dimensional_doorway',\n",
       " 265: 'enchanted_snow',\n",
       " 266: 'spellbinding_cuisine',\n",
       " 267: 'enchanted_lullabies',\n",
       " 268: 'time_travelers_journal',\n",
       " 269: 'enchanted_stables',\n",
       " 270: 'wizarding_cuisine',\n",
       " 271: 'enchanted_riddles',\n",
       " 272: 'timeless_relics',\n",
       " 273: 'order_tracking',\n",
       " 274: 'order_components',\n",
       " 275: 'forgot_password',\n",
       " 276: 'search_department',\n",
       " 277: 'customer_satisfaction'}"
      ]
     },
     "execution_count": 24,
     "metadata": {},
     "output_type": "execute_result"
    }
   ],
   "source": [
    "id2label"
   ]
  },
  {
   "cell_type": "code",
   "execution_count": 25,
   "metadata": {},
   "outputs": [
    {
     "data": {
      "text/plain": [
       "{'greeting': 0,\n",
       " 'goodbye': 1,\n",
       " 'thanks': 2,\n",
       " 'about': 3,\n",
       " 'help': 4,\n",
       " 'age': 5,\n",
       " 'weather': 6,\n",
       " 'budget': 7,\n",
       " 'credit_score': 8,\n",
       " 'name': 9,\n",
       " 'favorite_color': 10,\n",
       " 'hobby': 11,\n",
       " 'time': 12,\n",
       " 'joke': 13,\n",
       " 'food': 14,\n",
       " 'movies': 15,\n",
       " 'technology': 16,\n",
       " 'compliment': 17,\n",
       " 'meaning_of_life': 18,\n",
       " 'sports': 19,\n",
       " 'pets': 20,\n",
       " 'travel': 21,\n",
       " 'books': 22,\n",
       " 'education': 23,\n",
       " 'health': 24,\n",
       " 'coding': 25,\n",
       " 'art': 26,\n",
       " 'career': 27,\n",
       " 'technology_help': 28,\n",
       " 'history': 29,\n",
       " 'music': 30,\n",
       " 'exercise': 31,\n",
       " 'mindfulness': 32,\n",
       " 'science': 33,\n",
       " 'gaming': 34,\n",
       " 'positivity': 35,\n",
       " 'cooking': 36,\n",
       " 'relationship': 37,\n",
       " 'nature': 38,\n",
       " 'productivity': 39,\n",
       " 'travel_tips': 40,\n",
       " 'languages': 41,\n",
       " 'inspiration': 42,\n",
       " 'finance_tips': 43,\n",
       " 'artificial_intelligence': 44,\n",
       " 'motivation': 45,\n",
       " 'future': 46,\n",
       " 'movies_series': 47,\n",
       " 'self_improvement': 48,\n",
       " 'robotics': 49,\n",
       " 'philosophy': 50,\n",
       " 'coding_languages': 51,\n",
       " 'virtual_reality': 52,\n",
       " 'space_exploration': 53,\n",
       " 'emotional_intelligence': 54,\n",
       " 'cybersecurity': 55,\n",
       " 'creativity': 56,\n",
       " 'futuristic_technology': 57,\n",
       " 'entrepreneurship': 58,\n",
       " 'internet_of_things': 59,\n",
       " 'universe': 60,\n",
       " 'social_media': 61,\n",
       " 'cuisine': 62,\n",
       " 'happiness': 63,\n",
       " 'self_care': 64,\n",
       " 'augmented_reality': 65,\n",
       " 'global_warming': 66,\n",
       " 'data_privacy': 67,\n",
       " 'positivity_quotes': 68,\n",
       " 'virtual_assistant': 69,\n",
       " 'emerging_technologies': 70,\n",
       " 'philanthropy': 71,\n",
       " 'sustainability': 72,\n",
       " 'gene_editing': 73,\n",
       " 'machine_learning': 74,\n",
       " 'gamification': 75,\n",
       " 'brain_computer_interface': 76,\n",
       " 'depression': 77,\n",
       " 'nanotechnology': 78,\n",
       " 'artificial_superintelligence': 79,\n",
       " 'virtual_currency': 80,\n",
       " 'biomedical_engineering': 81,\n",
       " 'quantum_entanglement': 82,\n",
       " 'workout': 83,\n",
       " 'dancing': 84,\n",
       " 'cooking_tips': 85,\n",
       " 'travel_destinations': 86,\n",
       " 'meditation': 87,\n",
       " 'home_decor': 88,\n",
       " 'pet_care': 89,\n",
       " 'gardening': 90,\n",
       " 'parenting': 91,\n",
       " 'time_management': 92,\n",
       " 'online_learning': 93,\n",
       " 'art_and_crafts': 94,\n",
       " 'fashion_trends': 95,\n",
       " 'budgeting_tips': 96,\n",
       " 'personal_finances': 97,\n",
       " 'hobbies': 98,\n",
       " 'online_security': 99,\n",
       " 'home_repair': 100,\n",
       " 'time_for_yourself': 101,\n",
       " 'volunteering': 102,\n",
       " 'creative_writing': 103,\n",
       " 'relationship_advice': 104,\n",
       " 'home_organization': 105,\n",
       " 'study_tips': 106,\n",
       " 'positive_affirmations': 107,\n",
       " 'car_maintenance': 108,\n",
       " 'positivity_in_life': 109,\n",
       " 'public_speaking': 110,\n",
       " 'healthy_sleep': 111,\n",
       " 'photography': 112,\n",
       " 'self_defense': 113,\n",
       " 'hiking': 114,\n",
       " 'nutrition_tips': 115,\n",
       " 'positive_relationships': 116,\n",
       " 'home_fitness': 117,\n",
       " 'job_interview_tips': 118,\n",
       " 'baking': 119,\n",
       " 'leadership_skills': 120,\n",
       " 'job_search': 121,\n",
       " 'goal_setting': 122,\n",
       " 'food_dietary_restrictions': 123,\n",
       " 'technology_addiction': 124,\n",
       " 'pet_training': 125,\n",
       " 'singing': 126,\n",
       " 'plastic_waste_reduction': 127,\n",
       " 'online_business': 128,\n",
       " 'yoga': 129,\n",
       " 'staying_connected': 130,\n",
       " 'eco-friendly_transportation': 131,\n",
       " 'positive_self-talk': 132,\n",
       " 'composting': 133,\n",
       " 'digital_organization': 134,\n",
       " 'mindful_eating': 135,\n",
       " 'home_security': 136,\n",
       " 'memory_improvement': 137,\n",
       " 'social_media_detox': 138,\n",
       " 'pet_adoption': 139,\n",
       " 'interpersonal_skills': 140,\n",
       " 'reducing_energy_consumption': 141,\n",
       " 'language_learning': 142,\n",
       " 'self_defense_for_women': 143,\n",
       " 'healthy_relationship_with_food': 144,\n",
       " 'procrastination': 145,\n",
       " 'daily_meditation': 146,\n",
       " 'charity_donations': 147,\n",
       " 'resilience': 148,\n",
       " 'meal_preparation': 149,\n",
       " 'work_life_balance': 150,\n",
       " 'mindfulness_in_nature': 151,\n",
       " 'journaling': 152,\n",
       " 'reducing_single_use_plastics': 153,\n",
       " 'team_building': 154,\n",
       " 'financial_investing': 155,\n",
       " 'reusable_transportation': 156,\n",
       " 'generosity_and_giving': 157,\n",
       " 'energy_boosting_foods': 158,\n",
       " 'exploring_culture_and_traditions': 159,\n",
       " 'effective_communication_in_relationships': 160,\n",
       " 'cooking_for_special_occasions': 161,\n",
       " 'developing_creativity_in_children': 162,\n",
       " 'emotional_resilience_in_children': 163,\n",
       " 'self_reflection': 164,\n",
       " 'mindful_technology_usage': 165,\n",
       " 'youth_mental_health': 166,\n",
       " 'mindful_consumption': 167,\n",
       " 'effective_study_groups': 168,\n",
       " 'social_anxiety': 169,\n",
       " 'responsible_pet_ownership': 170,\n",
       " 'waste_reduction_at_work': 171,\n",
       " 'effective_decision_making': 172,\n",
       " 'alien_invasion': 173,\n",
       " 'space_travel': 174,\n",
       " 'ninja_skills': 175,\n",
       " 'time_travel': 176,\n",
       " 'unicorn_taming': 177,\n",
       " 'wizard_training': 178,\n",
       " 'chocolate_obsession': 179,\n",
       " 'telepathy_skills': 180,\n",
       " 'butterfly_language': 181,\n",
       " 'astral_projection': 182,\n",
       " 'dragon_riding': 183,\n",
       " 'cloud_castles': 184,\n",
       " 'plant_whispering': 185,\n",
       " 'pirate_treasures': 186,\n",
       " 'underwater_exploration': 187,\n",
       " 'alien_languages': 188,\n",
       " 'enchanted_forests': 189,\n",
       " 'invisibility_cloak': 190,\n",
       " 'talking_animals': 191,\n",
       " 'robot_companions': 192,\n",
       " 'magic_school': 193,\n",
       " 'enchanted_potions': 194,\n",
       " 'treasure_hunting': 195,\n",
       " 'paranormal_investigation': 196,\n",
       " 'superhero_training': 197,\n",
       " 'time_bending': 198,\n",
       " 'extraterrestrial_cuisine': 199,\n",
       " 'dream_world': 200,\n",
       " 'book_of_spells': 201,\n",
       " 'space_dance_party': 202,\n",
       " 'rainbow_treasure': 203,\n",
       " 'jedi_training': 204,\n",
       " 'timeless_treasures': 205,\n",
       " 'mermaid_encounters': 206,\n",
       " 'mind_reading_glasses': 207,\n",
       " 'time_warps': 208,\n",
       " 'fortune_cookie_messages': 209,\n",
       " 'enchanted_music': 210,\n",
       " 'comedy_tonic': 211,\n",
       " 'fire-breathing_dragon': 212,\n",
       " 'mind_control': 213,\n",
       " 'flying_on_broomsticks': 214,\n",
       " 'enchanted_books': 215,\n",
       " 'starship_adventures': 216,\n",
       " 'enchanted_garden': 217,\n",
       " 'time_crystals': 218,\n",
       " 'magic_mirrors': 219,\n",
       " 'cloud_castle_ruler': 220,\n",
       " 'shape-shifting_abilities': 221,\n",
       " 'fantasy_adventures': 222,\n",
       " 'enchanted_mazes': 223,\n",
       " 'mind_bending_riddles': 224,\n",
       " 'wizard_apprenticeship': 225,\n",
       " 'fantasy_dreamscape': 226,\n",
       " 'time_traveler_guest': 227,\n",
       " 'enchanted_forest_lake': 228,\n",
       " 'mystical_creatures': 229,\n",
       " 'timeless_puzzles': 230,\n",
       " 'magic_cauldron': 231,\n",
       " 'wizardly_quizzes': 232,\n",
       " 'enchanted_compass': 233,\n",
       " 'arcane_alchemy': 234,\n",
       " 'spellbinding_artifacts': 235,\n",
       " 'enchanted_dance': 236,\n",
       " 'flying_carpet_adventures': 237,\n",
       " 'enchanted_music_box': 238,\n",
       " 'fairy_rings': 239,\n",
       " 'enchanted_butterflies': 240,\n",
       " 'time_warp_dance': 241,\n",
       " 'fantasy_lands': 242,\n",
       " 'enchanted_paintings': 243,\n",
       " 'spellbook_collection': 244,\n",
       " 'enchanted_sculptures': 245,\n",
       " 'wizarding_sports': 246,\n",
       " 'enchanted_gems': 247,\n",
       " 'timeless_wanderer': 248,\n",
       " 'enchanted_mirror_maze': 249,\n",
       " 'astral_artistry': 250,\n",
       " 'enchanted_teapot': 251,\n",
       " 'timeless_ballroom': 252,\n",
       " 'enchanted_fog': 253,\n",
       " 'spellcasting_tournament': 254,\n",
       " 'enchanted_stardust': 255,\n",
       " 'fantastical_architecture': 256,\n",
       " 'enchanted_breeze': 257,\n",
       " 'dragon_tamer': 258,\n",
       " 'enchanted_fruits': 259,\n",
       " 'magical_mistakes': 260,\n",
       " 'enchanted_rain': 261,\n",
       " 'timeless_tales': 262,\n",
       " 'enchanted_well': 263,\n",
       " 'dimensional_doorway': 264,\n",
       " 'enchanted_snow': 265,\n",
       " 'spellbinding_cuisine': 266,\n",
       " 'enchanted_lullabies': 267,\n",
       " 'time_travelers_journal': 268,\n",
       " 'enchanted_stables': 269,\n",
       " 'wizarding_cuisine': 270,\n",
       " 'enchanted_riddles': 271,\n",
       " 'timeless_relics': 272,\n",
       " 'order_tracking': 273,\n",
       " 'order_components': 274,\n",
       " 'forgot_password': 275,\n",
       " 'search_department': 276,\n",
       " 'customer_satisfaction': 277}"
      ]
     },
     "execution_count": 25,
     "metadata": {},
     "output_type": "execute_result"
    }
   ],
   "source": [
    "label2id"
   ]
  },
  {
   "cell_type": "markdown",
   "metadata": {},
   "source": [
    "Add converted `label2id` to df2"
   ]
  },
  {
   "cell_type": "code",
   "execution_count": 26,
   "metadata": {},
   "outputs": [
    {
     "data": {
      "text/html": [
       "<div>\n",
       "<style scoped>\n",
       "    .dataframe tbody tr th:only-of-type {\n",
       "        vertical-align: middle;\n",
       "    }\n",
       "\n",
       "    .dataframe tbody tr th {\n",
       "        vertical-align: top;\n",
       "    }\n",
       "\n",
       "    .dataframe thead th {\n",
       "        text-align: right;\n",
       "    }\n",
       "</style>\n",
       "<table border=\"1\" class=\"dataframe\">\n",
       "  <thead>\n",
       "    <tr style=\"text-align: right;\">\n",
       "      <th></th>\n",
       "      <th>Pattern</th>\n",
       "      <th>Tag</th>\n",
       "      <th>labels</th>\n",
       "    </tr>\n",
       "  </thead>\n",
       "  <tbody>\n",
       "    <tr>\n",
       "      <th>0</th>\n",
       "      <td>Hi</td>\n",
       "      <td>greeting</td>\n",
       "      <td>0</td>\n",
       "    </tr>\n",
       "    <tr>\n",
       "      <th>1</th>\n",
       "      <td>Hello</td>\n",
       "      <td>greeting</td>\n",
       "      <td>0</td>\n",
       "    </tr>\n",
       "    <tr>\n",
       "      <th>2</th>\n",
       "      <td>Hey</td>\n",
       "      <td>greeting</td>\n",
       "      <td>0</td>\n",
       "    </tr>\n",
       "    <tr>\n",
       "      <th>3</th>\n",
       "      <td>How are you</td>\n",
       "      <td>greeting</td>\n",
       "      <td>0</td>\n",
       "    </tr>\n",
       "    <tr>\n",
       "      <th>4</th>\n",
       "      <td>What's up</td>\n",
       "      <td>greeting</td>\n",
       "      <td>0</td>\n",
       "    </tr>\n",
       "  </tbody>\n",
       "</table>\n",
       "</div>"
      ],
      "text/plain": [
       "       Pattern       Tag  labels\n",
       "0           Hi  greeting       0\n",
       "1        Hello  greeting       0\n",
       "2          Hey  greeting       0\n",
       "3  How are you  greeting       0\n",
       "4    What's up  greeting       0"
      ]
     },
     "execution_count": 26,
     "metadata": {},
     "output_type": "execute_result"
    }
   ],
   "source": [
    "df2['labels'] = df2['Tag'].map(lambda x: label2id[x.strip()])\n",
    "df2.head()"
   ]
  },
  {
   "cell_type": "code",
   "execution_count": 27,
   "metadata": {},
   "outputs": [
    {
     "data": {
      "text/plain": [
       "['Hi', 'Hello', 'Hey', 'How are you', \"What's up\"]"
      ]
     },
     "execution_count": 27,
     "metadata": {},
     "output_type": "execute_result"
    }
   ],
   "source": [
    "X=list(df2['Pattern'])\n",
    "X[:5]"
   ]
  },
  {
   "cell_type": "code",
   "execution_count": 28,
   "metadata": {},
   "outputs": [
    {
     "data": {
      "text/plain": [
       "[0, 0, 0, 0, 0]"
      ]
     },
     "execution_count": 28,
     "metadata": {},
     "output_type": "execute_result"
    }
   ],
   "source": [
    "y=list(df2['labels'])\n",
    "y[:5]"
   ]
  },
  {
   "cell_type": "markdown",
   "metadata": {},
   "source": [
    "Define training and test datasets"
   ]
  },
  {
   "cell_type": "code",
   "execution_count": 29,
   "metadata": {},
   "outputs": [],
   "source": [
    "X_train,X_test,y_train,y_test=train_test_split(X,y,random_state=100)"
   ]
  },
  {
   "cell_type": "markdown",
   "metadata": {},
   "source": [
    "Define base model"
   ]
  },
  {
   "cell_type": "code",
   "execution_count": 30,
   "metadata": {},
   "outputs": [],
   "source": [
    "model_name=\"bert-base-uncased\"\n",
    "max_len=256"
   ]
  },
  {
   "cell_type": "markdown",
   "metadata": {},
   "source": [
    "Load tokenizer"
   ]
  },
  {
   "cell_type": "code",
   "execution_count": 31,
   "metadata": {},
   "outputs": [
    {
     "name": "stderr",
     "output_type": "stream",
     "text": [
      "/Users/johnmoses/miniconda3/envs/mconda38/lib/python3.8/site-packages/transformers/tokenization_utils_base.py:1601: FutureWarning: `clean_up_tokenization_spaces` was not set. It will be set to `True` by default. This behavior will be depracted in transformers v4.45, and will be then set to `False` by default. For more details check this issue: https://github.com/huggingface/transformers/issues/31884\n",
      "  warnings.warn(\n"
     ]
    }
   ],
   "source": [
    "tokenizer=BertTokenizer.from_pretrained(model_name,max_length=max_len)"
   ]
  },
  {
   "cell_type": "markdown",
   "metadata": {},
   "source": [
    "Load model"
   ]
  },
  {
   "cell_type": "code",
   "execution_count": 32,
   "metadata": {},
   "outputs": [
    {
     "name": "stderr",
     "output_type": "stream",
     "text": [
      "A parameter name that contains `beta` will be renamed internally to `bias`. Please use a different name to suppress this warning.\n",
      "A parameter name that contains `gamma` will be renamed internally to `weight`. Please use a different name to suppress this warning.\n",
      "A parameter name that contains `beta` will be renamed internally to `bias`. Please use a different name to suppress this warning.\n",
      "A parameter name that contains `gamma` will be renamed internally to `weight`. Please use a different name to suppress this warning.\n",
      "A parameter name that contains `beta` will be renamed internally to `bias`. Please use a different name to suppress this warning.\n",
      "A parameter name that contains `gamma` will be renamed internally to `weight`. Please use a different name to suppress this warning.\n",
      "A parameter name that contains `beta` will be renamed internally to `bias`. Please use a different name to suppress this warning.\n",
      "A parameter name that contains `gamma` will be renamed internally to `weight`. Please use a different name to suppress this warning.\n",
      "A parameter name that contains `beta` will be renamed internally to `bias`. Please use a different name to suppress this warning.\n",
      "A parameter name that contains `gamma` will be renamed internally to `weight`. Please use a different name to suppress this warning.\n",
      "A parameter name that contains `beta` will be renamed internally to `bias`. Please use a different name to suppress this warning.\n",
      "A parameter name that contains `gamma` will be renamed internally to `weight`. Please use a different name to suppress this warning.\n",
      "A parameter name that contains `beta` will be renamed internally to `bias`. Please use a different name to suppress this warning.\n",
      "A parameter name that contains `gamma` will be renamed internally to `weight`. Please use a different name to suppress this warning.\n",
      "A parameter name that contains `beta` will be renamed internally to `bias`. Please use a different name to suppress this warning.\n",
      "A parameter name that contains `gamma` will be renamed internally to `weight`. Please use a different name to suppress this warning.\n",
      "A parameter name that contains `beta` will be renamed internally to `bias`. Please use a different name to suppress this warning.\n",
      "A parameter name that contains `gamma` will be renamed internally to `weight`. Please use a different name to suppress this warning.\n",
      "A parameter name that contains `beta` will be renamed internally to `bias`. Please use a different name to suppress this warning.\n",
      "A parameter name that contains `gamma` will be renamed internally to `weight`. Please use a different name to suppress this warning.\n",
      "A parameter name that contains `beta` will be renamed internally to `bias`. Please use a different name to suppress this warning.\n",
      "A parameter name that contains `gamma` will be renamed internally to `weight`. Please use a different name to suppress this warning.\n",
      "A parameter name that contains `beta` will be renamed internally to `bias`. Please use a different name to suppress this warning.\n",
      "A parameter name that contains `gamma` will be renamed internally to `weight`. Please use a different name to suppress this warning.\n",
      "A parameter name that contains `beta` will be renamed internally to `bias`. Please use a different name to suppress this warning.\n",
      "A parameter name that contains `gamma` will be renamed internally to `weight`. Please use a different name to suppress this warning.\n",
      "A parameter name that contains `beta` will be renamed internally to `bias`. Please use a different name to suppress this warning.\n",
      "A parameter name that contains `gamma` will be renamed internally to `weight`. Please use a different name to suppress this warning.\n",
      "A parameter name that contains `beta` will be renamed internally to `bias`. Please use a different name to suppress this warning.\n",
      "A parameter name that contains `gamma` will be renamed internally to `weight`. Please use a different name to suppress this warning.\n",
      "A parameter name that contains `beta` will be renamed internally to `bias`. Please use a different name to suppress this warning.\n",
      "A parameter name that contains `gamma` will be renamed internally to `weight`. Please use a different name to suppress this warning.\n",
      "A parameter name that contains `beta` will be renamed internally to `bias`. Please use a different name to suppress this warning.\n",
      "A parameter name that contains `gamma` will be renamed internally to `weight`. Please use a different name to suppress this warning.\n",
      "A parameter name that contains `beta` will be renamed internally to `bias`. Please use a different name to suppress this warning.\n",
      "A parameter name that contains `gamma` will be renamed internally to `weight`. Please use a different name to suppress this warning.\n",
      "A parameter name that contains `beta` will be renamed internally to `bias`. Please use a different name to suppress this warning.\n",
      "A parameter name that contains `gamma` will be renamed internally to `weight`. Please use a different name to suppress this warning.\n",
      "A parameter name that contains `beta` will be renamed internally to `bias`. Please use a different name to suppress this warning.\n",
      "A parameter name that contains `gamma` will be renamed internally to `weight`. Please use a different name to suppress this warning.\n",
      "A parameter name that contains `beta` will be renamed internally to `bias`. Please use a different name to suppress this warning.\n",
      "A parameter name that contains `gamma` will be renamed internally to `weight`. Please use a different name to suppress this warning.\n",
      "A parameter name that contains `beta` will be renamed internally to `bias`. Please use a different name to suppress this warning.\n",
      "A parameter name that contains `gamma` will be renamed internally to `weight`. Please use a different name to suppress this warning.\n",
      "A parameter name that contains `beta` will be renamed internally to `bias`. Please use a different name to suppress this warning.\n",
      "A parameter name that contains `gamma` will be renamed internally to `weight`. Please use a different name to suppress this warning.\n",
      "A parameter name that contains `beta` will be renamed internally to `bias`. Please use a different name to suppress this warning.\n",
      "A parameter name that contains `gamma` will be renamed internally to `weight`. Please use a different name to suppress this warning.\n",
      "A parameter name that contains `beta` will be renamed internally to `bias`. Please use a different name to suppress this warning.\n",
      "A parameter name that contains `gamma` will be renamed internally to `weight`. Please use a different name to suppress this warning.\n",
      "A parameter name that contains `beta` will be renamed internally to `bias`. Please use a different name to suppress this warning.\n",
      "A parameter name that contains `gamma` will be renamed internally to `weight`. Please use a different name to suppress this warning.\n",
      "Some weights of BertForSequenceClassification were not initialized from the model checkpoint at bert-base-uncased and are newly initialized: ['classifier.bias', 'classifier.weight']\n",
      "You should probably TRAIN this model on a down-stream task to be able to use it for predictions and inference.\n"
     ]
    }
   ],
   "source": [
    "model=BertForSequenceClassification.from_pretrained(model_name,num_labels=num_labels,id2label=id2label,label2id=label2id)"
   ]
  },
  {
   "cell_type": "markdown",
   "metadata": {},
   "source": [
    "Define encoders"
   ]
  },
  {
   "cell_type": "code",
   "execution_count": 33,
   "metadata": {},
   "outputs": [],
   "source": [
    "train_encoding=tokenizer(X_train,truncation=True,padding=True)\n",
    "test_encoding=tokenizer(X_test,truncation=True,padding=True)"
   ]
  },
  {
   "cell_type": "code",
   "execution_count": 34,
   "metadata": {},
   "outputs": [],
   "source": [
    "full_data = tokenizer(X, truncation=True, padding=True)"
   ]
  },
  {
   "cell_type": "markdown",
   "metadata": {},
   "source": [
    "Data loader"
   ]
  },
  {
   "cell_type": "code",
   "execution_count": 35,
   "metadata": {},
   "outputs": [],
   "source": [
    "class DataLoader(Dataset):\n",
    "    \n",
    "    def __init__(self, encodings, labels):\n",
    "        \n",
    "        self.encodings = encodings\n",
    "        self.labels = labels\n",
    "\n",
    "    def __getitem__(self, idx):\n",
    "               \n",
    "        item = {key: torch.tensor(val[idx]) for key, val in self.encodings.items()}\n",
    "        item['labels'] = torch.tensor(self.labels[idx])\n",
    "        return item\n",
    "\n",
    "    def __len__(self):\n",
    "\n",
    "        return len(self.labels)"
   ]
  },
  {
   "cell_type": "code",
   "execution_count": 36,
   "metadata": {},
   "outputs": [],
   "source": [
    "train_dataloader = DataLoader(train_encoding, y_train)\n",
    "test_dataloader = DataLoader(test_encoding, y_test)"
   ]
  },
  {
   "cell_type": "code",
   "execution_count": 37,
   "metadata": {},
   "outputs": [],
   "source": [
    "fullDataLoader = DataLoader(full_data, y_test)"
   ]
  },
  {
   "cell_type": "code",
   "execution_count": 38,
   "metadata": {},
   "outputs": [],
   "source": [
    "from sklearn.metrics import precision_recall_fscore_support, accuracy_score\n",
    "\n",
    "def compute_metrics(pred):\n",
    "    labels = pred.label_ids  # True labels\n",
    "    preds = pred.predictions.argmax(-1)  # Predicted labels (argmax along the last axis)\n",
    "\n",
    "    # Using precision_recall_fscore_support to compute precision, recall, F1 score\n",
    "    precision, recall, f1, _ = precision_recall_fscore_support(labels, preds, average='macro')\n",
    "\n",
    "    # Using accuracy_score to compute accuracy\n",
    "    acc = accuracy_score(labels, preds)\n",
    "    \n",
    "    # Returning a dictionary containing the computed metrics\n",
    "    return {\n",
    "        'Accuracy': acc,\n",
    "        'F1': f1,\n",
    "        'Precision': precision,\n",
    "        'Recall': recall\n",
    "    }\n"
   ]
  },
  {
   "cell_type": "markdown",
   "metadata": {},
   "source": [
    "Define training arguments"
   ]
  },
  {
   "cell_type": "code",
   "execution_count": 39,
   "metadata": {},
   "outputs": [
    {
     "name": "stderr",
     "output_type": "stream",
     "text": [
      "/Users/johnmoses/miniconda3/envs/mconda38/lib/python3.8/site-packages/transformers/training_args.py:1525: FutureWarning: `evaluation_strategy` is deprecated and will be removed in version 4.46 of 🤗 Transformers. Use `eval_strategy` instead\n",
      "  warnings.warn(\n"
     ]
    }
   ],
   "source": [
    "training_args = TrainingArguments(\n",
    "    output_dir='./output', \n",
    "    do_train=True,\n",
    "    do_eval=True,\n",
    "    num_train_epochs=100,              \n",
    "    per_device_train_batch_size=32,  \n",
    "    per_device_eval_batch_size=16,\n",
    "    warmup_steps=100,                \n",
    "    weight_decay=0.05,\n",
    "    logging_strategy='steps',\n",
    "    logging_dir='./logs',            \n",
    "    logging_steps=50,\n",
    "    evaluation_strategy=\"steps\",\n",
    "    eval_steps=50,\n",
    "    save_strategy=\"steps\", \n",
    "    load_best_model_at_end=True\n",
    ")"
   ]
  },
  {
   "cell_type": "code",
   "execution_count": 40,
   "metadata": {},
   "outputs": [],
   "source": [
    "trainer = Trainer(\n",
    "    model=model,\n",
    "    args=training_args,                 \n",
    "    train_dataset=train_dataloader,         \n",
    "    eval_dataset=test_dataloader,            \n",
    "    compute_metrics= compute_metrics\n",
    ")"
   ]
  },
  {
   "cell_type": "code",
   "execution_count": 41,
   "metadata": {},
   "outputs": [
    {
     "data": {
      "application/vnd.jupyter.widget-view+json": {
       "model_id": "2ee58f1b270144a09f500a1c776d70a7",
       "version_major": 2,
       "version_minor": 0
      },
      "text/plain": [
       "  0%|          | 0/2000 [00:00<?, ?it/s]"
      ]
     },
     "metadata": {},
     "output_type": "display_data"
    },
    {
     "name": "stdout",
     "output_type": "stream",
     "text": [
      "{'loss': 5.6529, 'grad_norm': 4.828703880310059, 'learning_rate': 2.5e-05, 'epoch': 2.5}\n"
     ]
    },
    {
     "data": {
      "application/vnd.jupyter.widget-view+json": {
       "model_id": "8fb90a7cf77742f5b343e31f0ec5996b",
       "version_major": 2,
       "version_minor": 0
      },
      "text/plain": [
       "  0%|          | 0/14 [00:00<?, ?it/s]"
      ]
     },
     "metadata": {},
     "output_type": "display_data"
    },
    {
     "name": "stderr",
     "output_type": "stream",
     "text": [
      "/Users/johnmoses/miniconda3/envs/mconda38/lib/python3.8/site-packages/sklearn/metrics/_classification.py:1471: UndefinedMetricWarning: Precision and F-score are ill-defined and being set to 0.0 in labels with no predicted samples. Use `zero_division` parameter to control this behavior.\n",
      "  _warn_prf(average, modifier, msg_start, len(result))\n",
      "/Users/johnmoses/miniconda3/envs/mconda38/lib/python3.8/site-packages/sklearn/metrics/_classification.py:1471: UndefinedMetricWarning: Recall and F-score are ill-defined and being set to 0.0 in labels with no true samples. Use `zero_division` parameter to control this behavior.\n",
      "  _warn_prf(average, modifier, msg_start, len(result))\n"
     ]
    },
    {
     "name": "stdout",
     "output_type": "stream",
     "text": [
      "{'eval_loss': 5.6662702560424805, 'eval_Accuracy': 0.004694835680751174, 'eval_F1': 0.0006303183107469272, 'eval_Precision': 0.00033266799733865603, 'eval_Recall': 0.005988023952095809, 'eval_runtime': 1.2009, 'eval_samples_per_second': 177.361, 'eval_steps_per_second': 11.658, 'epoch': 2.5}\n",
      "{'loss': 5.499, 'grad_norm': 5.296258449554443, 'learning_rate': 5e-05, 'epoch': 5.0}\n"
     ]
    },
    {
     "data": {
      "application/vnd.jupyter.widget-view+json": {
       "model_id": "9fc6db4f25b34ff7b545475ee69015c1",
       "version_major": 2,
       "version_minor": 0
      },
      "text/plain": [
       "  0%|          | 0/14 [00:00<?, ?it/s]"
      ]
     },
     "metadata": {},
     "output_type": "display_data"
    },
    {
     "name": "stderr",
     "output_type": "stream",
     "text": [
      "/Users/johnmoses/miniconda3/envs/mconda38/lib/python3.8/site-packages/sklearn/metrics/_classification.py:1471: UndefinedMetricWarning: Precision and F-score are ill-defined and being set to 0.0 in labels with no predicted samples. Use `zero_division` parameter to control this behavior.\n",
      "  _warn_prf(average, modifier, msg_start, len(result))\n",
      "/Users/johnmoses/miniconda3/envs/mconda38/lib/python3.8/site-packages/sklearn/metrics/_classification.py:1471: UndefinedMetricWarning: Recall and F-score are ill-defined and being set to 0.0 in labels with no true samples. Use `zero_division` parameter to control this behavior.\n",
      "  _warn_prf(average, modifier, msg_start, len(result))\n"
     ]
    },
    {
     "name": "stdout",
     "output_type": "stream",
     "text": [
      "{'eval_loss': 5.601845741271973, 'eval_Accuracy': 0.0, 'eval_F1': 0.0, 'eval_Precision': 0.0, 'eval_Recall': 0.0, 'eval_runtime': 0.6633, 'eval_samples_per_second': 321.113, 'eval_steps_per_second': 21.106, 'epoch': 5.0}\n",
      "{'loss': 5.0541, 'grad_norm': 5.023128509521484, 'learning_rate': 4.868421052631579e-05, 'epoch': 7.5}\n"
     ]
    },
    {
     "data": {
      "application/vnd.jupyter.widget-view+json": {
       "model_id": "2e73c223d09b408fa2baf6079be3523c",
       "version_major": 2,
       "version_minor": 0
      },
      "text/plain": [
       "  0%|          | 0/14 [00:00<?, ?it/s]"
      ]
     },
     "metadata": {},
     "output_type": "display_data"
    },
    {
     "name": "stderr",
     "output_type": "stream",
     "text": [
      "/Users/johnmoses/miniconda3/envs/mconda38/lib/python3.8/site-packages/sklearn/metrics/_classification.py:1471: UndefinedMetricWarning: Precision and F-score are ill-defined and being set to 0.0 in labels with no predicted samples. Use `zero_division` parameter to control this behavior.\n",
      "  _warn_prf(average, modifier, msg_start, len(result))\n",
      "/Users/johnmoses/miniconda3/envs/mconda38/lib/python3.8/site-packages/sklearn/metrics/_classification.py:1471: UndefinedMetricWarning: Recall and F-score are ill-defined and being set to 0.0 in labels with no true samples. Use `zero_division` parameter to control this behavior.\n",
      "  _warn_prf(average, modifier, msg_start, len(result))\n"
     ]
    },
    {
     "name": "stdout",
     "output_type": "stream",
     "text": [
      "{'eval_loss': 5.38176965713501, 'eval_Accuracy': 0.046948356807511735, 'eval_F1': 0.021049519586104952, 'eval_Precision': 0.01781649245063879, 'eval_Recall': 0.03902439024390244, 'eval_runtime': 0.608, 'eval_samples_per_second': 350.357, 'eval_steps_per_second': 23.028, 'epoch': 7.5}\n",
      "{'loss': 4.4643, 'grad_norm': 4.903512954711914, 'learning_rate': 4.736842105263158e-05, 'epoch': 10.0}\n"
     ]
    },
    {
     "data": {
      "application/vnd.jupyter.widget-view+json": {
       "model_id": "8cc69c961b854075aadc61cec1e6a0e5",
       "version_major": 2,
       "version_minor": 0
      },
      "text/plain": [
       "  0%|          | 0/14 [00:00<?, ?it/s]"
      ]
     },
     "metadata": {},
     "output_type": "display_data"
    },
    {
     "name": "stderr",
     "output_type": "stream",
     "text": [
      "/Users/johnmoses/miniconda3/envs/mconda38/lib/python3.8/site-packages/sklearn/metrics/_classification.py:1471: UndefinedMetricWarning: Precision and F-score are ill-defined and being set to 0.0 in labels with no predicted samples. Use `zero_division` parameter to control this behavior.\n",
      "  _warn_prf(average, modifier, msg_start, len(result))\n",
      "/Users/johnmoses/miniconda3/envs/mconda38/lib/python3.8/site-packages/sklearn/metrics/_classification.py:1471: UndefinedMetricWarning: Recall and F-score are ill-defined and being set to 0.0 in labels with no true samples. Use `zero_division` parameter to control this behavior.\n",
      "  _warn_prf(average, modifier, msg_start, len(result))\n"
     ]
    },
    {
     "name": "stdout",
     "output_type": "stream",
     "text": [
      "{'eval_loss': 5.156608581542969, 'eval_Accuracy': 0.06572769953051644, 'eval_F1': 0.03813872580995868, 'eval_Precision': 0.038457635717909694, 'eval_Recall': 0.04794520547945205, 'eval_runtime': 0.6069, 'eval_samples_per_second': 350.981, 'eval_steps_per_second': 23.069, 'epoch': 10.0}\n",
      "{'loss': 3.8917, 'grad_norm': 5.0684967041015625, 'learning_rate': 4.605263157894737e-05, 'epoch': 12.5}\n"
     ]
    },
    {
     "data": {
      "application/vnd.jupyter.widget-view+json": {
       "model_id": "ffdd4a6414b043d992da48ff8d51959a",
       "version_major": 2,
       "version_minor": 0
      },
      "text/plain": [
       "  0%|          | 0/14 [00:00<?, ?it/s]"
      ]
     },
     "metadata": {},
     "output_type": "display_data"
    },
    {
     "name": "stderr",
     "output_type": "stream",
     "text": [
      "/Users/johnmoses/miniconda3/envs/mconda38/lib/python3.8/site-packages/sklearn/metrics/_classification.py:1471: UndefinedMetricWarning: Precision and F-score are ill-defined and being set to 0.0 in labels with no predicted samples. Use `zero_division` parameter to control this behavior.\n",
      "  _warn_prf(average, modifier, msg_start, len(result))\n",
      "/Users/johnmoses/miniconda3/envs/mconda38/lib/python3.8/site-packages/sklearn/metrics/_classification.py:1471: UndefinedMetricWarning: Recall and F-score are ill-defined and being set to 0.0 in labels with no true samples. Use `zero_division` parameter to control this behavior.\n",
      "  _warn_prf(average, modifier, msg_start, len(result))\n"
     ]
    },
    {
     "name": "stdout",
     "output_type": "stream",
     "text": [
      "{'eval_loss': 4.925370693206787, 'eval_Accuracy': 0.107981220657277, 'eval_F1': 0.0764069264069264, 'eval_Precision': 0.07534722222222223, 'eval_Recall': 0.08705357142857142, 'eval_runtime': 0.6041, 'eval_samples_per_second': 352.604, 'eval_steps_per_second': 23.176, 'epoch': 12.5}\n",
      "{'loss': 3.3742, 'grad_norm': 5.112164497375488, 'learning_rate': 4.473684210526316e-05, 'epoch': 15.0}\n"
     ]
    },
    {
     "data": {
      "application/vnd.jupyter.widget-view+json": {
       "model_id": "f50b35c178ab4891b757f0f391624049",
       "version_major": 2,
       "version_minor": 0
      },
      "text/plain": [
       "  0%|          | 0/14 [00:00<?, ?it/s]"
      ]
     },
     "metadata": {},
     "output_type": "display_data"
    },
    {
     "name": "stderr",
     "output_type": "stream",
     "text": [
      "/Users/johnmoses/miniconda3/envs/mconda38/lib/python3.8/site-packages/sklearn/metrics/_classification.py:1471: UndefinedMetricWarning: Precision and F-score are ill-defined and being set to 0.0 in labels with no predicted samples. Use `zero_division` parameter to control this behavior.\n",
      "  _warn_prf(average, modifier, msg_start, len(result))\n",
      "/Users/johnmoses/miniconda3/envs/mconda38/lib/python3.8/site-packages/sklearn/metrics/_classification.py:1471: UndefinedMetricWarning: Recall and F-score are ill-defined and being set to 0.0 in labels with no true samples. Use `zero_division` parameter to control this behavior.\n",
      "  _warn_prf(average, modifier, msg_start, len(result))\n"
     ]
    },
    {
     "name": "stdout",
     "output_type": "stream",
     "text": [
      "{'eval_loss': 4.728433132171631, 'eval_Accuracy': 0.13145539906103287, 'eval_F1': 0.09049707602339181, 'eval_Precision': 0.08689083820662767, 'eval_Recall': 0.10526315789473684, 'eval_runtime': 0.6177, 'eval_samples_per_second': 344.817, 'eval_steps_per_second': 22.664, 'epoch': 15.0}\n",
      "{'loss': 2.9015, 'grad_norm': 4.806368827819824, 'learning_rate': 4.342105263157895e-05, 'epoch': 17.5}\n"
     ]
    },
    {
     "data": {
      "application/vnd.jupyter.widget-view+json": {
       "model_id": "436f2e144cfd4af5ada86008527c662d",
       "version_major": 2,
       "version_minor": 0
      },
      "text/plain": [
       "  0%|          | 0/14 [00:00<?, ?it/s]"
      ]
     },
     "metadata": {},
     "output_type": "display_data"
    },
    {
     "name": "stderr",
     "output_type": "stream",
     "text": [
      "/Users/johnmoses/miniconda3/envs/mconda38/lib/python3.8/site-packages/sklearn/metrics/_classification.py:1471: UndefinedMetricWarning: Precision and F-score are ill-defined and being set to 0.0 in labels with no predicted samples. Use `zero_division` parameter to control this behavior.\n",
      "  _warn_prf(average, modifier, msg_start, len(result))\n",
      "/Users/johnmoses/miniconda3/envs/mconda38/lib/python3.8/site-packages/sklearn/metrics/_classification.py:1471: UndefinedMetricWarning: Recall and F-score are ill-defined and being set to 0.0 in labels with no true samples. Use `zero_division` parameter to control this behavior.\n",
      "  _warn_prf(average, modifier, msg_start, len(result))\n"
     ]
    },
    {
     "name": "stdout",
     "output_type": "stream",
     "text": [
      "{'eval_loss': 4.566895484924316, 'eval_Accuracy': 0.17370892018779344, 'eval_F1': 0.1329798294863797, 'eval_Precision': 0.13027656477438138, 'eval_Recall': 0.1462882096069869, 'eval_runtime': 0.6127, 'eval_samples_per_second': 347.656, 'eval_steps_per_second': 22.851, 'epoch': 17.5}\n",
      "{'loss': 2.4711, 'grad_norm': 5.764880180358887, 'learning_rate': 4.210526315789474e-05, 'epoch': 20.0}\n"
     ]
    },
    {
     "data": {
      "application/vnd.jupyter.widget-view+json": {
       "model_id": "99269996993e46729978ad2ead7d5637",
       "version_major": 2,
       "version_minor": 0
      },
      "text/plain": [
       "  0%|          | 0/14 [00:00<?, ?it/s]"
      ]
     },
     "metadata": {},
     "output_type": "display_data"
    },
    {
     "name": "stderr",
     "output_type": "stream",
     "text": [
      "/Users/johnmoses/miniconda3/envs/mconda38/lib/python3.8/site-packages/sklearn/metrics/_classification.py:1471: UndefinedMetricWarning: Precision and F-score are ill-defined and being set to 0.0 in labels with no predicted samples. Use `zero_division` parameter to control this behavior.\n",
      "  _warn_prf(average, modifier, msg_start, len(result))\n",
      "/Users/johnmoses/miniconda3/envs/mconda38/lib/python3.8/site-packages/sklearn/metrics/_classification.py:1471: UndefinedMetricWarning: Recall and F-score are ill-defined and being set to 0.0 in labels with no true samples. Use `zero_division` parameter to control this behavior.\n",
      "  _warn_prf(average, modifier, msg_start, len(result))\n"
     ]
    },
    {
     "name": "stdout",
     "output_type": "stream",
     "text": [
      "{'eval_loss': 4.3949737548828125, 'eval_Accuracy': 0.19718309859154928, 'eval_F1': 0.15183792815371763, 'eval_Precision': 0.14875730994152045, 'eval_Recall': 0.16666666666666666, 'eval_runtime': 0.576, 'eval_samples_per_second': 369.802, 'eval_steps_per_second': 24.306, 'epoch': 20.0}\n",
      "{'loss': 2.0636, 'grad_norm': 3.9272406101226807, 'learning_rate': 4.078947368421053e-05, 'epoch': 22.5}\n"
     ]
    },
    {
     "data": {
      "application/vnd.jupyter.widget-view+json": {
       "model_id": "798e4fba5d14432cb277cf61d7c75ed1",
       "version_major": 2,
       "version_minor": 0
      },
      "text/plain": [
       "  0%|          | 0/14 [00:00<?, ?it/s]"
      ]
     },
     "metadata": {},
     "output_type": "display_data"
    },
    {
     "name": "stderr",
     "output_type": "stream",
     "text": [
      "/Users/johnmoses/miniconda3/envs/mconda38/lib/python3.8/site-packages/sklearn/metrics/_classification.py:1471: UndefinedMetricWarning: Precision and F-score are ill-defined and being set to 0.0 in labels with no predicted samples. Use `zero_division` parameter to control this behavior.\n",
      "  _warn_prf(average, modifier, msg_start, len(result))\n",
      "/Users/johnmoses/miniconda3/envs/mconda38/lib/python3.8/site-packages/sklearn/metrics/_classification.py:1471: UndefinedMetricWarning: Recall and F-score are ill-defined and being set to 0.0 in labels with no true samples. Use `zero_division` parameter to control this behavior.\n",
      "  _warn_prf(average, modifier, msg_start, len(result))\n"
     ]
    },
    {
     "name": "stdout",
     "output_type": "stream",
     "text": [
      "{'eval_loss': 4.245105266571045, 'eval_Accuracy': 0.2300469483568075, 'eval_F1': 0.18128654970760233, 'eval_Precision': 0.17595029239766083, 'eval_Recall': 0.19956140350877194, 'eval_runtime': 0.5821, 'eval_samples_per_second': 365.89, 'eval_steps_per_second': 24.049, 'epoch': 22.5}\n",
      "{'loss': 1.7428, 'grad_norm': 4.090250492095947, 'learning_rate': 3.9473684210526316e-05, 'epoch': 25.0}\n"
     ]
    },
    {
     "data": {
      "application/vnd.jupyter.widget-view+json": {
       "model_id": "ed5ac044d77242f5865a8488f6a93fc9",
       "version_major": 2,
       "version_minor": 0
      },
      "text/plain": [
       "  0%|          | 0/14 [00:00<?, ?it/s]"
      ]
     },
     "metadata": {},
     "output_type": "display_data"
    },
    {
     "name": "stderr",
     "output_type": "stream",
     "text": [
      "/Users/johnmoses/miniconda3/envs/mconda38/lib/python3.8/site-packages/sklearn/metrics/_classification.py:1471: UndefinedMetricWarning: Precision and F-score are ill-defined and being set to 0.0 in labels with no predicted samples. Use `zero_division` parameter to control this behavior.\n",
      "  _warn_prf(average, modifier, msg_start, len(result))\n",
      "/Users/johnmoses/miniconda3/envs/mconda38/lib/python3.8/site-packages/sklearn/metrics/_classification.py:1471: UndefinedMetricWarning: Recall and F-score are ill-defined and being set to 0.0 in labels with no true samples. Use `zero_division` parameter to control this behavior.\n",
      "  _warn_prf(average, modifier, msg_start, len(result))\n"
     ]
    },
    {
     "name": "stdout",
     "output_type": "stream",
     "text": [
      "{'eval_loss': 4.10429048538208, 'eval_Accuracy': 0.25821596244131456, 'eval_F1': 0.20162241887905602, 'eval_Precision': 0.19690265486725664, 'eval_Recall': 0.21902654867256638, 'eval_runtime': 0.5775, 'eval_samples_per_second': 368.848, 'eval_steps_per_second': 24.244, 'epoch': 25.0}\n",
      "{'loss': 1.4172, 'grad_norm': 3.1947741508483887, 'learning_rate': 3.815789473684211e-05, 'epoch': 27.5}\n"
     ]
    },
    {
     "data": {
      "application/vnd.jupyter.widget-view+json": {
       "model_id": "cb9ca325334d4f4dabf86b69481bf278",
       "version_major": 2,
       "version_minor": 0
      },
      "text/plain": [
       "  0%|          | 0/14 [00:00<?, ?it/s]"
      ]
     },
     "metadata": {},
     "output_type": "display_data"
    },
    {
     "name": "stderr",
     "output_type": "stream",
     "text": [
      "/Users/johnmoses/miniconda3/envs/mconda38/lib/python3.8/site-packages/sklearn/metrics/_classification.py:1471: UndefinedMetricWarning: Precision and F-score are ill-defined and being set to 0.0 in labels with no predicted samples. Use `zero_division` parameter to control this behavior.\n",
      "  _warn_prf(average, modifier, msg_start, len(result))\n",
      "/Users/johnmoses/miniconda3/envs/mconda38/lib/python3.8/site-packages/sklearn/metrics/_classification.py:1471: UndefinedMetricWarning: Recall and F-score are ill-defined and being set to 0.0 in labels with no true samples. Use `zero_division` parameter to control this behavior.\n",
      "  _warn_prf(average, modifier, msg_start, len(result))\n"
     ]
    },
    {
     "name": "stdout",
     "output_type": "stream",
     "text": [
      "{'eval_loss': 3.9979069232940674, 'eval_Accuracy': 0.2535211267605634, 'eval_F1': 0.20520833333333335, 'eval_Precision': 0.2051339285714286, 'eval_Recall': 0.21651785714285715, 'eval_runtime': 0.5853, 'eval_samples_per_second': 363.945, 'eval_steps_per_second': 23.921, 'epoch': 27.5}\n",
      "{'loss': 1.176, 'grad_norm': 3.528109550476074, 'learning_rate': 3.6842105263157895e-05, 'epoch': 30.0}\n"
     ]
    },
    {
     "data": {
      "application/vnd.jupyter.widget-view+json": {
       "model_id": "93ca98c0c2ea40dd8120b7c57839de97",
       "version_major": 2,
       "version_minor": 0
      },
      "text/plain": [
       "  0%|          | 0/14 [00:00<?, ?it/s]"
      ]
     },
     "metadata": {},
     "output_type": "display_data"
    },
    {
     "name": "stderr",
     "output_type": "stream",
     "text": [
      "/Users/johnmoses/miniconda3/envs/mconda38/lib/python3.8/site-packages/sklearn/metrics/_classification.py:1471: UndefinedMetricWarning: Precision and F-score are ill-defined and being set to 0.0 in labels with no predicted samples. Use `zero_division` parameter to control this behavior.\n",
      "  _warn_prf(average, modifier, msg_start, len(result))\n",
      "/Users/johnmoses/miniconda3/envs/mconda38/lib/python3.8/site-packages/sklearn/metrics/_classification.py:1471: UndefinedMetricWarning: Recall and F-score are ill-defined and being set to 0.0 in labels with no true samples. Use `zero_division` parameter to control this behavior.\n",
      "  _warn_prf(average, modifier, msg_start, len(result))\n"
     ]
    },
    {
     "name": "stdout",
     "output_type": "stream",
     "text": [
      "{'eval_loss': 3.855703353881836, 'eval_Accuracy': 0.2863849765258216, 'eval_F1': 0.22612612612612615, 'eval_Precision': 0.22447447447447447, 'eval_Recall': 0.24324324324324326, 'eval_runtime': 0.5821, 'eval_samples_per_second': 365.947, 'eval_steps_per_second': 24.053, 'epoch': 30.0}\n",
      "{'loss': 0.9468, 'grad_norm': 2.6590030193328857, 'learning_rate': 3.5526315789473684e-05, 'epoch': 32.5}\n"
     ]
    },
    {
     "data": {
      "application/vnd.jupyter.widget-view+json": {
       "model_id": "bf09bc4ae4e940298c7ce0263721ed1f",
       "version_major": 2,
       "version_minor": 0
      },
      "text/plain": [
       "  0%|          | 0/14 [00:00<?, ?it/s]"
      ]
     },
     "metadata": {},
     "output_type": "display_data"
    },
    {
     "name": "stderr",
     "output_type": "stream",
     "text": [
      "/Users/johnmoses/miniconda3/envs/mconda38/lib/python3.8/site-packages/sklearn/metrics/_classification.py:1471: UndefinedMetricWarning: Precision and F-score are ill-defined and being set to 0.0 in labels with no predicted samples. Use `zero_division` parameter to control this behavior.\n",
      "  _warn_prf(average, modifier, msg_start, len(result))\n",
      "/Users/johnmoses/miniconda3/envs/mconda38/lib/python3.8/site-packages/sklearn/metrics/_classification.py:1471: UndefinedMetricWarning: Recall and F-score are ill-defined and being set to 0.0 in labels with no true samples. Use `zero_division` parameter to control this behavior.\n",
      "  _warn_prf(average, modifier, msg_start, len(result))\n"
     ]
    },
    {
     "name": "stdout",
     "output_type": "stream",
     "text": [
      "{'eval_loss': 3.7513043880462646, 'eval_Accuracy': 0.28169014084507044, 'eval_F1': 0.22790346907993966, 'eval_Precision': 0.22473604826546, 'eval_Recall': 0.24434389140271492, 'eval_runtime': 0.5741, 'eval_samples_per_second': 371.007, 'eval_steps_per_second': 24.385, 'epoch': 32.5}\n",
      "{'loss': 0.7724, 'grad_norm': 2.8158140182495117, 'learning_rate': 3.421052631578947e-05, 'epoch': 35.0}\n"
     ]
    },
    {
     "data": {
      "application/vnd.jupyter.widget-view+json": {
       "model_id": "d7e8d1407a0b454bb1baf19fdc0f1fe8",
       "version_major": 2,
       "version_minor": 0
      },
      "text/plain": [
       "  0%|          | 0/14 [00:00<?, ?it/s]"
      ]
     },
     "metadata": {},
     "output_type": "display_data"
    },
    {
     "name": "stderr",
     "output_type": "stream",
     "text": [
      "/Users/johnmoses/miniconda3/envs/mconda38/lib/python3.8/site-packages/sklearn/metrics/_classification.py:1471: UndefinedMetricWarning: Precision and F-score are ill-defined and being set to 0.0 in labels with no predicted samples. Use `zero_division` parameter to control this behavior.\n",
      "  _warn_prf(average, modifier, msg_start, len(result))\n",
      "/Users/johnmoses/miniconda3/envs/mconda38/lib/python3.8/site-packages/sklearn/metrics/_classification.py:1471: UndefinedMetricWarning: Recall and F-score are ill-defined and being set to 0.0 in labels with no true samples. Use `zero_division` parameter to control this behavior.\n",
      "  _warn_prf(average, modifier, msg_start, len(result))\n"
     ]
    },
    {
     "name": "stdout",
     "output_type": "stream",
     "text": [
      "{'eval_loss': 3.6536316871643066, 'eval_Accuracy': 0.29577464788732394, 'eval_F1': 0.23546423135464228, 'eval_Precision': 0.23668188736681892, 'eval_Recall': 0.2534246575342466, 'eval_runtime': 0.5862, 'eval_samples_per_second': 363.365, 'eval_steps_per_second': 23.883, 'epoch': 35.0}\n",
      "{'loss': 0.6213, 'grad_norm': 2.3893933296203613, 'learning_rate': 3.289473684210527e-05, 'epoch': 37.5}\n"
     ]
    },
    {
     "data": {
      "application/vnd.jupyter.widget-view+json": {
       "model_id": "335cdbf37b0844dd8bccdea77c0d7344",
       "version_major": 2,
       "version_minor": 0
      },
      "text/plain": [
       "  0%|          | 0/14 [00:00<?, ?it/s]"
      ]
     },
     "metadata": {},
     "output_type": "display_data"
    },
    {
     "name": "stderr",
     "output_type": "stream",
     "text": [
      "/Users/johnmoses/miniconda3/envs/mconda38/lib/python3.8/site-packages/sklearn/metrics/_classification.py:1471: UndefinedMetricWarning: Precision and F-score are ill-defined and being set to 0.0 in labels with no predicted samples. Use `zero_division` parameter to control this behavior.\n",
      "  _warn_prf(average, modifier, msg_start, len(result))\n",
      "/Users/johnmoses/miniconda3/envs/mconda38/lib/python3.8/site-packages/sklearn/metrics/_classification.py:1471: UndefinedMetricWarning: Recall and F-score are ill-defined and being set to 0.0 in labels with no true samples. Use `zero_division` parameter to control this behavior.\n",
      "  _warn_prf(average, modifier, msg_start, len(result))\n"
     ]
    },
    {
     "name": "stdout",
     "output_type": "stream",
     "text": [
      "{'eval_loss': 3.564413070678711, 'eval_Accuracy': 0.29577464788732394, 'eval_F1': 0.2362654320987654, 'eval_Precision': 0.23202160493827162, 'eval_Recall': 0.25925925925925924, 'eval_runtime': 0.5834, 'eval_samples_per_second': 365.081, 'eval_steps_per_second': 23.996, 'epoch': 37.5}\n",
      "{'loss': 0.5129, 'grad_norm': 2.0033841133117676, 'learning_rate': 3.157894736842105e-05, 'epoch': 40.0}\n"
     ]
    },
    {
     "data": {
      "application/vnd.jupyter.widget-view+json": {
       "model_id": "3a8c04eb98a54d57b4cb9bb783bd7362",
       "version_major": 2,
       "version_minor": 0
      },
      "text/plain": [
       "  0%|          | 0/14 [00:00<?, ?it/s]"
      ]
     },
     "metadata": {},
     "output_type": "display_data"
    },
    {
     "name": "stderr",
     "output_type": "stream",
     "text": [
      "/Users/johnmoses/miniconda3/envs/mconda38/lib/python3.8/site-packages/sklearn/metrics/_classification.py:1471: UndefinedMetricWarning: Precision and F-score are ill-defined and being set to 0.0 in labels with no predicted samples. Use `zero_division` parameter to control this behavior.\n",
      "  _warn_prf(average, modifier, msg_start, len(result))\n",
      "/Users/johnmoses/miniconda3/envs/mconda38/lib/python3.8/site-packages/sklearn/metrics/_classification.py:1471: UndefinedMetricWarning: Recall and F-score are ill-defined and being set to 0.0 in labels with no true samples. Use `zero_division` parameter to control this behavior.\n",
      "  _warn_prf(average, modifier, msg_start, len(result))\n"
     ]
    },
    {
     "name": "stdout",
     "output_type": "stream",
     "text": [
      "{'eval_loss': 3.500619411468506, 'eval_Accuracy': 0.3333333333333333, 'eval_F1': 0.26635367762128326, 'eval_Precision': 0.2644757433489828, 'eval_Recall': 0.29107981220657275, 'eval_runtime': 0.5945, 'eval_samples_per_second': 358.285, 'eval_steps_per_second': 23.549, 'epoch': 40.0}\n",
      "{'loss': 0.4012, 'grad_norm': 1.4194780588150024, 'learning_rate': 3.0263157894736844e-05, 'epoch': 42.5}\n"
     ]
    },
    {
     "data": {
      "application/vnd.jupyter.widget-view+json": {
       "model_id": "60ce411bb94b41b8b5e487b131998edf",
       "version_major": 2,
       "version_minor": 0
      },
      "text/plain": [
       "  0%|          | 0/14 [00:00<?, ?it/s]"
      ]
     },
     "metadata": {},
     "output_type": "display_data"
    },
    {
     "name": "stderr",
     "output_type": "stream",
     "text": [
      "/Users/johnmoses/miniconda3/envs/mconda38/lib/python3.8/site-packages/sklearn/metrics/_classification.py:1471: UndefinedMetricWarning: Precision and F-score are ill-defined and being set to 0.0 in labels with no predicted samples. Use `zero_division` parameter to control this behavior.\n",
      "  _warn_prf(average, modifier, msg_start, len(result))\n",
      "/Users/johnmoses/miniconda3/envs/mconda38/lib/python3.8/site-packages/sklearn/metrics/_classification.py:1471: UndefinedMetricWarning: Recall and F-score are ill-defined and being set to 0.0 in labels with no true samples. Use `zero_division` parameter to control this behavior.\n",
      "  _warn_prf(average, modifier, msg_start, len(result))\n"
     ]
    },
    {
     "name": "stdout",
     "output_type": "stream",
     "text": [
      "{'eval_loss': 3.413306474685669, 'eval_Accuracy': 0.3333333333333333, 'eval_F1': 0.2655712050078247, 'eval_Precision': 0.26447574334898283, 'eval_Recall': 0.2863849765258216, 'eval_runtime': 0.5863, 'eval_samples_per_second': 363.311, 'eval_steps_per_second': 23.88, 'epoch': 42.5}\n",
      "{'loss': 0.3352, 'grad_norm': 1.497567057609558, 'learning_rate': 2.8947368421052634e-05, 'epoch': 45.0}\n"
     ]
    },
    {
     "data": {
      "application/vnd.jupyter.widget-view+json": {
       "model_id": "2232fd2467144f1590f8f90a4e193e31",
       "version_major": 2,
       "version_minor": 0
      },
      "text/plain": [
       "  0%|          | 0/14 [00:00<?, ?it/s]"
      ]
     },
     "metadata": {},
     "output_type": "display_data"
    },
    {
     "name": "stderr",
     "output_type": "stream",
     "text": [
      "/Users/johnmoses/miniconda3/envs/mconda38/lib/python3.8/site-packages/sklearn/metrics/_classification.py:1471: UndefinedMetricWarning: Precision and F-score are ill-defined and being set to 0.0 in labels with no predicted samples. Use `zero_division` parameter to control this behavior.\n",
      "  _warn_prf(average, modifier, msg_start, len(result))\n",
      "/Users/johnmoses/miniconda3/envs/mconda38/lib/python3.8/site-packages/sklearn/metrics/_classification.py:1471: UndefinedMetricWarning: Recall and F-score are ill-defined and being set to 0.0 in labels with no true samples. Use `zero_division` parameter to control this behavior.\n",
      "  _warn_prf(average, modifier, msg_start, len(result))\n"
     ]
    },
    {
     "name": "stdout",
     "output_type": "stream",
     "text": [
      "{'eval_loss': 3.381288528442383, 'eval_Accuracy': 0.3380281690140845, 'eval_F1': 0.26124031007751936, 'eval_Precision': 0.2616279069767442, 'eval_Recall': 0.2837209302325581, 'eval_runtime': 0.5921, 'eval_samples_per_second': 359.722, 'eval_steps_per_second': 23.644, 'epoch': 45.0}\n",
      "{'loss': 0.2623, 'grad_norm': 1.0221730470657349, 'learning_rate': 2.7631578947368426e-05, 'epoch': 47.5}\n"
     ]
    },
    {
     "data": {
      "application/vnd.jupyter.widget-view+json": {
       "model_id": "6f6c9ded645d4158873c91005bd79c54",
       "version_major": 2,
       "version_minor": 0
      },
      "text/plain": [
       "  0%|          | 0/14 [00:00<?, ?it/s]"
      ]
     },
     "metadata": {},
     "output_type": "display_data"
    },
    {
     "name": "stderr",
     "output_type": "stream",
     "text": [
      "/Users/johnmoses/miniconda3/envs/mconda38/lib/python3.8/site-packages/sklearn/metrics/_classification.py:1471: UndefinedMetricWarning: Precision and F-score are ill-defined and being set to 0.0 in labels with no predicted samples. Use `zero_division` parameter to control this behavior.\n",
      "  _warn_prf(average, modifier, msg_start, len(result))\n",
      "/Users/johnmoses/miniconda3/envs/mconda38/lib/python3.8/site-packages/sklearn/metrics/_classification.py:1471: UndefinedMetricWarning: Recall and F-score are ill-defined and being set to 0.0 in labels with no true samples. Use `zero_division` parameter to control this behavior.\n",
      "  _warn_prf(average, modifier, msg_start, len(result))\n"
     ]
    },
    {
     "name": "stdout",
     "output_type": "stream",
     "text": [
      "{'eval_loss': 3.3313190937042236, 'eval_Accuracy': 0.352112676056338, 'eval_F1': 0.2787596899224806, 'eval_Precision': 0.28062015503875976, 'eval_Recall': 0.29534883720930233, 'eval_runtime': 0.6076, 'eval_samples_per_second': 350.539, 'eval_steps_per_second': 23.04, 'epoch': 47.5}\n",
      "{'loss': 0.2171, 'grad_norm': 1.2945233583450317, 'learning_rate': 2.6315789473684212e-05, 'epoch': 50.0}\n"
     ]
    },
    {
     "data": {
      "application/vnd.jupyter.widget-view+json": {
       "model_id": "249433d37d994b3998e33751ccec8bb9",
       "version_major": 2,
       "version_minor": 0
      },
      "text/plain": [
       "  0%|          | 0/14 [00:00<?, ?it/s]"
      ]
     },
     "metadata": {},
     "output_type": "display_data"
    },
    {
     "name": "stderr",
     "output_type": "stream",
     "text": [
      "/Users/johnmoses/miniconda3/envs/mconda38/lib/python3.8/site-packages/sklearn/metrics/_classification.py:1471: UndefinedMetricWarning: Precision and F-score are ill-defined and being set to 0.0 in labels with no predicted samples. Use `zero_division` parameter to control this behavior.\n",
      "  _warn_prf(average, modifier, msg_start, len(result))\n",
      "/Users/johnmoses/miniconda3/envs/mconda38/lib/python3.8/site-packages/sklearn/metrics/_classification.py:1471: UndefinedMetricWarning: Recall and F-score are ill-defined and being set to 0.0 in labels with no true samples. Use `zero_division` parameter to control this behavior.\n",
      "  _warn_prf(average, modifier, msg_start, len(result))\n"
     ]
    },
    {
     "name": "stdout",
     "output_type": "stream",
     "text": [
      "{'eval_loss': 3.309480905532837, 'eval_Accuracy': 0.3474178403755869, 'eval_F1': 0.26999999999999996, 'eval_Precision': 0.2674603174603175, 'eval_Recall': 0.2976190476190476, 'eval_runtime': 0.6055, 'eval_samples_per_second': 351.798, 'eval_steps_per_second': 23.123, 'epoch': 50.0}\n",
      "{'loss': 0.1762, 'grad_norm': 0.9702227711677551, 'learning_rate': 2.5e-05, 'epoch': 52.5}\n"
     ]
    },
    {
     "data": {
      "application/vnd.jupyter.widget-view+json": {
       "model_id": "fbdde47b42c646c3b99a797a560312d9",
       "version_major": 2,
       "version_minor": 0
      },
      "text/plain": [
       "  0%|          | 0/14 [00:00<?, ?it/s]"
      ]
     },
     "metadata": {},
     "output_type": "display_data"
    },
    {
     "name": "stderr",
     "output_type": "stream",
     "text": [
      "/Users/johnmoses/miniconda3/envs/mconda38/lib/python3.8/site-packages/sklearn/metrics/_classification.py:1471: UndefinedMetricWarning: Precision and F-score are ill-defined and being set to 0.0 in labels with no predicted samples. Use `zero_division` parameter to control this behavior.\n",
      "  _warn_prf(average, modifier, msg_start, len(result))\n",
      "/Users/johnmoses/miniconda3/envs/mconda38/lib/python3.8/site-packages/sklearn/metrics/_classification.py:1471: UndefinedMetricWarning: Recall and F-score are ill-defined and being set to 0.0 in labels with no true samples. Use `zero_division` parameter to control this behavior.\n",
      "  _warn_prf(average, modifier, msg_start, len(result))\n"
     ]
    },
    {
     "name": "stdout",
     "output_type": "stream",
     "text": [
      "{'eval_loss': 3.269791841506958, 'eval_Accuracy': 0.3427230046948357, 'eval_F1': 0.27452830188679245, 'eval_Precision': 0.27712264150943394, 'eval_Recall': 0.29245283018867924, 'eval_runtime': 0.5979, 'eval_samples_per_second': 356.254, 'eval_steps_per_second': 23.416, 'epoch': 52.5}\n",
      "{'loss': 0.1508, 'grad_norm': 0.7599645256996155, 'learning_rate': 2.368421052631579e-05, 'epoch': 55.0}\n"
     ]
    },
    {
     "data": {
      "application/vnd.jupyter.widget-view+json": {
       "model_id": "c44e4864132649049a4c9c7b39c8b399",
       "version_major": 2,
       "version_minor": 0
      },
      "text/plain": [
       "  0%|          | 0/14 [00:00<?, ?it/s]"
      ]
     },
     "metadata": {},
     "output_type": "display_data"
    },
    {
     "name": "stderr",
     "output_type": "stream",
     "text": [
      "/Users/johnmoses/miniconda3/envs/mconda38/lib/python3.8/site-packages/sklearn/metrics/_classification.py:1471: UndefinedMetricWarning: Precision and F-score are ill-defined and being set to 0.0 in labels with no predicted samples. Use `zero_division` parameter to control this behavior.\n",
      "  _warn_prf(average, modifier, msg_start, len(result))\n",
      "/Users/johnmoses/miniconda3/envs/mconda38/lib/python3.8/site-packages/sklearn/metrics/_classification.py:1471: UndefinedMetricWarning: Recall and F-score are ill-defined and being set to 0.0 in labels with no true samples. Use `zero_division` parameter to control this behavior.\n",
      "  _warn_prf(average, modifier, msg_start, len(result))\n"
     ]
    },
    {
     "name": "stdout",
     "output_type": "stream",
     "text": [
      "{'eval_loss': 3.275515079498291, 'eval_Accuracy': 0.3568075117370892, 'eval_F1': 0.2777777777777778, 'eval_Precision': 0.27582159624413144, 'eval_Recall': 0.3028169014084507, 'eval_runtime': 0.5955, 'eval_samples_per_second': 357.701, 'eval_steps_per_second': 23.511, 'epoch': 55.0}\n",
      "{'loss': 0.1258, 'grad_norm': 0.5189951658248901, 'learning_rate': 2.236842105263158e-05, 'epoch': 57.5}\n"
     ]
    },
    {
     "data": {
      "application/vnd.jupyter.widget-view+json": {
       "model_id": "815abe39d3874aff829441fabe64aa1b",
       "version_major": 2,
       "version_minor": 0
      },
      "text/plain": [
       "  0%|          | 0/14 [00:00<?, ?it/s]"
      ]
     },
     "metadata": {},
     "output_type": "display_data"
    },
    {
     "name": "stderr",
     "output_type": "stream",
     "text": [
      "/Users/johnmoses/miniconda3/envs/mconda38/lib/python3.8/site-packages/sklearn/metrics/_classification.py:1471: UndefinedMetricWarning: Precision and F-score are ill-defined and being set to 0.0 in labels with no predicted samples. Use `zero_division` parameter to control this behavior.\n",
      "  _warn_prf(average, modifier, msg_start, len(result))\n",
      "/Users/johnmoses/miniconda3/envs/mconda38/lib/python3.8/site-packages/sklearn/metrics/_classification.py:1471: UndefinedMetricWarning: Recall and F-score are ill-defined and being set to 0.0 in labels with no true samples. Use `zero_division` parameter to control this behavior.\n",
      "  _warn_prf(average, modifier, msg_start, len(result))\n"
     ]
    },
    {
     "name": "stdout",
     "output_type": "stream",
     "text": [
      "{'eval_loss': 3.2483155727386475, 'eval_Accuracy': 0.3568075117370892, 'eval_F1': 0.2859649122807017, 'eval_Precision': 0.284688995215311, 'eval_Recall': 0.30861244019138756, 'eval_runtime': 0.6286, 'eval_samples_per_second': 338.863, 'eval_steps_per_second': 22.273, 'epoch': 57.5}\n",
      "{'loss': 0.114, 'grad_norm': 0.6564291715621948, 'learning_rate': 2.105263157894737e-05, 'epoch': 60.0}\n"
     ]
    },
    {
     "data": {
      "application/vnd.jupyter.widget-view+json": {
       "model_id": "35ac9507dc8044ba82d3fbf3984b9f56",
       "version_major": 2,
       "version_minor": 0
      },
      "text/plain": [
       "  0%|          | 0/14 [00:00<?, ?it/s]"
      ]
     },
     "metadata": {},
     "output_type": "display_data"
    },
    {
     "name": "stderr",
     "output_type": "stream",
     "text": [
      "/Users/johnmoses/miniconda3/envs/mconda38/lib/python3.8/site-packages/sklearn/metrics/_classification.py:1471: UndefinedMetricWarning: Precision and F-score are ill-defined and being set to 0.0 in labels with no predicted samples. Use `zero_division` parameter to control this behavior.\n",
      "  _warn_prf(average, modifier, msg_start, len(result))\n",
      "/Users/johnmoses/miniconda3/envs/mconda38/lib/python3.8/site-packages/sklearn/metrics/_classification.py:1471: UndefinedMetricWarning: Recall and F-score are ill-defined and being set to 0.0 in labels with no true samples. Use `zero_division` parameter to control this behavior.\n",
      "  _warn_prf(average, modifier, msg_start, len(result))\n"
     ]
    },
    {
     "name": "stdout",
     "output_type": "stream",
     "text": [
      "{'eval_loss': 3.239880084991455, 'eval_Accuracy': 0.36619718309859156, 'eval_F1': 0.28773584905660377, 'eval_Precision': 0.29127358490566035, 'eval_Recall': 0.3089622641509434, 'eval_runtime': 0.6126, 'eval_samples_per_second': 347.698, 'eval_steps_per_second': 22.853, 'epoch': 60.0}\n",
      "{'loss': 0.1013, 'grad_norm': 0.3476957678794861, 'learning_rate': 1.9736842105263158e-05, 'epoch': 62.5}\n"
     ]
    },
    {
     "data": {
      "application/vnd.jupyter.widget-view+json": {
       "model_id": "3199857061574ccfae02b7384260a935",
       "version_major": 2,
       "version_minor": 0
      },
      "text/plain": [
       "  0%|          | 0/14 [00:00<?, ?it/s]"
      ]
     },
     "metadata": {},
     "output_type": "display_data"
    },
    {
     "name": "stderr",
     "output_type": "stream",
     "text": [
      "/Users/johnmoses/miniconda3/envs/mconda38/lib/python3.8/site-packages/sklearn/metrics/_classification.py:1471: UndefinedMetricWarning: Precision and F-score are ill-defined and being set to 0.0 in labels with no predicted samples. Use `zero_division` parameter to control this behavior.\n",
      "  _warn_prf(average, modifier, msg_start, len(result))\n",
      "/Users/johnmoses/miniconda3/envs/mconda38/lib/python3.8/site-packages/sklearn/metrics/_classification.py:1471: UndefinedMetricWarning: Recall and F-score are ill-defined and being set to 0.0 in labels with no true samples. Use `zero_division` parameter to control this behavior.\n",
      "  _warn_prf(average, modifier, msg_start, len(result))\n"
     ]
    },
    {
     "name": "stdout",
     "output_type": "stream",
     "text": [
      "{'eval_loss': 3.2256810665130615, 'eval_Accuracy': 0.3615023474178404, 'eval_F1': 0.2842767295597484, 'eval_Precision': 0.28537735849056606, 'eval_Recall': 0.30424528301886794, 'eval_runtime': 0.6345, 'eval_samples_per_second': 335.675, 'eval_steps_per_second': 22.063, 'epoch': 62.5}\n",
      "{'loss': 0.0921, 'grad_norm': 0.41436076164245605, 'learning_rate': 1.8421052631578947e-05, 'epoch': 65.0}\n"
     ]
    },
    {
     "data": {
      "application/vnd.jupyter.widget-view+json": {
       "model_id": "e238d587975a457aa694e1bb16adc207",
       "version_major": 2,
       "version_minor": 0
      },
      "text/plain": [
       "  0%|          | 0/14 [00:00<?, ?it/s]"
      ]
     },
     "metadata": {},
     "output_type": "display_data"
    },
    {
     "name": "stderr",
     "output_type": "stream",
     "text": [
      "/Users/johnmoses/miniconda3/envs/mconda38/lib/python3.8/site-packages/sklearn/metrics/_classification.py:1471: UndefinedMetricWarning: Precision and F-score are ill-defined and being set to 0.0 in labels with no predicted samples. Use `zero_division` parameter to control this behavior.\n",
      "  _warn_prf(average, modifier, msg_start, len(result))\n",
      "/Users/johnmoses/miniconda3/envs/mconda38/lib/python3.8/site-packages/sklearn/metrics/_classification.py:1471: UndefinedMetricWarning: Recall and F-score are ill-defined and being set to 0.0 in labels with no true samples. Use `zero_division` parameter to control this behavior.\n",
      "  _warn_prf(average, modifier, msg_start, len(result))\n"
     ]
    },
    {
     "name": "stdout",
     "output_type": "stream",
     "text": [
      "{'eval_loss': 3.2238659858703613, 'eval_Accuracy': 0.37089201877934275, 'eval_F1': 0.29162717219589257, 'eval_Precision': 0.2950236966824645, 'eval_Recall': 0.3127962085308057, 'eval_runtime': 0.7138, 'eval_samples_per_second': 298.386, 'eval_steps_per_second': 19.612, 'epoch': 65.0}\n",
      "{'loss': 0.0827, 'grad_norm': 0.4520709812641144, 'learning_rate': 1.7105263157894737e-05, 'epoch': 67.5}\n"
     ]
    },
    {
     "data": {
      "application/vnd.jupyter.widget-view+json": {
       "model_id": "56fe9eef987f439d9ec09f0a784755bd",
       "version_major": 2,
       "version_minor": 0
      },
      "text/plain": [
       "  0%|          | 0/14 [00:00<?, ?it/s]"
      ]
     },
     "metadata": {},
     "output_type": "display_data"
    },
    {
     "name": "stderr",
     "output_type": "stream",
     "text": [
      "/Users/johnmoses/miniconda3/envs/mconda38/lib/python3.8/site-packages/sklearn/metrics/_classification.py:1471: UndefinedMetricWarning: Precision and F-score are ill-defined and being set to 0.0 in labels with no predicted samples. Use `zero_division` parameter to control this behavior.\n",
      "  _warn_prf(average, modifier, msg_start, len(result))\n",
      "/Users/johnmoses/miniconda3/envs/mconda38/lib/python3.8/site-packages/sklearn/metrics/_classification.py:1471: UndefinedMetricWarning: Recall and F-score are ill-defined and being set to 0.0 in labels with no true samples. Use `zero_division` parameter to control this behavior.\n",
      "  _warn_prf(average, modifier, msg_start, len(result))\n"
     ]
    },
    {
     "name": "stdout",
     "output_type": "stream",
     "text": [
      "{'eval_loss': 3.2327513694763184, 'eval_Accuracy': 0.3615023474178404, 'eval_F1': 0.2859399684044234, 'eval_Precision': 0.2863349131121643, 'eval_Recall': 0.3080568720379147, 'eval_runtime': 0.6861, 'eval_samples_per_second': 310.451, 'eval_steps_per_second': 20.405, 'epoch': 67.5}\n",
      "{'loss': 0.0805, 'grad_norm': 0.42651626467704773, 'learning_rate': 1.5789473684210526e-05, 'epoch': 70.0}\n"
     ]
    },
    {
     "data": {
      "application/vnd.jupyter.widget-view+json": {
       "model_id": "c1529a78720c4f33a1c5afc1934360c4",
       "version_major": 2,
       "version_minor": 0
      },
      "text/plain": [
       "  0%|          | 0/14 [00:00<?, ?it/s]"
      ]
     },
     "metadata": {},
     "output_type": "display_data"
    },
    {
     "name": "stderr",
     "output_type": "stream",
     "text": [
      "/Users/johnmoses/miniconda3/envs/mconda38/lib/python3.8/site-packages/sklearn/metrics/_classification.py:1471: UndefinedMetricWarning: Precision and F-score are ill-defined and being set to 0.0 in labels with no predicted samples. Use `zero_division` parameter to control this behavior.\n",
      "  _warn_prf(average, modifier, msg_start, len(result))\n",
      "/Users/johnmoses/miniconda3/envs/mconda38/lib/python3.8/site-packages/sklearn/metrics/_classification.py:1471: UndefinedMetricWarning: Recall and F-score are ill-defined and being set to 0.0 in labels with no true samples. Use `zero_division` parameter to control this behavior.\n",
      "  _warn_prf(average, modifier, msg_start, len(result))\n"
     ]
    },
    {
     "name": "stdout",
     "output_type": "stream",
     "text": [
      "{'eval_loss': 3.2280473709106445, 'eval_Accuracy': 0.37089201877934275, 'eval_F1': 0.29544025157232706, 'eval_Precision': 0.29874213836477986, 'eval_Recall': 0.3136792452830189, 'eval_runtime': 0.5878, 'eval_samples_per_second': 362.349, 'eval_steps_per_second': 23.816, 'epoch': 70.0}\n",
      "{'loss': 0.0726, 'grad_norm': 0.2804950177669525, 'learning_rate': 1.4473684210526317e-05, 'epoch': 72.5}\n"
     ]
    },
    {
     "data": {
      "application/vnd.jupyter.widget-view+json": {
       "model_id": "3f38701af4dd49ae8d6bacb5675739d2",
       "version_major": 2,
       "version_minor": 0
      },
      "text/plain": [
       "  0%|          | 0/14 [00:00<?, ?it/s]"
      ]
     },
     "metadata": {},
     "output_type": "display_data"
    },
    {
     "name": "stderr",
     "output_type": "stream",
     "text": [
      "/Users/johnmoses/miniconda3/envs/mconda38/lib/python3.8/site-packages/sklearn/metrics/_classification.py:1471: UndefinedMetricWarning: Precision and F-score are ill-defined and being set to 0.0 in labels with no predicted samples. Use `zero_division` parameter to control this behavior.\n",
      "  _warn_prf(average, modifier, msg_start, len(result))\n",
      "/Users/johnmoses/miniconda3/envs/mconda38/lib/python3.8/site-packages/sklearn/metrics/_classification.py:1471: UndefinedMetricWarning: Recall and F-score are ill-defined and being set to 0.0 in labels with no true samples. Use `zero_division` parameter to control this behavior.\n",
      "  _warn_prf(average, modifier, msg_start, len(result))\n"
     ]
    },
    {
     "name": "stdout",
     "output_type": "stream",
     "text": [
      "{'eval_loss': 3.2283058166503906, 'eval_Accuracy': 0.36619718309859156, 'eval_F1': 0.2895734597156398, 'eval_Precision': 0.2938388625592417, 'eval_Recall': 0.3080568720379147, 'eval_runtime': 0.6297, 'eval_samples_per_second': 338.278, 'eval_steps_per_second': 22.234, 'epoch': 72.5}\n",
      "{'loss': 0.0702, 'grad_norm': 0.7277926802635193, 'learning_rate': 1.3157894736842106e-05, 'epoch': 75.0}\n"
     ]
    },
    {
     "data": {
      "application/vnd.jupyter.widget-view+json": {
       "model_id": "5960862eae7940f88ce5b01ed592d40e",
       "version_major": 2,
       "version_minor": 0
      },
      "text/plain": [
       "  0%|          | 0/14 [00:00<?, ?it/s]"
      ]
     },
     "metadata": {},
     "output_type": "display_data"
    },
    {
     "name": "stderr",
     "output_type": "stream",
     "text": [
      "/Users/johnmoses/miniconda3/envs/mconda38/lib/python3.8/site-packages/sklearn/metrics/_classification.py:1471: UndefinedMetricWarning: Precision and F-score are ill-defined and being set to 0.0 in labels with no predicted samples. Use `zero_division` parameter to control this behavior.\n",
      "  _warn_prf(average, modifier, msg_start, len(result))\n",
      "/Users/johnmoses/miniconda3/envs/mconda38/lib/python3.8/site-packages/sklearn/metrics/_classification.py:1471: UndefinedMetricWarning: Recall and F-score are ill-defined and being set to 0.0 in labels with no true samples. Use `zero_division` parameter to control this behavior.\n",
      "  _warn_prf(average, modifier, msg_start, len(result))\n"
     ]
    },
    {
     "name": "stdout",
     "output_type": "stream",
     "text": [
      "{'eval_loss': 3.235275983810425, 'eval_Accuracy': 0.36619718309859156, 'eval_F1': 0.28773584905660377, 'eval_Precision': 0.29127358490566035, 'eval_Recall': 0.3089622641509434, 'eval_runtime': 0.6056, 'eval_samples_per_second': 351.693, 'eval_steps_per_second': 23.116, 'epoch': 75.0}\n",
      "{'loss': 0.0653, 'grad_norm': 0.33961716294288635, 'learning_rate': 1.1842105263157895e-05, 'epoch': 77.5}\n"
     ]
    },
    {
     "data": {
      "application/vnd.jupyter.widget-view+json": {
       "model_id": "7a78a74cff6b4c6993c29e6fc3b5d423",
       "version_major": 2,
       "version_minor": 0
      },
      "text/plain": [
       "  0%|          | 0/14 [00:00<?, ?it/s]"
      ]
     },
     "metadata": {},
     "output_type": "display_data"
    },
    {
     "name": "stderr",
     "output_type": "stream",
     "text": [
      "/Users/johnmoses/miniconda3/envs/mconda38/lib/python3.8/site-packages/sklearn/metrics/_classification.py:1471: UndefinedMetricWarning: Precision and F-score are ill-defined and being set to 0.0 in labels with no predicted samples. Use `zero_division` parameter to control this behavior.\n",
      "  _warn_prf(average, modifier, msg_start, len(result))\n",
      "/Users/johnmoses/miniconda3/envs/mconda38/lib/python3.8/site-packages/sklearn/metrics/_classification.py:1471: UndefinedMetricWarning: Recall and F-score are ill-defined and being set to 0.0 in labels with no true samples. Use `zero_division` parameter to control this behavior.\n",
      "  _warn_prf(average, modifier, msg_start, len(result))\n"
     ]
    },
    {
     "name": "stdout",
     "output_type": "stream",
     "text": [
      "{'eval_loss': 3.229926586151123, 'eval_Accuracy': 0.37089201877934275, 'eval_F1': 0.29126984126984123, 'eval_Precision': 0.2916666666666667, 'eval_Recall': 0.3142857142857143, 'eval_runtime': 0.5989, 'eval_samples_per_second': 355.622, 'eval_steps_per_second': 23.374, 'epoch': 77.5}\n",
      "{'loss': 0.0631, 'grad_norm': 0.37561655044555664, 'learning_rate': 1.0526315789473684e-05, 'epoch': 80.0}\n"
     ]
    },
    {
     "data": {
      "application/vnd.jupyter.widget-view+json": {
       "model_id": "30c5f80fcf564df1b0febd50bd35543f",
       "version_major": 2,
       "version_minor": 0
      },
      "text/plain": [
       "  0%|          | 0/14 [00:00<?, ?it/s]"
      ]
     },
     "metadata": {},
     "output_type": "display_data"
    },
    {
     "name": "stderr",
     "output_type": "stream",
     "text": [
      "/Users/johnmoses/miniconda3/envs/mconda38/lib/python3.8/site-packages/sklearn/metrics/_classification.py:1471: UndefinedMetricWarning: Precision and F-score are ill-defined and being set to 0.0 in labels with no predicted samples. Use `zero_division` parameter to control this behavior.\n",
      "  _warn_prf(average, modifier, msg_start, len(result))\n",
      "/Users/johnmoses/miniconda3/envs/mconda38/lib/python3.8/site-packages/sklearn/metrics/_classification.py:1471: UndefinedMetricWarning: Recall and F-score are ill-defined and being set to 0.0 in labels with no true samples. Use `zero_division` parameter to control this behavior.\n",
      "  _warn_prf(average, modifier, msg_start, len(result))\n"
     ]
    },
    {
     "name": "stdout",
     "output_type": "stream",
     "text": [
      "{'eval_loss': 3.2308387756347656, 'eval_Accuracy': 0.3755868544600939, 'eval_F1': 0.29523809523809524, 'eval_Precision': 0.2972222222222222, 'eval_Recall': 0.31666666666666665, 'eval_runtime': 0.5891, 'eval_samples_per_second': 361.588, 'eval_steps_per_second': 23.766, 'epoch': 80.0}\n",
      "{'loss': 0.0604, 'grad_norm': 0.3354123532772064, 'learning_rate': 9.210526315789474e-06, 'epoch': 82.5}\n"
     ]
    },
    {
     "data": {
      "application/vnd.jupyter.widget-view+json": {
       "model_id": "52e577f47aa142daac5470cd1df3ad80",
       "version_major": 2,
       "version_minor": 0
      },
      "text/plain": [
       "  0%|          | 0/14 [00:00<?, ?it/s]"
      ]
     },
     "metadata": {},
     "output_type": "display_data"
    },
    {
     "name": "stderr",
     "output_type": "stream",
     "text": [
      "/Users/johnmoses/miniconda3/envs/mconda38/lib/python3.8/site-packages/sklearn/metrics/_classification.py:1471: UndefinedMetricWarning: Precision and F-score are ill-defined and being set to 0.0 in labels with no predicted samples. Use `zero_division` parameter to control this behavior.\n",
      "  _warn_prf(average, modifier, msg_start, len(result))\n",
      "/Users/johnmoses/miniconda3/envs/mconda38/lib/python3.8/site-packages/sklearn/metrics/_classification.py:1471: UndefinedMetricWarning: Recall and F-score are ill-defined and being set to 0.0 in labels with no true samples. Use `zero_division` parameter to control this behavior.\n",
      "  _warn_prf(average, modifier, msg_start, len(result))\n"
     ]
    },
    {
     "name": "stdout",
     "output_type": "stream",
     "text": [
      "{'eval_loss': 3.2324984073638916, 'eval_Accuracy': 0.37089201877934275, 'eval_F1': 0.29539682539682544, 'eval_Precision': 0.298015873015873, 'eval_Recall': 0.31666666666666665, 'eval_runtime': 0.6379, 'eval_samples_per_second': 333.91, 'eval_steps_per_second': 21.947, 'epoch': 82.5}\n",
      "{'loss': 0.0587, 'grad_norm': 0.8634827136993408, 'learning_rate': 7.894736842105263e-06, 'epoch': 85.0}\n"
     ]
    },
    {
     "data": {
      "application/vnd.jupyter.widget-view+json": {
       "model_id": "a73959b5df454f0bbbd6a3eee1dbda7d",
       "version_major": 2,
       "version_minor": 0
      },
      "text/plain": [
       "  0%|          | 0/14 [00:00<?, ?it/s]"
      ]
     },
     "metadata": {},
     "output_type": "display_data"
    },
    {
     "name": "stderr",
     "output_type": "stream",
     "text": [
      "/Users/johnmoses/miniconda3/envs/mconda38/lib/python3.8/site-packages/sklearn/metrics/_classification.py:1471: UndefinedMetricWarning: Precision and F-score are ill-defined and being set to 0.0 in labels with no predicted samples. Use `zero_division` parameter to control this behavior.\n",
      "  _warn_prf(average, modifier, msg_start, len(result))\n",
      "/Users/johnmoses/miniconda3/envs/mconda38/lib/python3.8/site-packages/sklearn/metrics/_classification.py:1471: UndefinedMetricWarning: Recall and F-score are ill-defined and being set to 0.0 in labels with no true samples. Use `zero_division` parameter to control this behavior.\n",
      "  _warn_prf(average, modifier, msg_start, len(result))\n"
     ]
    },
    {
     "name": "stdout",
     "output_type": "stream",
     "text": [
      "{'eval_loss': 3.233325481414795, 'eval_Accuracy': 0.3755868544600939, 'eval_F1': 0.2944444444444444, 'eval_Precision': 0.29642857142857143, 'eval_Recall': 0.31666666666666665, 'eval_runtime': 0.6286, 'eval_samples_per_second': 338.865, 'eval_steps_per_second': 22.273, 'epoch': 85.0}\n",
      "{'loss': 0.0563, 'grad_norm': 0.2906375527381897, 'learning_rate': 6.578947368421053e-06, 'epoch': 87.5}\n"
     ]
    },
    {
     "data": {
      "application/vnd.jupyter.widget-view+json": {
       "model_id": "3c42126972454f4f9da6befbdb0bffb8",
       "version_major": 2,
       "version_minor": 0
      },
      "text/plain": [
       "  0%|          | 0/14 [00:00<?, ?it/s]"
      ]
     },
     "metadata": {},
     "output_type": "display_data"
    },
    {
     "name": "stderr",
     "output_type": "stream",
     "text": [
      "/Users/johnmoses/miniconda3/envs/mconda38/lib/python3.8/site-packages/sklearn/metrics/_classification.py:1471: UndefinedMetricWarning: Precision and F-score are ill-defined and being set to 0.0 in labels with no predicted samples. Use `zero_division` parameter to control this behavior.\n",
      "  _warn_prf(average, modifier, msg_start, len(result))\n",
      "/Users/johnmoses/miniconda3/envs/mconda38/lib/python3.8/site-packages/sklearn/metrics/_classification.py:1471: UndefinedMetricWarning: Recall and F-score are ill-defined and being set to 0.0 in labels with no true samples. Use `zero_division` parameter to control this behavior.\n",
      "  _warn_prf(average, modifier, msg_start, len(result))\n"
     ]
    },
    {
     "name": "stdout",
     "output_type": "stream",
     "text": [
      "{'eval_loss': 3.2343297004699707, 'eval_Accuracy': 0.3755868544600939, 'eval_F1': 0.29654088050314464, 'eval_Precision': 0.3007075471698113, 'eval_Recall': 0.3160377358490566, 'eval_runtime': 0.6857, 'eval_samples_per_second': 310.647, 'eval_steps_per_second': 20.418, 'epoch': 87.5}\n",
      "{'loss': 0.0555, 'grad_norm': 0.6995247006416321, 'learning_rate': 5.263157894736842e-06, 'epoch': 90.0}\n"
     ]
    },
    {
     "data": {
      "application/vnd.jupyter.widget-view+json": {
       "model_id": "80dfa1c7a09b4095b6cd92121b940323",
       "version_major": 2,
       "version_minor": 0
      },
      "text/plain": [
       "  0%|          | 0/14 [00:00<?, ?it/s]"
      ]
     },
     "metadata": {},
     "output_type": "display_data"
    },
    {
     "name": "stderr",
     "output_type": "stream",
     "text": [
      "/Users/johnmoses/miniconda3/envs/mconda38/lib/python3.8/site-packages/sklearn/metrics/_classification.py:1471: UndefinedMetricWarning: Precision and F-score are ill-defined and being set to 0.0 in labels with no predicted samples. Use `zero_division` parameter to control this behavior.\n",
      "  _warn_prf(average, modifier, msg_start, len(result))\n",
      "/Users/johnmoses/miniconda3/envs/mconda38/lib/python3.8/site-packages/sklearn/metrics/_classification.py:1471: UndefinedMetricWarning: Recall and F-score are ill-defined and being set to 0.0 in labels with no true samples. Use `zero_division` parameter to control this behavior.\n",
      "  _warn_prf(average, modifier, msg_start, len(result))\n"
     ]
    },
    {
     "name": "stdout",
     "output_type": "stream",
     "text": [
      "{'eval_loss': 3.233208656311035, 'eval_Accuracy': 0.37089201877934275, 'eval_F1': 0.2928571428571428, 'eval_Precision': 0.29642857142857143, 'eval_Recall': 0.3142857142857143, 'eval_runtime': 0.6112, 'eval_samples_per_second': 348.517, 'eval_steps_per_second': 22.907, 'epoch': 90.0}\n",
      "{'loss': 0.0535, 'grad_norm': 0.2603815793991089, 'learning_rate': 3.9473684210526315e-06, 'epoch': 92.5}\n"
     ]
    },
    {
     "data": {
      "application/vnd.jupyter.widget-view+json": {
       "model_id": "08296348ba5d43a3b5572312571e06ad",
       "version_major": 2,
       "version_minor": 0
      },
      "text/plain": [
       "  0%|          | 0/14 [00:00<?, ?it/s]"
      ]
     },
     "metadata": {},
     "output_type": "display_data"
    },
    {
     "name": "stderr",
     "output_type": "stream",
     "text": [
      "/Users/johnmoses/miniconda3/envs/mconda38/lib/python3.8/site-packages/sklearn/metrics/_classification.py:1471: UndefinedMetricWarning: Precision and F-score are ill-defined and being set to 0.0 in labels with no predicted samples. Use `zero_division` parameter to control this behavior.\n",
      "  _warn_prf(average, modifier, msg_start, len(result))\n",
      "/Users/johnmoses/miniconda3/envs/mconda38/lib/python3.8/site-packages/sklearn/metrics/_classification.py:1471: UndefinedMetricWarning: Recall and F-score are ill-defined and being set to 0.0 in labels with no true samples. Use `zero_division` parameter to control this behavior.\n",
      "  _warn_prf(average, modifier, msg_start, len(result))\n"
     ]
    },
    {
     "name": "stdout",
     "output_type": "stream",
     "text": [
      "{'eval_loss': 3.2339847087860107, 'eval_Accuracy': 0.37089201877934275, 'eval_F1': 0.2936507936507936, 'eval_Precision': 0.2972222222222222, 'eval_Recall': 0.3142857142857143, 'eval_runtime': 0.6611, 'eval_samples_per_second': 322.178, 'eval_steps_per_second': 21.176, 'epoch': 92.5}\n",
      "{'loss': 0.0541, 'grad_norm': 0.26633894443511963, 'learning_rate': 2.631578947368421e-06, 'epoch': 95.0}\n"
     ]
    },
    {
     "data": {
      "application/vnd.jupyter.widget-view+json": {
       "model_id": "396e29962c584681a50161da51bfc820",
       "version_major": 2,
       "version_minor": 0
      },
      "text/plain": [
       "  0%|          | 0/14 [00:00<?, ?it/s]"
      ]
     },
     "metadata": {},
     "output_type": "display_data"
    },
    {
     "name": "stderr",
     "output_type": "stream",
     "text": [
      "/Users/johnmoses/miniconda3/envs/mconda38/lib/python3.8/site-packages/sklearn/metrics/_classification.py:1471: UndefinedMetricWarning: Precision and F-score are ill-defined and being set to 0.0 in labels with no predicted samples. Use `zero_division` parameter to control this behavior.\n",
      "  _warn_prf(average, modifier, msg_start, len(result))\n",
      "/Users/johnmoses/miniconda3/envs/mconda38/lib/python3.8/site-packages/sklearn/metrics/_classification.py:1471: UndefinedMetricWarning: Recall and F-score are ill-defined and being set to 0.0 in labels with no true samples. Use `zero_division` parameter to control this behavior.\n",
      "  _warn_prf(average, modifier, msg_start, len(result))\n"
     ]
    },
    {
     "name": "stdout",
     "output_type": "stream",
     "text": [
      "{'eval_loss': 3.233236789703369, 'eval_Accuracy': 0.37089201877934275, 'eval_F1': 0.2936507936507936, 'eval_Precision': 0.2972222222222222, 'eval_Recall': 0.3142857142857143, 'eval_runtime': 0.5917, 'eval_samples_per_second': 359.966, 'eval_steps_per_second': 23.66, 'epoch': 95.0}\n",
      "{'loss': 0.0528, 'grad_norm': 0.2787396311759949, 'learning_rate': 1.3157894736842106e-06, 'epoch': 97.5}\n"
     ]
    },
    {
     "data": {
      "application/vnd.jupyter.widget-view+json": {
       "model_id": "7fecfd74a9d34c989273acfd2407a3a3",
       "version_major": 2,
       "version_minor": 0
      },
      "text/plain": [
       "  0%|          | 0/14 [00:00<?, ?it/s]"
      ]
     },
     "metadata": {},
     "output_type": "display_data"
    },
    {
     "name": "stderr",
     "output_type": "stream",
     "text": [
      "/Users/johnmoses/miniconda3/envs/mconda38/lib/python3.8/site-packages/sklearn/metrics/_classification.py:1471: UndefinedMetricWarning: Precision and F-score are ill-defined and being set to 0.0 in labels with no predicted samples. Use `zero_division` parameter to control this behavior.\n",
      "  _warn_prf(average, modifier, msg_start, len(result))\n",
      "/Users/johnmoses/miniconda3/envs/mconda38/lib/python3.8/site-packages/sklearn/metrics/_classification.py:1471: UndefinedMetricWarning: Recall and F-score are ill-defined and being set to 0.0 in labels with no true samples. Use `zero_division` parameter to control this behavior.\n",
      "  _warn_prf(average, modifier, msg_start, len(result))\n"
     ]
    },
    {
     "name": "stdout",
     "output_type": "stream",
     "text": [
      "{'eval_loss': 3.233506679534912, 'eval_Accuracy': 0.37089201877934275, 'eval_F1': 0.2928571428571428, 'eval_Precision': 0.29642857142857143, 'eval_Recall': 0.3142857142857143, 'eval_runtime': 0.591, 'eval_samples_per_second': 360.412, 'eval_steps_per_second': 23.689, 'epoch': 97.5}\n",
      "{'loss': 0.0526, 'grad_norm': 0.23745191097259521, 'learning_rate': 0.0, 'epoch': 100.0}\n"
     ]
    },
    {
     "data": {
      "application/vnd.jupyter.widget-view+json": {
       "model_id": "ff0cb66f3ba842809703d04d77497d80",
       "version_major": 2,
       "version_minor": 0
      },
      "text/plain": [
       "  0%|          | 0/14 [00:00<?, ?it/s]"
      ]
     },
     "metadata": {},
     "output_type": "display_data"
    },
    {
     "name": "stderr",
     "output_type": "stream",
     "text": [
      "/Users/johnmoses/miniconda3/envs/mconda38/lib/python3.8/site-packages/sklearn/metrics/_classification.py:1471: UndefinedMetricWarning: Precision and F-score are ill-defined and being set to 0.0 in labels with no predicted samples. Use `zero_division` parameter to control this behavior.\n",
      "  _warn_prf(average, modifier, msg_start, len(result))\n",
      "/Users/johnmoses/miniconda3/envs/mconda38/lib/python3.8/site-packages/sklearn/metrics/_classification.py:1471: UndefinedMetricWarning: Recall and F-score are ill-defined and being set to 0.0 in labels with no true samples. Use `zero_division` parameter to control this behavior.\n",
      "  _warn_prf(average, modifier, msg_start, len(result))\n"
     ]
    },
    {
     "name": "stdout",
     "output_type": "stream",
     "text": [
      "{'eval_loss': 3.2338368892669678, 'eval_Accuracy': 0.37089201877934275, 'eval_F1': 0.2928571428571428, 'eval_Precision': 0.29642857142857143, 'eval_Recall': 0.3142857142857143, 'eval_runtime': 0.6177, 'eval_samples_per_second': 344.843, 'eval_steps_per_second': 22.666, 'epoch': 100.0}\n",
      "{'train_runtime': 830.2487, 'train_samples_per_second': 76.724, 'train_steps_per_second': 2.409, 'train_loss': 1.1354074995517731, 'epoch': 100.0}\n",
      "CPU times: user 12min 5s, sys: 48.4 s, total: 12min 53s\n",
      "Wall time: 13min 50s\n"
     ]
    },
    {
     "data": {
      "text/plain": [
       "TrainOutput(global_step=2000, training_loss=1.1354074995517731, metrics={'train_runtime': 830.2487, 'train_samples_per_second': 76.724, 'train_steps_per_second': 2.409, 'total_flos': 459421689199200.0, 'train_loss': 1.1354074995517731, 'epoch': 100.0})"
      ]
     },
     "execution_count": 41,
     "metadata": {},
     "output_type": "execute_result"
    }
   ],
   "source": [
    "%%time\n",
    "trainer.train()"
   ]
  },
  {
   "cell_type": "markdown",
   "metadata": {},
   "source": [
    "Evaluate trainer"
   ]
  },
  {
   "cell_type": "code",
   "execution_count": 42,
   "metadata": {},
   "outputs": [
    {
     "data": {
      "application/vnd.jupyter.widget-view+json": {
       "model_id": "be303678b2ae4f319a944f89e1f50c8e",
       "version_major": 2,
       "version_minor": 0
      },
      "text/plain": [
       "  0%|          | 0/40 [00:00<?, ?it/s]"
      ]
     },
     "metadata": {},
     "output_type": "display_data"
    },
    {
     "data": {
      "application/vnd.jupyter.widget-view+json": {
       "model_id": "233b5a9332b447f6be28271e0e364857",
       "version_major": 2,
       "version_minor": 0
      },
      "text/plain": [
       "  0%|          | 0/14 [00:00<?, ?it/s]"
      ]
     },
     "metadata": {},
     "output_type": "display_data"
    },
    {
     "name": "stderr",
     "output_type": "stream",
     "text": [
      "/Users/johnmoses/miniconda3/envs/mconda38/lib/python3.8/site-packages/sklearn/metrics/_classification.py:1471: UndefinedMetricWarning: Precision and F-score are ill-defined and being set to 0.0 in labels with no predicted samples. Use `zero_division` parameter to control this behavior.\n",
      "  _warn_prf(average, modifier, msg_start, len(result))\n",
      "/Users/johnmoses/miniconda3/envs/mconda38/lib/python3.8/site-packages/sklearn/metrics/_classification.py:1471: UndefinedMetricWarning: Recall and F-score are ill-defined and being set to 0.0 in labels with no true samples. Use `zero_division` parameter to control this behavior.\n",
      "  _warn_prf(average, modifier, msg_start, len(result))\n"
     ]
    },
    {
     "data": {
      "text/html": [
       "<div>\n",
       "<style scoped>\n",
       "    .dataframe tbody tr th:only-of-type {\n",
       "        vertical-align: middle;\n",
       "    }\n",
       "\n",
       "    .dataframe tbody tr th {\n",
       "        vertical-align: top;\n",
       "    }\n",
       "\n",
       "    .dataframe thead th {\n",
       "        text-align: right;\n",
       "    }\n",
       "</style>\n",
       "<table border=\"1\" class=\"dataframe\">\n",
       "  <thead>\n",
       "    <tr style=\"text-align: right;\">\n",
       "      <th></th>\n",
       "      <th>eval_loss</th>\n",
       "      <th>eval_Accuracy</th>\n",
       "      <th>eval_F1</th>\n",
       "      <th>eval_Precision</th>\n",
       "      <th>eval_Recall</th>\n",
       "    </tr>\n",
       "  </thead>\n",
       "  <tbody>\n",
       "    <tr>\n",
       "      <th>train</th>\n",
       "      <td>0.036079</td>\n",
       "      <td>0.998430</td>\n",
       "      <td>0.998384</td>\n",
       "      <td>0.999273</td>\n",
       "      <td>0.998182</td>\n",
       "    </tr>\n",
       "    <tr>\n",
       "      <th>test</th>\n",
       "      <td>3.233837</td>\n",
       "      <td>0.370892</td>\n",
       "      <td>0.292857</td>\n",
       "      <td>0.296429</td>\n",
       "      <td>0.314286</td>\n",
       "    </tr>\n",
       "  </tbody>\n",
       "</table>\n",
       "</div>"
      ],
      "text/plain": [
       "       eval_loss  eval_Accuracy   eval_F1  eval_Precision  eval_Recall\n",
       "train   0.036079       0.998430  0.998384        0.999273     0.998182\n",
       "test    3.233837       0.370892  0.292857        0.296429     0.314286"
      ]
     },
     "execution_count": 42,
     "metadata": {},
     "output_type": "execute_result"
    }
   ],
   "source": [
    "q=[trainer.evaluate(eval_dataset=df2) for df2 in [train_dataloader, test_dataloader]]\n",
    "pd.DataFrame(q, index=[\"train\",\"test\"]).iloc[:,:5]"
   ]
  },
  {
   "cell_type": "markdown",
   "metadata": {},
   "source": [
    "Save model and tokenizer"
   ]
  },
  {
   "cell_type": "code",
   "execution_count": 43,
   "metadata": {},
   "outputs": [],
   "source": [
    "model_path = \"base\""
   ]
  },
  {
   "cell_type": "code",
   "execution_count": 44,
   "metadata": {},
   "outputs": [
    {
     "data": {
      "text/plain": [
       "('base/tokenizer_config.json',\n",
       " 'base/special_tokens_map.json',\n",
       " 'base/vocab.txt',\n",
       " 'base/added_tokens.json')"
      ]
     },
     "execution_count": 44,
     "metadata": {},
     "output_type": "execute_result"
    }
   ],
   "source": [
    "trainer.save_model(model_path)\n",
    "tokenizer.save_pretrained(model_path)"
   ]
  },
  {
   "cell_type": "markdown",
   "metadata": {},
   "source": [
    "Load model and tokenizer"
   ]
  },
  {
   "cell_type": "code",
   "execution_count": 50,
   "metadata": {},
   "outputs": [],
   "source": [
    "new_model = BertForSequenceClassification.from_pretrained(model_path)\n",
    "new_tokenizer= BertTokenizerFast.from_pretrained(model_path)"
   ]
  },
  {
   "cell_type": "code",
   "execution_count": 46,
   "metadata": {},
   "outputs": [],
   "source": [
    "pipe= pipeline(\"sentiment-analysis\", model=new_model, tokenizer=new_tokenizer, device='mps')"
   ]
  },
  {
   "cell_type": "code",
   "execution_count": 47,
   "metadata": {},
   "outputs": [
    {
     "data": {
      "text/plain": [
       "[{'label': 'greeting', 'score': 0.9877205491065979}]"
      ]
     },
     "execution_count": 47,
     "metadata": {},
     "output_type": "execute_result"
    }
   ],
   "source": [
    "pipe(\"Hello\")"
   ]
  },
  {
   "cell_type": "markdown",
   "metadata": {},
   "source": [
    "## Predict"
   ]
  },
  {
   "cell_type": "code",
   "execution_count": 48,
   "metadata": {},
   "outputs": [],
   "source": [
    "def predict(text):\n",
    "    # Tokenize the input text and convert it to PyTorch tensors\n",
    "    inputs = new_tokenizer(text, padding=True, truncation=True, max_length=512, return_tensors=\"pt\").to(\"cpu\")\n",
    "\n",
    "    # Pass the input tensors through the model\n",
    "    outputs = new_model(**inputs)\n",
    "\n",
    "    # Softmax the output to get probabilities\n",
    "    probs = outputs[0].softmax(1)\n",
    "\n",
    "    # Get the predicted label index\n",
    "    pred_label_idx = probs.argmax()\n",
    "\n",
    "    # Convert the predicted label index to the actual label using model configuration\n",
    "    pred_label = new_model.config.id2label[pred_label_idx.item()]\n",
    "\n",
    "    return pred_label\n"
   ]
  },
  {
   "cell_type": "code",
   "execution_count": 51,
   "metadata": {},
   "outputs": [
    {
     "name": "stdout",
     "output_type": "stream",
     "text": [
      "Intel MKL WARNING: Support of Intel(R) Streaming SIMD Extensions 4.2 (Intel(R) SSE4.2) enabled only processors has been deprecated. Intel oneAPI Math Kernel Library 2025.0 will require Intel(R) Advanced Vector Extensions (Intel(R) AVX) instructions.\n"
     ]
    },
    {
     "data": {
      "text/plain": [
       "'greeting'"
      ]
     },
     "execution_count": 51,
     "metadata": {},
     "output_type": "execute_result"
    }
   ],
   "source": [
    "text = \"Hello\"\n",
    "predict(text)"
   ]
  },
  {
   "cell_type": "code",
   "execution_count": 52,
   "metadata": {},
   "outputs": [],
   "source": [
    "def model_response(text):\n",
    "    response = ''\n",
    "    score = pipe(text)[0]['score']\n",
    "    tag = pipe(text)[0]['label']\n",
    "    if score < 0.8:\n",
    "        response += \"Don't understand\"\n",
    "    else:\n",
    "        label = new_model.config.label2id[pipe(text)[0]['label']]\n",
    "        response = random.choice(intents['intents'][label]['responses'])\n",
    "    return response, tag"
   ]
  },
  {
   "cell_type": "code",
   "execution_count": 58,
   "metadata": {},
   "outputs": [
    {
     "data": {
      "text/plain": [
       "('Hello', 'greeting')"
      ]
     },
     "execution_count": 58,
     "metadata": {},
     "output_type": "execute_result"
    }
   ],
   "source": [
    "model_response('hi')"
   ]
  }
 ],
 "metadata": {
  "kernelspec": {
   "display_name": "mconda38",
   "language": "python",
   "name": "python3"
  },
  "language_info": {
   "codemirror_mode": {
    "name": "ipython",
    "version": 3
   },
   "file_extension": ".py",
   "mimetype": "text/x-python",
   "name": "python",
   "nbconvert_exporter": "python",
   "pygments_lexer": "ipython3",
   "version": "3.8.19"
  }
 },
 "nbformat": 4,
 "nbformat_minor": 2
}
